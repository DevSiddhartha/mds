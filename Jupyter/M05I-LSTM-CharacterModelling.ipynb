{
    "nbformat_minor": 1, 
    "cells": [
        {
            "source": "# Modern Data Science \n**(Module 05: Deep Learning)**\n\n---\n- Materials in this module include resources collected from various open-source online repositories.\n- You are free to use, change and distribute this package.\n\nPrepared by and for \n**Student Members** |\n2006-2018 [TULIP Lab](http://www.tulip.org.au), Australia\n\n---\n\n\n# Session I - Text generation using RNN/LSTM (Character-level)\n\n\nThis code implements a Recurrent Neural Network with LSTM/RNN units for training/sampling from character-level language models. In other words, the model takes a text file as input and trains the RNN network that learns to predict the next character in a sequence.  \nThe RNN can then be used to generate text character by character that will look like the original training data. \n\n\n\n\n** References and additional reading and resources**\n* This material is from [CognitiveClass.AI](https://cognitiveclass.ai)\n* Created by: <a href = \"https://linkedin.com/in/saeedaghabozorgi\"> Saeed Aghabozorgi </a>\n* This code is based on this [blog](http://karpathy.github.io/2015/05/21/rnn-effectiveness/), and the code is an step-by-step implimentation of the [character-level implimentation](https://github.com/crazydonkey200/tensorflow-char-rnn).\n* This notebook and its source code are released under the terms of the [MIT License](https://bigdatauniversity.com/mit-license/).\n\n\n---\n\n", 
            "cell_type": "markdown", 
            "metadata": {}
        }, 
        {
            "source": "First, import the requiered libraries:", 
            "cell_type": "markdown", 
            "metadata": {}
        }, 
        {
            "execution_count": 1, 
            "cell_type": "code", 
            "metadata": {}, 
            "outputs": [], 
            "source": "import tensorflow as tf\nimport time\nimport codecs\nimport os\nimport collections\nfrom six.moves import cPickle\nimport numpy as np\n#from tensorflow.python.ops import rnn_cell\n#from tensorflow.python.ops import seq2seq"
        }, 
        {
            "source": "### Data loader\nThe following cell is a class that help to read data from input file.", 
            "cell_type": "markdown", 
            "metadata": {}
        }, 
        {
            "execution_count": 2, 
            "cell_type": "code", 
            "metadata": {}, 
            "outputs": [], 
            "source": "class TextLoader():\n    def __init__(self, data_dir, batch_size, seq_length, encoding='utf-8'):\n        self.data_dir = data_dir\n        self.batch_size = batch_size\n        self.seq_length = seq_length\n        self.encoding = encoding\n\n        input_file = os.path.join(data_dir, \"input.txt\")\n        vocab_file = os.path.join(data_dir, \"vocab.pkl\")\n        tensor_file = os.path.join(data_dir, \"data.npy\")\n\n        if not (os.path.exists(vocab_file) and os.path.exists(tensor_file)):\n            print(\"reading text file\")\n            self.preprocess(input_file, vocab_file, tensor_file)\n        else:\n            print(\"loading preprocessed files\")\n            self.load_preprocessed(vocab_file, tensor_file)\n        self.create_batches()\n        self.reset_batch_pointer()\n\n    def preprocess(self, input_file, vocab_file, tensor_file):\n        with codecs.open(input_file, \"r\", encoding=self.encoding) as f:\n            data = f.read()\n        counter = collections.Counter(data)\n        count_pairs = sorted(counter.items(), key=lambda x: -x[1])\n        self.chars, _ = zip(*count_pairs)\n        self.vocab_size = len(self.chars)\n        self.vocab = dict(zip(self.chars, range(len(self.chars))))\n        with open(vocab_file, 'wb') as f:\n            cPickle.dump(self.chars, f)\n        self.tensor = np.array(list(map(self.vocab.get, data)))\n        np.save(tensor_file, self.tensor)\n\n    def load_preprocessed(self, vocab_file, tensor_file):\n        with open(vocab_file, 'rb') as f:\n            self.chars = cPickle.load(f)\n        self.vocab_size = len(self.chars)\n        self.vocab = dict(zip(self.chars, range(len(self.chars))))\n        self.tensor = np.load(tensor_file)\n        self.num_batches = int(self.tensor.size / (self.batch_size * self.seq_length))\n\n    def create_batches(self):\n        self.num_batches = int(self.tensor.size / (self.batch_size * self.seq_length))\n\n        # When the data (tensor) is too small, let's give them a better error message\n        if self.num_batches==0:\n            assert False, \"Not enough data. Make seq_length and batch_size small.\"\n\n        self.tensor = self.tensor[:self.num_batches * self.batch_size * self.seq_length]\n        xdata = self.tensor\n        ydata = np.copy(self.tensor)\n        ydata[:-1] = xdata[1:]\n        ydata[-1] = xdata[0]\n        self.x_batches = np.split(xdata.reshape(self.batch_size, -1), self.num_batches, 1)\n        self.y_batches = np.split(ydata.reshape(self.batch_size, -1), self.num_batches, 1)\n\n\n    def next_batch(self):\n        x, y = self.x_batches[self.pointer], self.y_batches[self.pointer]\n        self.pointer += 1\n        return x, y\n\n    def reset_batch_pointer(self):\n        self.pointer = 0"
        }, 
        {
            "source": "### Parameters\n#### Batch, number_of_batch, batch_size and seq_length\nwhat is batch, number_of_batch, batch_size and seq_length in the charcter level example?  \n\nLets assume the input is this sentence: '__here is an example__'. Then:\n- txt_length = 18  \n- seq_length = 3  \n- batch_size = 2  \n- number_of_batchs = 18/3*2 = 3\n- batch = array (['h','e','r'],['e',' ','i'])\n- sample Seq = 'her'  ", 
            "cell_type": "markdown", 
            "metadata": {}
        }, 
        {
            "source": "Ok, now, lets look at a real dataset, with real parameters. ", 
            "cell_type": "markdown", 
            "metadata": {}
        }, 
        {
            "execution_count": 3, 
            "cell_type": "code", 
            "metadata": {}, 
            "outputs": [], 
            "source": "seq_length = 50 # RNN sequence length\nbatch_size = 60  # minibatch size, i.e. size of data in each epoch\nnum_epochs = 125 # you should change it to 50 if you want to see a relatively good results\nlearning_rate = 0.002\ndecay_rate = 0.97\nrnn_size = 128 # size of RNN hidden state (output dimension)\nnum_layers = 2 #number of layers in the RNN"
        }, 
        {
            "execution_count": 5, 
            "cell_type": "code", 
            "metadata": {}, 
            "outputs": [
                {
                    "output_type": "stream", 
                    "name": "stdout", 
                    "text": "Collecting wget\n  Downloading https://files.pythonhosted.org/packages/47/6a/62e288da7bcda82b935ff0c6cfe542970f04e29c756b0e147251b2fb251f/wget-3.2.zip\nBuilding wheels for collected packages: wget\n  Running setup.py bdist_wheel for wget ... \u001b[?25ldone\n\u001b[?25h  Stored in directory: /home/dsxuser/.cache/pip/wheels/40/15/30/7d8f7cea2902b4db79e3fea550d7d7b85ecb27ef992b618f3f\nSuccessfully built wget\nInstalling collected packages: wget\nSuccessfully installed wget-3.2\n"
                }
            ], 
            "source": "!pip install wget"
        }, 
        {
            "source": "We download the input file, and print a part of it:", 
            "cell_type": "markdown", 
            "metadata": {}
        }, 
        {
            "execution_count": 6, 
            "cell_type": "code", 
            "metadata": {}, 
            "outputs": [], 
            "source": "import wget\n\nlink_to_data = 'https://github.com/tuliplab/mds/raw/master/Jupyter/data/input.txt'\nDataSet = wget.download(link_to_data)"
        }, 
        {
            "execution_count": 7, 
            "cell_type": "code", 
            "metadata": {}, 
            "outputs": [
                {
                    "output_type": "stream", 
                    "name": "stdout", 
                    "text": "-rw-r----- 1 dsxuser dsxuser 1115393 May 20 05:49 input.txt\r\n"
                }
            ], 
            "source": "!ls -l *.txt"
        }, 
        {
            "execution_count": 9, 
            "cell_type": "code", 
            "metadata": {}, 
            "outputs": [
                {
                    "output_type": "stream", 
                    "name": "stdout", 
                    "text": "First Citizen:\nBefore we proceed any further, hear me speak.\n\nAll:\nSpeak, speak.\n\nFirst Citizen:\nYou\n"
                }, 
                {
                    "execution_count": 9, 
                    "metadata": {}, 
                    "data": {
                        "text/plain": "True"
                    }, 
                    "output_type": "execute_result"
                }
            ], 
            "source": "with open('input.txt', 'r') as f:\n    read_data = f.read()\n    print (read_data[0:100])\nf.closed"
        }, 
        {
            "source": "Now, we can read the data at batches using the __TextLoader__ class. It will convert the characters to numbers, and represent each sequence as a vector in batches:", 
            "cell_type": "markdown", 
            "metadata": {}
        }, 
        {
            "execution_count": 10, 
            "cell_type": "code", 
            "metadata": {}, 
            "outputs": [
                {
                    "output_type": "stream", 
                    "name": "stdout", 
                    "text": "reading text file\nvocabulary size: 65\nCharacters: (' ', 'e', 't', 'o', 'a', 'h', 's', 'r', 'n', 'i', '\\n', 'l', 'd', 'u', 'm', 'y', ',', 'w', 'f', 'c', 'g', 'I', 'b', 'p', ':', '.', 'A', 'v', 'k', 'T', \"'\", 'E', 'O', 'N', 'R', 'S', 'L', 'C', ';', 'W', 'U', 'H', 'M', 'B', '?', 'G', '!', 'D', '-', 'F', 'Y', 'P', 'K', 'V', 'j', 'q', 'x', 'z', 'J', 'Q', 'Z', 'X', '3', '&', '$')\nvocab number of 'F': 49\nCharacter sequences (first batch): [[49  9  7 ...,  1  4  7]\n [19  4 14 ..., 14  9 20]\n [ 8 20 10 ...,  8 10 18]\n ..., \n [21  2  0 ...,  0 21  0]\n [ 9  7  7 ...,  0  2  3]\n [ 3  7  0 ...,  5  9 23]]\n"
                }
            ], 
            "source": "data_loader = TextLoader('', batch_size, seq_length)\nvocab_size = data_loader.vocab_size\nprint (\"vocabulary size:\" , data_loader.vocab_size)\nprint (\"Characters:\" , data_loader.chars)\nprint (\"vocab number of 'F':\", data_loader.vocab['F'])\nprint (\"Character sequences (first batch):\", data_loader.x_batches[0])"
        }, 
        {
            "source": "### Input and output", 
            "cell_type": "markdown", 
            "metadata": {}
        }, 
        {
            "execution_count": 11, 
            "cell_type": "code", 
            "metadata": {}, 
            "outputs": [
                {
                    "execution_count": 11, 
                    "metadata": {}, 
                    "data": {
                        "text/plain": "array([[49,  9,  7, ...,  1,  4,  7],\n       [19,  4, 14, ..., 14,  9, 20],\n       [ 8, 20, 10, ...,  8, 10, 18],\n       ..., \n       [21,  2,  0, ...,  0, 21,  0],\n       [ 9,  7,  7, ...,  0,  2,  3],\n       [ 3,  7,  0, ...,  5,  9, 23]])"
                    }, 
                    "output_type": "execute_result"
                }
            ], 
            "source": "x,y = data_loader.next_batch()\nx"
        }, 
        {
            "execution_count": 12, 
            "cell_type": "code", 
            "metadata": {}, 
            "outputs": [
                {
                    "execution_count": 12, 
                    "metadata": {}, 
                    "data": {
                        "text/plain": "(60, 50)"
                    }, 
                    "output_type": "execute_result"
                }
            ], 
            "source": "x.shape  #batch_size =60, seq_length=50"
        }, 
        {
            "source": "Here, __y__ is the next character for each character in __x__:", 
            "cell_type": "markdown", 
            "metadata": {}
        }, 
        {
            "execution_count": 13, 
            "cell_type": "code", 
            "metadata": {}, 
            "outputs": [
                {
                    "execution_count": 13, 
                    "metadata": {}, 
                    "data": {
                        "text/plain": "array([[ 9,  7,  6, ...,  4,  7,  0],\n       [ 4, 14, 22, ...,  9, 20,  5],\n       [20, 10, 29, ..., 10, 18,  4],\n       ..., \n       [ 2,  0,  6, ..., 21,  0,  6],\n       [ 7,  7,  4, ...,  2,  3,  0],\n       [ 7,  0, 33, ...,  9, 23,  0]])"
                    }, 
                    "output_type": "execute_result"
                }
            ], 
            "source": "y"
        }, 
        {
            "source": "### LSTM Architecture\nEach LSTM cell has 5 parts:\n1. Input\n2. prv_state\n3. prv_output\n4. new_state\n5. new_output\n\n\n- Each LSTM cell has an input layre, which its size is 128 units in our case. The input vector's dimension also is 128, which is the dimensionality of embedding vector, so called, dimension size of W2V/embedding, for each character/word.\n- Each LSTM cell has a hidden layer, where there are some hidden units. The argument n_hidden=128 of BasicLSTMCell is the number of hidden units of the LSTM (inside A). It keeps the size of the output and state vector. It is also known as, rnn_size, num_units, num_hidden_units, and LSTM size\n- An LSTM keeps two pieces of information as it propagates through time: \n    - __hidden state__ vector: Each LSTM cell accept a vector, called __hidden state__ vector, of size n_hidden=128, and its value is returned to the LSTM cell in the next step. The __hidden state__ vector; which is the memory of the LSTM, accumulates using its (forget, input, and output) gates through time. \"num_units\" is equivalant to \"size of RNN hidden state\". number of hidden units is the dimensianality of the output (= dimesianality of the state) of the LSTM cell.\n    - __previous time-step output__: For each LSTM cell that we initialize, we need to supply a value (128 in this case) for the hidden dimension, or as some people like to call it, the number of units in the LSTM cell. \n\n\n#### num_layers = 2 \n- number of layers in the RNN, is defined by num_layers\n- An input of MultiRNNCell is __cells__ which is list of RNNCells that will be composed in this order.", 
            "cell_type": "markdown", 
            "metadata": {}
        }, 
        {
            "source": "### Defining stacked RNN Cell", 
            "cell_type": "markdown", 
            "metadata": {}
        }, 
        {
            "source": "__BasicRNNCell__ is the most basic RNN cell.", 
            "cell_type": "markdown", 
            "metadata": {
                "collapsed": true
            }
        }, 
        {
            "execution_count": 14, 
            "cell_type": "code", 
            "metadata": {}, 
            "outputs": [], 
            "source": "cell = tf.contrib.rnn.BasicRNNCell(rnn_size)"
        }, 
        {
            "execution_count": 15, 
            "cell_type": "code", 
            "metadata": {}, 
            "outputs": [], 
            "source": "# a two layer cell\nstacked_cell = tf.contrib.rnn.MultiRNNCell([cell] * num_layers)"
        }, 
        {
            "execution_count": 16, 
            "cell_type": "code", 
            "metadata": {}, 
            "outputs": [
                {
                    "execution_count": 16, 
                    "metadata": {}, 
                    "data": {
                        "text/plain": "128"
                    }, 
                    "output_type": "execute_result"
                }
            ], 
            "source": "# hidden state size\nstacked_cell.output_size"
        }, 
        {
            "source": "__state__ varibale keeps output and new_state of the LSTM, so it is a touple of size:", 
            "cell_type": "markdown", 
            "metadata": {}
        }, 
        {
            "execution_count": 17, 
            "cell_type": "code", 
            "metadata": {}, 
            "outputs": [
                {
                    "execution_count": 17, 
                    "metadata": {}, 
                    "data": {
                        "text/plain": "(128, 128)"
                    }, 
                    "output_type": "execute_result"
                }
            ], 
            "source": "stacked_cell.state_size"
        }, 
        {
            "source": "Lets define input data:", 
            "cell_type": "markdown", 
            "metadata": {}
        }, 
        {
            "execution_count": 18, 
            "cell_type": "code", 
            "metadata": {}, 
            "outputs": [
                {
                    "execution_count": 18, 
                    "metadata": {}, 
                    "data": {
                        "text/plain": "<tf.Tensor 'Placeholder:0' shape=(60, 50) dtype=int32>"
                    }, 
                    "output_type": "execute_result"
                }
            ], 
            "source": "input_data = tf.placeholder(tf.int32, [batch_size, seq_length])# a 60x50\ninput_data"
        }, 
        {
            "source": "and target data:", 
            "cell_type": "markdown", 
            "metadata": {}
        }, 
        {
            "execution_count": 19, 
            "cell_type": "code", 
            "metadata": {}, 
            "outputs": [
                {
                    "execution_count": 19, 
                    "metadata": {}, 
                    "data": {
                        "text/plain": "<tf.Tensor 'Placeholder_1:0' shape=(60, 50) dtype=int32>"
                    }, 
                    "output_type": "execute_result"
                }
            ], 
            "source": "targets = tf.placeholder(tf.int32, [batch_size, seq_length]) # a 60x50\ntargets"
        }, 
        {
            "source": "The memory state of the network is initialized with a vector of zeros and gets updated after reading each character.\n\n__BasicRNNCell.zero_state(batch_size, dtype)__ Return zero-filled state tensor(s). In this function, batch_size\nrepresenting the batch size.", 
            "cell_type": "markdown", 
            "metadata": {}
        }, 
        {
            "execution_count": 20, 
            "cell_type": "code", 
            "metadata": {}, 
            "outputs": [], 
            "source": "initial_state = stacked_cell.zero_state(batch_size, tf.float32) #why batch_size ? 60x128"
        }, 
        {
            "source": "Lets check the value of the input_data again:", 
            "cell_type": "markdown", 
            "metadata": {
                "collapsed": true
            }
        }, 
        {
            "execution_count": 21, 
            "cell_type": "code", 
            "metadata": {}, 
            "outputs": [
                {
                    "execution_count": 21, 
                    "metadata": {}, 
                    "data": {
                        "text/plain": "array([[49,  9,  7, ...,  1,  4,  7],\n       [19,  4, 14, ..., 14,  9, 20],\n       [ 8, 20, 10, ...,  8, 10, 18],\n       ..., \n       [21,  2,  0, ...,  0, 21,  0],\n       [ 9,  7,  7, ...,  0,  2,  3],\n       [ 3,  7,  0, ...,  5,  9, 23]], dtype=int32)"
                    }, 
                    "output_type": "execute_result"
                }
            ], 
            "source": "session = tf.Session()\nfeed_dict={input_data:x, targets:y}\nsession.run(input_data, feed_dict)"
        }, 
        {
            "source": "### Embedding\nIn this section, we build a 128-dim vector for each character. As we have 60 batches, and 50 character in each sequence, it will generate a [60,50,128] matrix.", 
            "cell_type": "markdown", 
            "metadata": {}
        }, 
        {
            "source": "__Notice:__ The function `tf.get_variable()` is used to share a variable and to initialize it in one place. `tf.get_variable()` is used to get or create a variable instead of a direct call to `tf.Variable`. ", 
            "cell_type": "markdown", 
            "metadata": {}
        }, 
        {
            "execution_count": 22, 
            "cell_type": "code", 
            "metadata": {}, 
            "outputs": [], 
            "source": "with tf.variable_scope('rnnlm', reuse=False):\n    softmax_w = tf.get_variable(\"softmax_w\", [rnn_size, vocab_size]) #128x65\n    softmax_b = tf.get_variable(\"softmax_b\", [vocab_size]) # 1x65)\n    #with tf.device(\"/cpu:0\"):\n        \n    # embedding variable is initialized randomely\n    embedding = tf.get_variable(\"embedding\", [vocab_size, rnn_size])  #65x128\n\n    # embedding_lookup goes to each row of input_data, and for each character in the row, finds the correspond vector in embedding\n    # it creates a 60*50*[1*128] matrix\n    # so, the first elemnt of em, is a matrix of 50x128, which each row of it is vector representing that character\n    em = tf.nn.embedding_lookup(embedding, input_data) # em is 60x50x[1*128]\n    # split: Splits a tensor into sub tensors.\n    # syntax:  tf.split(split_dim, num_split, value, name='split')\n    # it will split the 60x50x[1x128] matrix into 50 matrix of 60x[1*128]\n    inputs = tf.split(em, seq_length, 1)\n    # It will convert the list to 50 matrix of [60x128]\n    inputs = [tf.squeeze(input_, [1]) for input_ in inputs]"
        }, 
        {
            "source": "Lets take a look at the __embedding__, __em__, and __inputs__ variabbles:\n\nEmbedding variable is initialized with random values:", 
            "cell_type": "markdown", 
            "metadata": {}
        }, 
        {
            "execution_count": 23, 
            "cell_type": "code", 
            "metadata": {}, 
            "outputs": [
                {
                    "execution_count": 23, 
                    "metadata": {}, 
                    "data": {
                        "text/plain": "array([[-0.163542  , -0.10686496, -0.04427543, ...,  0.10082026,\n         0.16158487,  0.14834304],\n       [-0.14234979,  0.05706908,  0.15021582, ...,  0.02835333,\n        -0.07036164,  0.00775521],\n       [-0.12113867,  0.14424624, -0.07611813, ...,  0.02582365,\n         0.12521367,  0.02948822],\n       ..., \n       [-0.03550725, -0.10722669, -0.01322164, ..., -0.03385988,\n         0.02975327,  0.07437812],\n       [-0.14232546, -0.09858806,  0.0788237 , ...,  0.0480942 ,\n         0.17555414, -0.1672938 ],\n       [ 0.13797234,  0.05004503, -0.13664387, ..., -0.01063393,\n        -0.12368131,  0.00788207]], dtype=float32)"
                    }, 
                    "output_type": "execute_result"
                }
            ], 
            "source": "session.run(tf.global_variables_initializer())\n#print embedding.shape\nsession.run(embedding)"
        }, 
        {
            "source": "The first elemnt of em, is a matrix of 50x128, which each row of it is vector representing that character", 
            "cell_type": "markdown", 
            "metadata": {}
        }, 
        {
            "execution_count": 25, 
            "cell_type": "code", 
            "metadata": {}, 
            "outputs": [
                {
                    "output_type": "stream", 
                    "name": "stdout", 
                    "text": "(60, 50, 128)\n"
                }, 
                {
                    "execution_count": 25, 
                    "metadata": {}, 
                    "data": {
                        "text/plain": "array([[ 0.02560014, -0.13813919, -0.16564669, ...,  0.05703528,\n         0.15839164, -0.08154429],\n       [ 0.03085217, -0.06991217,  0.07696708, ...,  0.1372578 ,\n        -0.11399683, -0.01782937],\n       [ 0.00420089,  0.1443737 ,  0.02583453, ...,  0.12037577,\n        -0.10097088,  0.13774617],\n       ..., \n       [-0.14234979,  0.05706908,  0.15021582, ...,  0.02835333,\n        -0.07036164,  0.00775521],\n       [ 0.11173315,  0.17118891,  0.17287551, ..., -0.12756193,\n         0.07512124,  0.17570303],\n       [ 0.00420089,  0.1443737 ,  0.02583453, ...,  0.12037577,\n        -0.10097088,  0.13774617]], dtype=float32)"
                    }, 
                    "output_type": "execute_result"
                }
            ], 
            "source": "em = tf.nn.embedding_lookup(embedding, input_data)\nemp = session.run(em,feed_dict={input_data:x})\nprint (emp.shape)\nemp[0]"
        }, 
        {
            "source": "Let's consider each sequence as a sentence of length 50 characters, then, the first item in __inputs__ is a [60x128] vector which represents the first characters of 60 sentences.", 
            "cell_type": "markdown", 
            "metadata": {}
        }, 
        {
            "execution_count": 26, 
            "cell_type": "code", 
            "metadata": {}, 
            "outputs": [
                {
                    "execution_count": 26, 
                    "metadata": {}, 
                    "data": {
                        "text/plain": "[<tf.Tensor 'Squeeze:0' shape=(60, 128) dtype=float32>,\n <tf.Tensor 'Squeeze_1:0' shape=(60, 128) dtype=float32>,\n <tf.Tensor 'Squeeze_2:0' shape=(60, 128) dtype=float32>,\n <tf.Tensor 'Squeeze_3:0' shape=(60, 128) dtype=float32>,\n <tf.Tensor 'Squeeze_4:0' shape=(60, 128) dtype=float32>]"
                    }, 
                    "output_type": "execute_result"
                }
            ], 
            "source": "inputs = tf.split(em, seq_length, 1)\ninputs = [tf.squeeze(input_, [1]) for input_ in inputs]\ninputs[0:5]"
        }, 
        {
            "source": "### Feeding a batch of 50 sequence to a RNN:\n\nThe feeding process for iputs is as following:\n\n- Step 1:  first character of each of the 50 sentences (in a batch) is entered in parallel.  \n- Step 2:  second character of each of the 50 sentences is input in parallel. \n- Step n: nth character of each of the 50 sentences is input in parallel.  \n\nThe parallelism is only for efficiency.  Each character in a batch is handled in parallel,  but the network sees one character of a sequence at a time and does the computations accordingly. All the computations involving the characters of all sequences in a batch at a given time step are done in parallel. ", 
            "cell_type": "markdown", 
            "metadata": {}
        }, 
        {
            "execution_count": 27, 
            "cell_type": "code", 
            "metadata": {}, 
            "outputs": [
                {
                    "execution_count": 27, 
                    "metadata": {}, 
                    "data": {
                        "text/plain": "array([[ 0.02560014, -0.13813919, -0.16564669, ...,  0.05703528,\n         0.15839164, -0.08154429],\n       [ 0.15676485, -0.13509542,  0.07837285, ..., -0.03415948,\n         0.16910891,  0.05950725],\n       [ 0.1148016 ,  0.05777405,  0.02585874, ...,  0.08301984,\n        -0.02803671,  0.06488091],\n       ..., \n       [ 0.1758173 , -0.13780861, -0.12540236, ..., -0.04744375,\n         0.1006337 ,  0.09968124],\n       [ 0.03085217, -0.06991217,  0.07696708, ...,  0.1372578 ,\n        -0.11399683, -0.01782937],\n       [ 0.08887966, -0.01895244,  0.15191741, ..., -0.15123042,\n        -0.01006798, -0.07228805]], dtype=float32)"
                    }, 
                    "output_type": "execute_result"
                }
            ], 
            "source": "session.run(inputs[0],feed_dict={input_data:x})"
        }, 
        {
            "source": "Feeding the RNN with one batch, we can check the new output and new state of network:", 
            "cell_type": "markdown", 
            "metadata": {}
        }, 
        {
            "execution_count": 28, 
            "cell_type": "code", 
            "metadata": {}, 
            "outputs": [
                {
                    "execution_count": 28, 
                    "metadata": {}, 
                    "data": {
                        "text/plain": "(<tf.Tensor 'rnnlm_1/rnnlm/multi_rnn_cell/cell_0/cell_0/basic_rnn_cell/Tanh_98:0' shape=(60, 128) dtype=float32>,\n <tf.Tensor 'rnnlm_1/rnnlm/multi_rnn_cell/cell_0/cell_0/basic_rnn_cell/Tanh_99:0' shape=(60, 128) dtype=float32>)"
                    }, 
                    "output_type": "execute_result"
                }
            ], 
            "source": "#outputs is 50x[60*128]\noutputs, new_state = tf.contrib.legacy_seq2seq.rnn_decoder(inputs, initial_state, stacked_cell, loop_function=None, scope='rnnlm')\nnew_state"
        }, 
        {
            "execution_count": 29, 
            "cell_type": "code", 
            "metadata": {}, 
            "outputs": [
                {
                    "execution_count": 29, 
                    "metadata": {}, 
                    "data": {
                        "text/plain": "[<tf.Tensor 'rnnlm_1/rnnlm/multi_rnn_cell/cell_0/cell_0/basic_rnn_cell/Tanh_1:0' shape=(60, 128) dtype=float32>,\n <tf.Tensor 'rnnlm_1/rnnlm/multi_rnn_cell/cell_0/cell_0/basic_rnn_cell/Tanh_3:0' shape=(60, 128) dtype=float32>,\n <tf.Tensor 'rnnlm_1/rnnlm/multi_rnn_cell/cell_0/cell_0/basic_rnn_cell/Tanh_5:0' shape=(60, 128) dtype=float32>,\n <tf.Tensor 'rnnlm_1/rnnlm/multi_rnn_cell/cell_0/cell_0/basic_rnn_cell/Tanh_7:0' shape=(60, 128) dtype=float32>,\n <tf.Tensor 'rnnlm_1/rnnlm/multi_rnn_cell/cell_0/cell_0/basic_rnn_cell/Tanh_9:0' shape=(60, 128) dtype=float32>]"
                    }, 
                    "output_type": "execute_result"
                }
            ], 
            "source": "outputs[0:5]"
        }, 
        {
            "source": "Let's check the output of network after feeding it with first batch:", 
            "cell_type": "markdown", 
            "metadata": {}
        }, 
        {
            "execution_count": 30, 
            "cell_type": "code", 
            "metadata": {}, 
            "outputs": [
                {
                    "execution_count": 30, 
                    "metadata": {}, 
                    "data": {
                        "text/plain": "array([[ 0.04614446, -0.04319036,  0.09160374, ...,  0.04735668,\n        -0.03234683, -0.01677364],\n       [ 0.12548082, -0.12867258,  0.13196467, ..., -0.00068062,\n         0.02091474,  0.11888842],\n       [-0.09310257, -0.00317631,  0.05968441, ..., -0.06754331,\n         0.02347654, -0.0106449 ],\n       ..., \n       [-0.08704571, -0.02492178, -0.08352187, ..., -0.06189128,\n        -0.05131798,  0.06839129],\n       [ 0.01476384, -0.02052566, -0.03325167, ..., -0.0971541 ,\n        -0.14045042,  0.00152731],\n       [ 0.04613135, -0.12485896, -0.05745196, ...,  0.07124025,\n         0.06633558,  0.1039735 ]], dtype=float32)"
                    }, 
                    "output_type": "execute_result"
                }
            ], 
            "source": "first_output = outputs[0]\nsession.run(tf.global_variables_initializer())\nsession.run(first_output,feed_dict={input_data:x})"
        }, 
        {
            "source": "As it was explained, __outputs__ variable is a 50x[60x128] tensor. We need to reshape it back to [60x50x128] to be able to calculate the probablity of the next character using the softmax. The __softmax_w__ shape is [rnn_size, vocab_size],whihc is [128x65] in our case. Threfore, we have a fully connected layer on top of LSTM cells, which help us to decode the next charachter. We can use the __softmax(output * softmax_w + softmax_b)__ for this purpose. The shape of the matrixis would be:\n\nsoftmax([60x50x128]x[128x65]+[1x65]) = [60x50x65]", 
            "cell_type": "markdown", 
            "metadata": {}
        }, 
        {
            "source": "We can do it step-by-step:", 
            "cell_type": "markdown", 
            "metadata": {}
        }, 
        {
            "execution_count": 31, 
            "cell_type": "code", 
            "metadata": {}, 
            "outputs": [
                {
                    "execution_count": 31, 
                    "metadata": {}, 
                    "data": {
                        "text/plain": "<tf.Tensor 'Reshape:0' shape=(3000, 128) dtype=float32>"
                    }, 
                    "output_type": "execute_result"
                }
            ], 
            "source": "output = tf.reshape(tf.concat( outputs,1), [-1, rnn_size])\noutput"
        }, 
        {
            "execution_count": 32, 
            "cell_type": "code", 
            "metadata": {}, 
            "outputs": [
                {
                    "execution_count": 32, 
                    "metadata": {}, 
                    "data": {
                        "text/plain": "<tf.Tensor 'add:0' shape=(3000, 65) dtype=float32>"
                    }, 
                    "output_type": "execute_result"
                }
            ], 
            "source": "logits = tf.matmul(output, softmax_w) + softmax_b\nlogits"
        }, 
        {
            "execution_count": 33, 
            "cell_type": "code", 
            "metadata": {}, 
            "outputs": [
                {
                    "execution_count": 33, 
                    "metadata": {}, 
                    "data": {
                        "text/plain": "<tf.Tensor 'Softmax:0' shape=(3000, 65) dtype=float32>"
                    }, 
                    "output_type": "execute_result"
                }
            ], 
            "source": "probs = tf.nn.softmax(logits)\nprobs"
        }, 
        {
            "source": "Here is the probablity of the next chracter in all batches:", 
            "cell_type": "markdown", 
            "metadata": {}
        }, 
        {
            "execution_count": 34, 
            "cell_type": "code", 
            "metadata": {}, 
            "outputs": [
                {
                    "execution_count": 34, 
                    "metadata": {}, 
                    "data": {
                        "text/plain": "array([[ 0.01057838,  0.02039905,  0.01746085, ...,  0.01236166,\n         0.0137839 ,  0.01389466],\n       [ 0.01265441,  0.01861584,  0.01660545, ...,  0.01221059,\n         0.01357421,  0.01417783],\n       [ 0.01054785,  0.0172301 ,  0.02005849, ...,  0.01096011,\n         0.01565674,  0.01100716],\n       ..., \n       [ 0.01188173,  0.01530783,  0.01300544, ...,  0.01091862,\n         0.02500829,  0.01400425],\n       [ 0.01004931,  0.01433079,  0.01943748, ...,  0.0127658 ,\n         0.01141675,  0.01771563],\n       [ 0.01037273,  0.02132208,  0.02363595, ...,  0.01398682,\n         0.01665674,  0.01006057]], dtype=float32)"
                    }, 
                    "output_type": "execute_result"
                }
            ], 
            "source": "session.run(tf.global_variables_initializer())\nsession.run(probs,feed_dict={input_data:x})"
        }, 
        {
            "source": "Now, we are in the position to calculate the cost of training with __loss function__, and keep feedng the network to learn it. But, the question is: what the LSTM networks learn?", 
            "cell_type": "markdown", 
            "metadata": {}
        }, 
        {
            "execution_count": 35, 
            "cell_type": "code", 
            "metadata": {}, 
            "outputs": [
                {
                    "execution_count": 35, 
                    "metadata": {}, 
                    "data": {
                        "text/plain": "[<tf.Variable 'rnnlm/softmax_w:0' shape=(128, 65) dtype=float32_ref>,\n <tf.Variable 'rnnlm/softmax_b:0' shape=(65,) dtype=float32_ref>,\n <tf.Variable 'rnnlm/embedding:0' shape=(65, 128) dtype=float32_ref>,\n <tf.Variable 'rnnlm/multi_rnn_cell/cell_0/basic_rnn_cell/kernel:0' shape=(256, 128) dtype=float32_ref>,\n <tf.Variable 'rnnlm/multi_rnn_cell/cell_0/basic_rnn_cell/bias:0' shape=(128,) dtype=float32_ref>]"
                    }, 
                    "output_type": "execute_result"
                }
            ], 
            "source": "grad_clip =5.\ntvars = tf.trainable_variables()\ntvars"
        }, 
        {
            "source": "# All together\nNow, let's put all of parts together in a class, and train the model:", 
            "cell_type": "markdown", 
            "metadata": {}
        }, 
        {
            "execution_count": 36, 
            "cell_type": "code", 
            "metadata": {}, 
            "outputs": [], 
            "source": "class LSTMModel():\n    def __init__(self,sample=False):\n        rnn_size = 128 # size of RNN hidden state vector\n        batch_size = 60 # minibatch size, i.e. size of dataset in each epoch\n        seq_length = 50 # RNN sequence length\n        num_layers = 2 # number of layers in the RNN\n        vocab_size = 65\n        grad_clip = 5.\n        if sample:\n            print(\">> sample mode:\")\n            batch_size = 1\n            seq_length = 1\n        # The core of the model consists of an LSTM cell that processes one char at a time and computes probabilities of the possible continuations of the char. \n        basic_cell = tf.contrib.rnn.BasicRNNCell(rnn_size)\n        # model.cell.state_size is (128, 128)\n        self.stacked_cell = tf.contrib.rnn.MultiRNNCell([basic_cell] * num_layers)\n\n        self.input_data = tf.placeholder(tf.int32, [batch_size, seq_length], name=\"input_data\")\n        self.targets = tf.placeholder(tf.int32, [batch_size, seq_length], name=\"targets\")\n        # Initial state of the LSTM memory.\n        # The memory state of the network is initialized with a vector of zeros and gets updated after reading each char. \n        self.initial_state = stacked_cell.zero_state(batch_size, tf.float32) #why batch_size\n\n        with tf.variable_scope('rnnlm_class1'):\n            softmax_w = tf.get_variable(\"softmax_w\", [rnn_size, vocab_size]) #128x65\n            softmax_b = tf.get_variable(\"softmax_b\", [vocab_size]) # 1x65\n            with tf.device(\"/cpu:0\"):\n                embedding = tf.get_variable(\"embedding\", [vocab_size, rnn_size])  #65x128\n                inputs = tf.split(tf.nn.embedding_lookup(embedding, self.input_data), seq_length, 1)\n                inputs = [tf.squeeze(input_, [1]) for input_ in inputs]\n                #inputs = tf.split(em, seq_length, 1)\n                \n                \n\n\n        # The value of state is updated after processing each batch of chars.\n        outputs, last_state = tf.contrib.legacy_seq2seq.rnn_decoder(inputs, self.initial_state, self.stacked_cell, loop_function=None, scope='rnnlm_class1')\n        output = tf.reshape(tf.concat(outputs,1), [-1, rnn_size])\n        self.logits = tf.matmul(output, softmax_w) + softmax_b\n        self.probs = tf.nn.softmax(self.logits)\n        loss = tf.contrib.legacy_seq2seq.sequence_loss_by_example([self.logits],\n                [tf.reshape(self.targets, [-1])],\n                [tf.ones([batch_size * seq_length])],\n                vocab_size)\n        self.cost = tf.reduce_sum(loss) / batch_size / seq_length\n        self.final_state = last_state\n        self.lr = tf.Variable(0.0, trainable=False)\n        tvars = tf.trainable_variables()\n        grads, _ = tf.clip_by_global_norm(tf.gradients(self.cost, tvars),grad_clip)\n        optimizer = tf.train.AdamOptimizer(self.lr)\n        self.train_op = optimizer.apply_gradients(zip(grads, tvars))\n    \n    \n    def sample(self, sess, chars, vocab, num=200, prime='The ', sampling_type=1):\n        state = sess.run(self.stacked_cell.zero_state(1, tf.float32))\n        #print state\n        for char in prime[:-1]:\n            x = np.zeros((1, 1))\n            x[0, 0] = vocab[char]\n            feed = {self.input_data: x, self.initial_state:state}\n            [state] = sess.run([self.final_state], feed)\n\n        def weighted_pick(weights):\n            t = np.cumsum(weights)\n            s = np.sum(weights)\n            return(int(np.searchsorted(t, np.random.rand(1)*s)))\n\n        ret = prime\n        char = prime[-1]\n        for n in range(num):\n            x = np.zeros((1, 1))\n            x[0, 0] = vocab[char]\n            feed = {self.input_data: x, self.initial_state:state}\n            [probs, state] = sess.run([self.probs, self.final_state], feed)\n            p = probs[0]\n\n            if sampling_type == 0:\n                sample = np.argmax(p)\n            elif sampling_type == 2:\n                if char == ' ':\n                    sample = weighted_pick(p)\n                else:\n                    sample = np.argmax(p)\n            else: # sampling_type == 1 default:\n                sample = weighted_pick(p)\n\n            pred = chars[sample]\n            ret += pred\n            char = pred\n        return ret"
        }, 
        {
            "source": "### Creating the LSTM object\nNow we create a LSTM model:", 
            "cell_type": "markdown", 
            "metadata": {
                "collapsed": true
            }
        }, 
        {
            "execution_count": 37, 
            "cell_type": "code", 
            "metadata": {}, 
            "outputs": [], 
            "source": "with tf.variable_scope(\"rnn\"):\n    model = LSTMModel()"
        }, 
        {
            "source": "## Train using LSTMModel class\nWe can train our model through feeding batches:", 
            "cell_type": "markdown", 
            "metadata": {}
        }, 
        {
            "execution_count": 38, 
            "cell_type": "code", 
            "metadata": {}, 
            "outputs": [
                {
                    "ename": "SyntaxError", 
                    "evalue": "invalid syntax (<ipython-input-38-05e8b5acf3c4>, line 16)", 
                    "traceback": [
                        "\u001b[0;36m  File \u001b[0;32m\"<ipython-input-38-05e8b5acf3c4>\"\u001b[0;36m, line \u001b[0;32m16\u001b[0m\n\u001b[0;31m    print sample_model.sample(sess, data_loader.chars , data_loader.vocab, num=50, prime='The ', sampling_type=1)\u001b[0m\n\u001b[0m                     ^\u001b[0m\n\u001b[0;31mSyntaxError\u001b[0m\u001b[0;31m:\u001b[0m invalid syntax\n"
                    ], 
                    "output_type": "error"
                }
            ], 
            "source": "with tf.Session() as sess:\n    sess.run(tf.global_variables_initializer())\n    for e in range(num_epochs): # num_epochs is 5 for test, but should be higher\n        sess.run(tf.assign(model.lr, learning_rate * (decay_rate ** e)))\n        data_loader.reset_batch_pointer()\n        state = sess.run(model.initial_state) # (2x[60x128])\n        for b in range(data_loader.num_batches): #for each batch\n            start = time.time()\n            x, y = data_loader.next_batch()\n            feed = {model.input_data: x, model.targets: y, model.initial_state:state}\n            train_loss, state, _ = sess.run([model.cost, model.final_state, model.train_op], feed)\n            end = time.time()\n        print(\"{}/{} (epoch {}), train_loss = {:.3f}, time/batch = {:.3f}\" \\\n                .format(e * data_loader.num_batches + b, num_epochs * data_loader.num_batches, e, train_loss, end - start))\n        with tf.variable_scope(\"rnn\", reuse=True):\n            sample_model = LSTMModel(sample=True)\n            print (sample_model.sample(sess, data_loader.chars , data_loader.vocab, num=50, prime='The ', sampling_type=1))\n            print '----------------------------------'"
        }, 
        {
            "execution_count": null, 
            "cell_type": "code", 
            "metadata": {}, 
            "outputs": [], 
            "source": ""
        }
    ], 
    "metadata": {
        "kernelspec": {
            "display_name": "Python 3.5", 
            "name": "python3", 
            "language": "python"
        }, 
        "language_info": {
            "mimetype": "text/x-python", 
            "nbconvert_exporter": "python", 
            "version": "3.5.4", 
            "name": "python", 
            "file_extension": ".py", 
            "pygments_lexer": "ipython3", 
            "codemirror_mode": {
                "version": 3, 
                "name": "ipython"
            }
        }, 
        "anaconda-cloud": {}
    }, 
    "nbformat": 4
}