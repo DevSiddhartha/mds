{
    "nbformat_minor": 1, 
    "cells": [
        {
            "source": "# Modern Data Science \n**(Module 02: Data Visualization)**\n\n---\n- Materials in this module include resources collected from various open-source online repositories.\n- You are free to use, change and distribute this package.\n\nPrepared by and for \n**Student Members** |\n2006-2018 [TULIP Lab](http://www.tulip.org.au), Australia\n\n---\n\n# Session Q - GraphViz\n\nGraphviz is open source graph visualization software. It has several main graph layout programs. The Graphviz layout tools take descriptions of graphs in a simple text language, and make diagrams in several useful formats such as images and SVG for web pages, Postscript for inclusion in PDF or other documents; or display in an interactive graph browser. \n\nGraphviz layout tools accept inputs in the `DOT` language, which describes :\n* graphs\n* nodes\n* edges\n\nWe can use `DOT` language to describe the graph structure, and specify the shape, color etc. \n\n[Adapted from here](http://graphviz.readthedocs.io/en/stable/index.html)\n\n\n`graphviz` provides a simple pure-Python interface for the Graphviz graph-drawing software. To install it with pip run the following:\n", 
            "cell_type": "markdown", 
            "metadata": {}
        }, 
        {
            "execution_count": 1, 
            "cell_type": "code", 
            "metadata": {}, 
            "outputs": [
                {
                    "output_type": "stream", 
                    "name": "stdout", 
                    "text": "Collecting graphviz\n  Downloading https://files.pythonhosted.org/packages/84/44/21a7fdd50841aaaef224b943f7d10df87e476e181bb926ccf859bcb53d48/graphviz-0.8.3-py2.py3-none-any.whl\nInstalling collected packages: graphviz\nSuccessfully installed graphviz-0.8.3\n"
                }
            ], 
            "source": "!pip install graphviz"
        }, 
        {
            "source": "The `graphviz` module provides two classes: `Graph` and `Digraph`. They create graph descriptions in the [DOT](https://www.graphviz.org/doc/info/lang.html) language for undirected and directed graphs respectively. They have the same [API](http://graphviz.readthedocs.io/en/stable/api.html#api).\n\n", 
            "cell_type": "markdown", 
            "metadata": {}
        }, 
        {
            "source": "## Basic Components", 
            "cell_type": "markdown", 
            "metadata": {}
        }, 
        {
            "source": "Create a graph by instantiating a new `Graph` or `Digraph` object:\n\n", 
            "cell_type": "markdown", 
            "metadata": {}
        }, 
        {
            "execution_count": 2, 
            "cell_type": "code", 
            "metadata": {}, 
            "outputs": [], 
            "source": "from graphviz import Digraph\n\ndot = Digraph(comment='The Round Table')"
        }, 
        {
            "source": "Their constructors allow to set the graph\u2019s `name`, the `filename` for the DOT source and the rendered graph, a `comment` for the first source code line, etc.\n\nAdd nodes and edges to the graph object using its `node()` and `edge()` or `edges()` methods:\n\nThe `node()` method takes a name identifier as first argument and an optional label. The `edge()` method takes the names of start- and end-node, while `edges()` takes iterable of name-pairs. Keyword arguments are turned into (node and edge) attributes (see [Graphviz docs](https://www.graphviz.org/doc/info/attrs.html)).\n\n", 
            "cell_type": "markdown", 
            "metadata": {}
        }, 
        {
            "execution_count": 3, 
            "cell_type": "code", 
            "metadata": {}, 
            "outputs": [], 
            "source": "dot.node('A', 'King Arthur')\ndot.node('B', 'Sir Bedevere the Wise')\ndot.node('L', 'Sir Lancelot the Brave')\n\ndot.edges(['AB', 'AL'])\ndot.edge('B', 'L', constraint='false')"
        }, 
        {
            "execution_count": 4, 
            "cell_type": "code", 
            "metadata": {}, 
            "outputs": [
                {
                    "output_type": "stream", 
                    "name": "stdout", 
                    "text": "// The Round Table\ndigraph {\n\tA [label=\"King Arthur\"]\n\tB [label=\"Sir Bedevere the Wise\"]\n\tL [label=\"Sir Lancelot the Brave\"]\n\tA -> B\n\tA -> L\n\tB -> L [constraint=false]\n}\n"
                }
            ], 
            "source": "print(dot.source) "
        }, 
        {
            "source": "We can show the rendered graph using:", 
            "cell_type": "markdown", 
            "metadata": {}
        }, 
        {
            "execution_count": 5, 
            "cell_type": "code", 
            "metadata": {}, 
            "outputs": [
                {
                    "execution_count": 5, 
                    "metadata": {}, 
                    "data": {
                        "text/plain": "<graphviz.dot.Digraph at 0x2ab09f2f9dd8>", 
                        "image/svg+xml": "<?xml version=\"1.0\" encoding=\"UTF-8\" standalone=\"no\"?>\n<!DOCTYPE svg PUBLIC \"-//W3C//DTD SVG 1.1//EN\"\n \"http://www.w3.org/Graphics/SVG/1.1/DTD/svg11.dtd\">\n<!-- Generated by graphviz version 2.40.1 (20161225.0304)\n -->\n<!-- Title: %3 Pages: 1 -->\n<svg width=\"388pt\" height=\"116pt\"\n viewBox=\"0.00 0.00 388.33 116.00\" xmlns=\"http://www.w3.org/2000/svg\" xmlns:xlink=\"http://www.w3.org/1999/xlink\">\n<g id=\"graph0\" class=\"graph\" transform=\"scale(1 1) rotate(0) translate(4 112)\">\n<title>%3</title>\n<polygon fill=\"#ffffff\" stroke=\"transparent\" points=\"-4,4 -4,-112 384.3339,-112 384.3339,4 -4,4\"/>\n<!-- A -->\n<g id=\"node1\" class=\"node\">\n<title>A</title>\n<ellipse fill=\"none\" stroke=\"#000000\" cx=\"189.9919\" cy=\"-90\" rx=\"53.8905\" ry=\"18\"/>\n<text text-anchor=\"middle\" x=\"189.9919\" y=\"-86.3\" font-family=\"Times,serif\" font-size=\"14.00\" fill=\"#000000\">King Arthur</text>\n</g>\n<!-- B -->\n<g id=\"node2\" class=\"node\">\n<title>B</title>\n<ellipse fill=\"none\" stroke=\"#000000\" cx=\"90.9919\" cy=\"-18\" rx=\"90.9839\" ry=\"18\"/>\n<text text-anchor=\"middle\" x=\"90.9919\" y=\"-14.3\" font-family=\"Times,serif\" font-size=\"14.00\" fill=\"#000000\">Sir Bedevere the Wise</text>\n</g>\n<!-- A&#45;&gt;B -->\n<g id=\"edge1\" class=\"edge\">\n<title>A&#45;&gt;B</title>\n<path fill=\"none\" stroke=\"#000000\" d=\"M167.0305,-73.3008C154.0428,-63.8552 137.5944,-51.8927 123.3205,-41.5117\"/>\n<polygon fill=\"#000000\" stroke=\"#000000\" points=\"125.356,-38.6644 115.2101,-35.6132 121.2388,-44.3255 125.356,-38.6644\"/>\n</g>\n<!-- L -->\n<g id=\"node3\" class=\"node\">\n<title>L</title>\n<ellipse fill=\"none\" stroke=\"#000000\" cx=\"289.9919\" cy=\"-18\" rx=\"90.1842\" ry=\"18\"/>\n<text text-anchor=\"middle\" x=\"289.9919\" y=\"-14.3\" font-family=\"Times,serif\" font-size=\"14.00\" fill=\"#000000\">Sir Lancelot the Brave</text>\n</g>\n<!-- A&#45;&gt;L -->\n<g id=\"edge2\" class=\"edge\">\n<title>A&#45;&gt;L</title>\n<path fill=\"none\" stroke=\"#000000\" d=\"M212.6835,-73.6621C225.8824,-64.1589 242.7437,-52.0188 257.3491,-41.5029\"/>\n<polygon fill=\"#000000\" stroke=\"#000000\" points=\"259.5728,-44.2146 265.6431,-35.5312 255.4826,-38.5339 259.5728,-44.2146\"/>\n</g>\n<!-- B&#45;&gt;L -->\n<g id=\"edge3\" class=\"edge\">\n<title>B&#45;&gt;L</title>\n<path fill=\"none\" stroke=\"#000000\" d=\"M182.3298,-18C184.6648,-18 186.9997,-18 189.3347,-18\"/>\n<polygon fill=\"#000000\" stroke=\"#000000\" points=\"189.5726,-21.5001 199.5726,-18 189.5725,-14.5001 189.5726,-21.5001\"/>\n</g>\n</g>\n</svg>\n"
                    }, 
                    "output_type": "execute_result"
                }
            ], 
            "source": "dot"
        }, 
        {
            "source": "## Styling\n\n\nUse the `graph_attr`, `node_attr`, and `edge_attr` arguments to change the default appearance of your graph, nodes, and edges.", 
            "cell_type": "markdown", 
            "metadata": {}
        }, 
        {
            "execution_count": 6, 
            "cell_type": "code", 
            "metadata": {}, 
            "outputs": [], 
            "source": "ps = Digraph(name='pet-shop', node_attr={'shape': 'plaintext'})\n\nps.node('parrot')\nps.node('dead')\nps.edge('parrot', 'dead')"
        }, 
        {
            "execution_count": 7, 
            "cell_type": "code", 
            "metadata": {}, 
            "outputs": [
                {
                    "output_type": "stream", 
                    "name": "stdout", 
                    "text": "digraph \"pet-shop\" {\n\tnode [shape=plaintext]\n\tparrot\n\tdead\n\tparrot -> dead\n}\n"
                }
            ], 
            "source": "print(ps.source)"
        }, 
        {
            "execution_count": 8, 
            "cell_type": "code", 
            "metadata": {}, 
            "outputs": [
                {
                    "execution_count": 8, 
                    "metadata": {}, 
                    "data": {
                        "text/plain": "<graphviz.dot.Digraph at 0x2ab09f530710>", 
                        "image/svg+xml": "<?xml version=\"1.0\" encoding=\"UTF-8\" standalone=\"no\"?>\n<!DOCTYPE svg PUBLIC \"-//W3C//DTD SVG 1.1//EN\"\n \"http://www.w3.org/Graphics/SVG/1.1/DTD/svg11.dtd\">\n<!-- Generated by graphviz version 2.40.1 (20161225.0304)\n -->\n<!-- Title: pet&#45;shop Pages: 1 -->\n<svg width=\"62pt\" height=\"116pt\"\n viewBox=\"0.00 0.00 62.00 116.00\" xmlns=\"http://www.w3.org/2000/svg\" xmlns:xlink=\"http://www.w3.org/1999/xlink\">\n<g id=\"graph0\" class=\"graph\" transform=\"scale(1 1) rotate(0) translate(4 112)\">\n<title>pet&#45;shop</title>\n<polygon fill=\"#ffffff\" stroke=\"transparent\" points=\"-4,4 -4,-112 58,-112 58,4 -4,4\"/>\n<!-- parrot -->\n<g id=\"node1\" class=\"node\">\n<title>parrot</title>\n<text text-anchor=\"middle\" x=\"27\" y=\"-86.3\" font-family=\"Times,serif\" font-size=\"14.00\" fill=\"#000000\">parrot</text>\n</g>\n<!-- dead -->\n<g id=\"node2\" class=\"node\">\n<title>dead</title>\n<text text-anchor=\"middle\" x=\"27\" y=\"-14.3\" font-family=\"Times,serif\" font-size=\"14.00\" fill=\"#000000\">dead</text>\n</g>\n<!-- parrot&#45;&gt;dead -->\n<g id=\"edge1\" class=\"edge\">\n<title>parrot&#45;&gt;dead</title>\n<path fill=\"none\" stroke=\"#000000\" d=\"M27,-71.8314C27,-64.131 27,-54.9743 27,-46.4166\"/>\n<polygon fill=\"#000000\" stroke=\"#000000\" points=\"30.5001,-46.4132 27,-36.4133 23.5001,-46.4133 30.5001,-46.4132\"/>\n</g>\n</g>\n</svg>\n"
                    }, 
                    "output_type": "execute_result"
                }
            ], 
            "source": "ps"
        }, 
        {
            "execution_count": 9, 
            "cell_type": "code", 
            "metadata": {}, 
            "outputs": [], 
            "source": "ps.graph_attr['rankdir'] = 'LR'\nps.edge_attr.update(arrowhead='vee', arrowsize='2')"
        }, 
        {
            "execution_count": 10, 
            "cell_type": "code", 
            "metadata": {}, 
            "outputs": [
                {
                    "execution_count": 10, 
                    "metadata": {}, 
                    "data": {
                        "text/plain": "<graphviz.dot.Digraph at 0x2ab09f530710>", 
                        "image/svg+xml": "<?xml version=\"1.0\" encoding=\"UTF-8\" standalone=\"no\"?>\n<!DOCTYPE svg PUBLIC \"-//W3C//DTD SVG 1.1//EN\"\n \"http://www.w3.org/Graphics/SVG/1.1/DTD/svg11.dtd\">\n<!-- Generated by graphviz version 2.40.1 (20161225.0304)\n -->\n<!-- Title: pet&#45;shop Pages: 1 -->\n<svg width=\"152pt\" height=\"44pt\"\n viewBox=\"0.00 0.00 152.00 44.00\" xmlns=\"http://www.w3.org/2000/svg\" xmlns:xlink=\"http://www.w3.org/1999/xlink\">\n<g id=\"graph0\" class=\"graph\" transform=\"scale(1 1) rotate(0) translate(4 40)\">\n<title>pet&#45;shop</title>\n<polygon fill=\"#ffffff\" stroke=\"transparent\" points=\"-4,4 -4,-40 148,-40 148,4 -4,4\"/>\n<!-- parrot -->\n<g id=\"node1\" class=\"node\">\n<title>parrot</title>\n<text text-anchor=\"middle\" x=\"27\" y=\"-14.3\" font-family=\"Times,serif\" font-size=\"14.00\" fill=\"#000000\">parrot</text>\n</g>\n<!-- dead -->\n<g id=\"node2\" class=\"node\">\n<title>dead</title>\n<text text-anchor=\"middle\" x=\"117\" y=\"-14.3\" font-family=\"Times,serif\" font-size=\"14.00\" fill=\"#000000\">dead</text>\n</g>\n<!-- parrot&#45;&gt;dead -->\n<g id=\"edge1\" class=\"edge\">\n<title>parrot&#45;&gt;dead</title>\n<path fill=\"none\" stroke=\"#000000\" d=\"M54.003,-18C58.9412,-18 64.2257,-18 69.5561,-18\"/>\n<polygon fill=\"#000000\" stroke=\"#000000\" points=\"89.705,-18 69.7051,-27.0001 79.705,-18 69.705,-18.0001 69.705,-18.0001 69.705,-18.0001 79.705,-18 69.705,-9.0001 89.705,-18 89.705,-18\"/>\n</g>\n</g>\n</svg>\n"
                    }, 
                    "output_type": "execute_result"
                }
            ], 
            "source": "ps"
        }, 
        {
            "source": "## Attributes\n\nTo directly add attitbute statements (affecting all following graph, node, or edge items within the same (sub-)graph), use the `attr()` -method with the target as first argument:", 
            "cell_type": "markdown", 
            "metadata": {}
        }, 
        {
            "execution_count": 11, 
            "cell_type": "code", 
            "metadata": {}, 
            "outputs": [], 
            "source": "from graphviz import Graph\n\nni = Graph('ni')\n\nni.attr('node', shape='rarrow')\nni.node('1', 'Ni!')\nni.node('2', 'Ni!')\n\nni.node('3', 'Ni!', shape='egg')\n\nni.attr('node', shape='star')\nni.node('4', 'Ni!')\nni.node('5', 'Ni!')"
        }, 
        {
            "source": "By omitting its first argument, you can use it to set arbitrary attributes as key-value pairs targeting the current (sub-)graph (e.g. for `rankdir`, `label`, or setting `rank=same` within a subgraph context):", 
            "cell_type": "markdown", 
            "metadata": {}
        }, 
        {
            "execution_count": 12, 
            "cell_type": "code", 
            "metadata": {}, 
            "outputs": [], 
            "source": "ni.attr(rankdir='LR')\n\nni.edges(['12', '23', '34', '45'])"
        }, 
        {
            "execution_count": 13, 
            "cell_type": "code", 
            "metadata": {}, 
            "outputs": [
                {
                    "output_type": "stream", 
                    "name": "stdout", 
                    "text": "graph ni {\n\tnode [shape=rarrow]\n\t1 [label=\"Ni!\"]\n\t2 [label=\"Ni!\"]\n\t3 [label=\"Ni!\" shape=egg]\n\tnode [shape=star]\n\t4 [label=\"Ni!\"]\n\t5 [label=\"Ni!\"]\n\trankdir=LR\n\t1 -- 2\n\t2 -- 3\n\t3 -- 4\n\t4 -- 5\n}\n"
                }
            ], 
            "source": "print(ni.source)"
        }, 
        {
            "execution_count": 14, 
            "cell_type": "code", 
            "metadata": {}, 
            "outputs": [
                {
                    "execution_count": 14, 
                    "metadata": {}, 
                    "data": {
                        "text/plain": "<graphviz.dot.Graph at 0x2ab09f543358>", 
                        "image/svg+xml": "<?xml version=\"1.0\" encoding=\"UTF-8\" standalone=\"no\"?>\n<!DOCTYPE svg PUBLIC \"-//W3C//DTD SVG 1.1//EN\"\n \"http://www.w3.org/Graphics/SVG/1.1/DTD/svg11.dtd\">\n<!-- Generated by graphviz version 2.40.1 (20161225.0304)\n -->\n<!-- Title: ni Pages: 1 -->\n<svg width=\"522pt\" height=\"105pt\"\n viewBox=\"0.00 0.00 522.37 105.43\" xmlns=\"http://www.w3.org/2000/svg\" xmlns:xlink=\"http://www.w3.org/1999/xlink\">\n<g id=\"graph0\" class=\"graph\" transform=\"scale(1 1) rotate(0) translate(4 101.4296)\">\n<title>ni</title>\n<polygon fill=\"#ffffff\" stroke=\"transparent\" points=\"-4,4 -4,-101.4296 518.3739,-101.4296 518.3739,4 -4,4\"/>\n<!-- 1 -->\n<g id=\"node1\" class=\"node\">\n<title>1</title>\n<polygon fill=\"none\" stroke=\"#000000\" points=\"36,-60.7148 0,-60.7148 0,-36.7148 36,-36.7148 36,-30.7148 54,-48.7148 36,-66.7148 36,-60.7148\"/>\n<text text-anchor=\"middle\" x=\"27\" y=\"-45.0148\" font-family=\"Times,serif\" font-size=\"14.00\" fill=\"#000000\">Ni!</text>\n</g>\n<!-- 2 -->\n<g id=\"node2\" class=\"node\">\n<title>2</title>\n<polygon fill=\"none\" stroke=\"#000000\" points=\"126,-60.7148 90,-60.7148 90,-36.7148 126,-36.7148 126,-30.7148 144,-48.7148 126,-66.7148 126,-60.7148\"/>\n<text text-anchor=\"middle\" x=\"117\" y=\"-45.0148\" font-family=\"Times,serif\" font-size=\"14.00\" fill=\"#000000\">Ni!</text>\n</g>\n<!-- 1&#45;&#45;2 -->\n<g id=\"edge1\" class=\"edge\">\n<title>1&#45;&#45;2</title>\n<path fill=\"none\" stroke=\"#000000\" d=\"M54.003,-48.7148C65.2905,-48.7148 78.3867,-48.7148 89.705,-48.7148\"/>\n</g>\n<!-- 3 -->\n<g id=\"node3\" class=\"node\">\n<title>3</title>\n<polygon fill=\"none\" stroke=\"#000000\" points=\"211.426,-30.7641 213.202,-30.8627 214.9597,-31.0101 216.6919,-31.2061 218.3915,-31.4501 220.0517,-31.7414 221.666,-32.0792 223.2281,-32.4627 224.732,-32.8907 226.1722,-33.362 227.5435,-33.8754 228.8411,-34.4295 230.0607,-35.0228 231.1984,-35.6536 232.2508,-36.3202 233.2152,-37.0207 234.089,-37.7533 234.8704,-38.516 235.558,-39.3066 236.151,-40.123 236.6489,-40.9629 237.052,-41.8241 237.3606,-42.7042 237.5759,-43.6008 237.6992,-44.5113 237.7324,-45.4334 237.6776,-46.3645 237.5374,-47.302 237.3145,-48.2434 237.0121,-49.1861 236.6334,-50.1275 236.182,-51.0651 235.6616,-51.9961 235.0759,-52.9182 234.4287,-53.8288 233.7241,-54.7254 232.966,-55.6054 232.1582,-56.4666 231.3048,-57.3066 230.4093,-58.123 229.4757,-58.9136 228.5074,-59.6762 227.5078,-60.4089 226.4803,-61.1094 225.4278,-61.776 224.3533,-62.4068 223.2595,-63 222.1488,-63.5541 221.0235,-64.0676 219.8858,-64.5389 218.7373,-64.9669 217.58,-65.3503 216.4152,-65.6881 215.2443,-65.9795 214.0685,-66.2234 212.8889,-66.4194 211.7065,-66.5669 210.522,-66.6654 209.3364,-66.7148 208.1505,-66.7148 206.9649,-66.6654 205.7804,-66.5669 204.598,-66.4194 203.4184,-66.2234 202.2426,-65.9795 201.0717,-65.6881 199.9069,-65.3503 198.7495,-64.9669 197.6011,-64.5389 196.4633,-64.0676 195.3381,-63.5541 194.2274,-63 193.1335,-62.4068 192.0591,-61.776 191.0066,-61.1094 189.9791,-60.4089 188.9795,-59.6762 188.0112,-58.9136 187.0775,-58.123 186.1821,-57.3066 185.3286,-56.4666 184.5209,-55.6054 183.7628,-54.7254 183.0582,-53.8288 182.411,-52.9182 181.8253,-51.9961 181.3048,-51.0651 180.8534,-50.1275 180.4748,-49.1861 180.1724,-48.2434 179.9495,-47.302 179.8093,-46.3645 179.7545,-45.4334 179.7877,-44.5113 179.911,-43.6008 180.1263,-42.7042 180.4349,-41.8241 180.8379,-40.9629 181.3359,-40.123 181.9289,-39.3066 182.6165,-38.516 183.3979,-37.7533 184.2717,-37.0207 185.2361,-36.3202 186.2885,-35.6536 187.4262,-35.0228 188.6458,-34.4295 189.9434,-33.8754 191.3147,-33.362 192.7549,-32.8907 194.2588,-32.4627 195.8209,-32.0792 197.4352,-31.7414 199.0954,-31.4501 200.795,-31.2061 202.5271,-31.0101 204.2848,-30.8627 206.0609,-30.7641 207.848,-30.7148 209.6389,-30.7148 211.426,-30.7641\"/>\n<text text-anchor=\"middle\" x=\"208.7434\" y=\"-45.0148\" font-family=\"Times,serif\" font-size=\"14.00\" fill=\"#000000\">Ni!</text>\n</g>\n<!-- 2&#45;&#45;3 -->\n<g id=\"edge2\" class=\"edge\">\n<title>2&#45;&#45;3</title>\n<path fill=\"none\" stroke=\"#000000\" d=\"M144.0299,-48.7148C155.4467,-48.7148 168.7482,-48.7148 180.3122,-48.7148\"/>\n</g>\n<!-- 4 -->\n<g id=\"node4\" class=\"node\">\n<title>4</title>\n<polygon fill=\"none\" stroke=\"#000000\" points=\"376.1531,-60.2657 336.853,-60.2657 324.7086,-97.6453 312.5642,-60.2657 273.2642,-60.2657 305.0586,-37.1639 292.9142,.2157 324.7086,-22.8861 356.5031,.2157 344.3587,-37.1639 376.1531,-60.2657\"/>\n<text text-anchor=\"middle\" x=\"324.7086\" y=\"-45.0148\" font-family=\"Times,serif\" font-size=\"14.00\" fill=\"#000000\">Ni!</text>\n</g>\n<!-- 3&#45;&#45;4 -->\n<g id=\"edge3\" class=\"edge\">\n<title>3&#45;&#45;4</title>\n<path fill=\"none\" stroke=\"#000000\" d=\"M237.409,-48.7148C252.9696,-48.7148 272.353,-48.7148 288.8998,-48.7148\"/>\n</g>\n<!-- 5 -->\n<g id=\"node5\" class=\"node\">\n<title>5</title>\n<polygon fill=\"none\" stroke=\"#000000\" points=\"514.5966,-60.2657 475.2965,-60.2657 463.1521,-97.6453 451.0078,-60.2657 411.7077,-60.2657 443.5021,-37.1639 431.3577,.2157 463.1521,-22.8861 494.9466,.2157 482.8022,-37.1639 514.5966,-60.2657\"/>\n<text text-anchor=\"middle\" x=\"463.1521\" y=\"-45.0148\" font-family=\"Times,serif\" font-size=\"14.00\" fill=\"#000000\">Ni!</text>\n</g>\n<!-- 4&#45;&#45;5 -->\n<g id=\"edge4\" class=\"edge\">\n<title>4&#45;&#45;5</title>\n<path fill=\"none\" stroke=\"#000000\" d=\"M360.3613,-48.7148C381.0314,-48.7148 406.9708,-48.7148 427.6203,-48.7148\"/>\n</g>\n</g>\n</svg>\n"
                    }, 
                    "output_type": "execute_result"
                }
            ], 
            "source": "ni"
        }, 
        {
            "source": "## Quoting and HTML-like labels\n\nThe graph-building methods of `Graph` and `Digraph` objects automatically take care of quoting/escaping strings [where required](https://www.graphviz.org/doc/info/lang.html) (whitespace, keywords, double quotes, etc.):", 
            "cell_type": "markdown", 
            "metadata": {}
        }, 
        {
            "execution_count": 15, 
            "cell_type": "code", 
            "metadata": {}, 
            "outputs": [], 
            "source": "q = Digraph()\nq.edge('spam', 'eggs eggs')\nq.edge('node', '\"here\\'s a quote\"')"
        }, 
        {
            "execution_count": 16, 
            "cell_type": "code", 
            "metadata": {}, 
            "outputs": [
                {
                    "output_type": "stream", 
                    "name": "stdout", 
                    "text": "digraph {\n\tspam -> \"eggs eggs\"\n\t\"node\" -> \"\\\"here's a quote\\\"\"\n}\n"
                }, 
                {
                    "execution_count": 16, 
                    "metadata": {}, 
                    "data": {
                        "text/plain": "<graphviz.dot.Digraph at 0x2ab09f5302e8>", 
                        "image/svg+xml": "<?xml version=\"1.0\" encoding=\"UTF-8\" standalone=\"no\"?>\n<!DOCTYPE svg PUBLIC \"-//W3C//DTD SVG 1.1//EN\"\n \"http://www.w3.org/Graphics/SVG/1.1/DTD/svg11.dtd\">\n<!-- Generated by graphviz version 2.40.1 (20161225.0304)\n -->\n<!-- Title: %3 Pages: 1 -->\n<svg width=\"250pt\" height=\"116pt\"\n viewBox=\"0.00 0.00 250.44 116.00\" xmlns=\"http://www.w3.org/2000/svg\" xmlns:xlink=\"http://www.w3.org/1999/xlink\">\n<g id=\"graph0\" class=\"graph\" transform=\"scale(1 1) rotate(0) translate(4 112)\">\n<title>%3</title>\n<polygon fill=\"#ffffff\" stroke=\"transparent\" points=\"-4,4 -4,-112 246.44,-112 246.44,4 -4,4\"/>\n<!-- spam -->\n<g id=\"node1\" class=\"node\">\n<title>spam</title>\n<ellipse fill=\"none\" stroke=\"#000000\" cx=\"45.496\" cy=\"-90\" rx=\"29.795\" ry=\"18\"/>\n<text text-anchor=\"middle\" x=\"45.496\" y=\"-86.3\" font-family=\"Times,serif\" font-size=\"14.00\" fill=\"#000000\">spam</text>\n</g>\n<!-- eggs eggs -->\n<g id=\"node2\" class=\"node\">\n<title>eggs eggs</title>\n<ellipse fill=\"none\" stroke=\"#000000\" cx=\"45.496\" cy=\"-18\" rx=\"45.4919\" ry=\"18\"/>\n<text text-anchor=\"middle\" x=\"45.496\" y=\"-14.3\" font-family=\"Times,serif\" font-size=\"14.00\" fill=\"#000000\">eggs eggs</text>\n</g>\n<!-- spam&#45;&gt;eggs eggs -->\n<g id=\"edge1\" class=\"edge\">\n<title>spam&#45;&gt;eggs eggs</title>\n<path fill=\"none\" stroke=\"#000000\" d=\"M45.496,-71.8314C45.496,-64.131 45.496,-54.9743 45.496,-46.4166\"/>\n<polygon fill=\"#000000\" stroke=\"#000000\" points=\"48.9961,-46.4132 45.496,-36.4133 41.9961,-46.4133 48.9961,-46.4132\"/>\n</g>\n<!-- node -->\n<g id=\"node3\" class=\"node\">\n<title>node</title>\n<ellipse fill=\"none\" stroke=\"#000000\" cx=\"175.496\" cy=\"-90\" rx=\"27.8951\" ry=\"18\"/>\n<text text-anchor=\"middle\" x=\"175.496\" y=\"-86.3\" font-family=\"Times,serif\" font-size=\"14.00\" fill=\"#000000\">node</text>\n</g>\n<!-- &quot;here&#39;s a quote&quot; -->\n<g id=\"node4\" class=\"node\">\n<title>&quot;here&#39;s a quote&quot;</title>\n<ellipse fill=\"none\" stroke=\"#000000\" cx=\"175.496\" cy=\"-18\" rx=\"66.8882\" ry=\"18\"/>\n<text text-anchor=\"middle\" x=\"175.496\" y=\"-14.3\" font-family=\"Times,serif\" font-size=\"14.00\" fill=\"#000000\">&quot;here&#39;s a quote&quot;</text>\n</g>\n<!-- node&#45;&gt;&quot;here&#39;s a quote&quot; -->\n<g id=\"edge2\" class=\"edge\">\n<title>node&#45;&gt;&quot;here&#39;s a quote&quot;</title>\n<path fill=\"none\" stroke=\"#000000\" d=\"M175.496,-71.8314C175.496,-64.131 175.496,-54.9743 175.496,-46.4166\"/>\n<polygon fill=\"#000000\" stroke=\"#000000\" points=\"178.9961,-46.4132 175.496,-36.4133 171.9961,-46.4133 178.9961,-46.4132\"/>\n</g>\n</g>\n</svg>\n"
                    }, 
                    "output_type": "execute_result"
                }
            ], 
            "source": "print(q.source)  \nq"
        }, 
        {
            "source": "If a string starts with < and ends with >, it is passed on as is, without quoting/escaping: The content between the angle brackets is treated by the engine as special HTML string that can be used for [HTML-like labels](https://graphviz.gitlab.io/_pages/doc/info/shapes.html#html):", 
            "cell_type": "markdown", 
            "metadata": {}
        }, 
        {
            "execution_count": 17, 
            "cell_type": "code", 
            "metadata": {}, 
            "outputs": [], 
            "source": "h = Graph('html_table')\nh.node('tab', label='''<<TABLE>\n...  <TR>\n...    <TD>left</TD>\n...    <TD>right</TD>\n...  </TR>\n... </TABLE>>''')"
        }, 
        {
            "execution_count": 18, 
            "cell_type": "code", 
            "metadata": {}, 
            "outputs": [
                {
                    "output_type": "stream", 
                    "name": "stdout", 
                    "text": "graph html_table {\n\ttab [label=<<TABLE>\n...  <TR>\n...    <TD>left</TD>\n...    <TD>right</TD>\n...  </TR>\n... </TABLE>>]\n}\n"
                }
            ], 
            "source": "print(h.source)"
        }, 
        {
            "execution_count": 19, 
            "cell_type": "code", 
            "metadata": {}, 
            "outputs": [
                {
                    "execution_count": 19, 
                    "metadata": {}, 
                    "data": {
                        "text/plain": "<graphviz.dot.Graph at 0x2ab09f530e10>", 
                        "image/svg+xml": "<?xml version=\"1.0\" encoding=\"UTF-8\" standalone=\"no\"?>\n<!DOCTYPE svg PUBLIC \"-//W3C//DTD SVG 1.1//EN\"\n \"http://www.w3.org/Graphics/SVG/1.1/DTD/svg11.dtd\">\n<!-- Generated by graphviz version 2.40.1 (20161225.0304)\n -->\n<!-- Title: html_table Pages: 1 -->\n<svg width=\"123pt\" height=\"57pt\"\n viewBox=\"0.00 0.00 122.55 57.50\" xmlns=\"http://www.w3.org/2000/svg\" xmlns:xlink=\"http://www.w3.org/1999/xlink\">\n<g id=\"graph0\" class=\"graph\" transform=\"scale(1 1) rotate(0) translate(4 53.4975)\">\n<title>html_table</title>\n<polygon fill=\"#ffffff\" stroke=\"transparent\" points=\"-4,4 -4,-53.4975 118.5513,-53.4975 118.5513,4 -4,4\"/>\n<!-- tab -->\n<g id=\"node1\" class=\"node\">\n<title>tab</title>\n<ellipse fill=\"none\" stroke=\"#000000\" cx=\"57.2756\" cy=\"-24.7487\" rx=\"57.0522\" ry=\"25\"/>\n<polygon fill=\"none\" stroke=\"#000000\" points=\"28.2756,-13.7487 28.2756,-34.7487 53.2756,-34.7487 53.2756,-13.7487 28.2756,-13.7487\"/>\n<text text-anchor=\"start\" x=\"31.2756\" y=\"-20.5487\" font-family=\"Times,serif\" font-size=\"14.00\" fill=\"#000000\">left</text>\n<polygon fill=\"none\" stroke=\"#000000\" points=\"55.2756,-13.7487 55.2756,-34.7487 87.2756,-34.7487 87.2756,-13.7487 55.2756,-13.7487\"/>\n<text text-anchor=\"start\" x=\"58.2756\" y=\"-20.5487\" font-family=\"Times,serif\" font-size=\"14.00\" fill=\"#000000\">right</text>\n<polygon fill=\"none\" stroke=\"#000000\" points=\"24.7756,-11.2487 24.7756,-38.2487 89.7756,-38.2487 89.7756,-11.2487 24.7756,-11.2487\"/>\n</g>\n</g>\n</svg>\n"
                    }, 
                    "output_type": "execute_result"
                }
            ], 
            "source": "h"
        }, 
        {
            "source": "For strings that should literally begin with < and end with >, use the `nohtml()` function to disable the special meaning of angled parenthesis and apply normal quoting/escaping (before 0.8.2, the only workaround was to add leading or trailing space, e.g. `label=' <>'`):", 
            "cell_type": "markdown", 
            "metadata": {}
        }, 
        {
            "execution_count": 20, 
            "cell_type": "code", 
            "metadata": {}, 
            "outputs": [], 
            "source": "from graphviz import nohtml\n\nd = Digraph(format='svg')\nd.node('diamond', label=nohtml('<>'))"
        }, 
        {
            "execution_count": 21, 
            "cell_type": "code", 
            "metadata": {}, 
            "outputs": [
                {
                    "output_type": "stream", 
                    "name": "stdout", 
                    "text": "digraph {\n\tdiamond [label=\"<>\"]\n}\n"
                }, 
                {
                    "execution_count": 21, 
                    "metadata": {}, 
                    "data": {
                        "text/plain": "<graphviz.dot.Digraph at 0x2ab09f530ef0>", 
                        "image/svg+xml": "<?xml version=\"1.0\" encoding=\"UTF-8\" standalone=\"no\"?>\n<!DOCTYPE svg PUBLIC \"-//W3C//DTD SVG 1.1//EN\"\n \"http://www.w3.org/Graphics/SVG/1.1/DTD/svg11.dtd\">\n<!-- Generated by graphviz version 2.40.1 (20161225.0304)\n -->\n<!-- Title: %3 Pages: 1 -->\n<svg width=\"62pt\" height=\"44pt\"\n viewBox=\"0.00 0.00 62.00 44.00\" xmlns=\"http://www.w3.org/2000/svg\" xmlns:xlink=\"http://www.w3.org/1999/xlink\">\n<g id=\"graph0\" class=\"graph\" transform=\"scale(1 1) rotate(0) translate(4 40)\">\n<title>%3</title>\n<polygon fill=\"#ffffff\" stroke=\"transparent\" points=\"-4,4 -4,-40 58,-40 58,4 -4,4\"/>\n<!-- diamond -->\n<g id=\"node1\" class=\"node\">\n<title>diamond</title>\n<ellipse fill=\"none\" stroke=\"#000000\" cx=\"27\" cy=\"-18\" rx=\"27\" ry=\"18\"/>\n<text text-anchor=\"middle\" x=\"27\" y=\"-14.3\" font-family=\"Times,serif\" font-size=\"14.00\" fill=\"#000000\">&lt;&gt;</text>\n</g>\n</g>\n</svg>\n"
                    }, 
                    "output_type": "execute_result"
                }
            ], 
            "source": "print(d.source)  \nd"
        }, 
        {
            "source": "## Subgraphs & clusters\n\n\nGraph and Digraph objects have a `subgraph()`-method for adding a subgraph to an instance.\n\nThere are two ways to use it: \n\n### Usage 1\n\nEither with a ready-made graph object of the same kind as the only argument (whose content is added as a subgraph) or omitting the `graph` argument (returning a context manager for defining the subgraph content more elegantly within a `with`-block).\n\nFirst usage option, with graph as the only argument:", 
            "cell_type": "markdown", 
            "metadata": {}
        }, 
        {
            "execution_count": 22, 
            "cell_type": "code", 
            "metadata": {}, 
            "outputs": [], 
            "source": "p = Graph(name='parent')\np.edge('spam', 'eggs')\n\nc = Graph(name='child', node_attr={'shape': 'box'})\nc.edge('foo', 'bar')\n\np.subgraph(c)"
        }, 
        {
            "execution_count": 23, 
            "cell_type": "code", 
            "metadata": {}, 
            "outputs": [
                {
                    "output_type": "stream", 
                    "name": "stdout", 
                    "text": "graph child {\n\tnode [shape=box]\n\tfoo -- bar\n}\n"
                }, 
                {
                    "execution_count": 23, 
                    "metadata": {}, 
                    "data": {
                        "text/plain": "<graphviz.dot.Graph at 0x2ab09f5435f8>", 
                        "image/svg+xml": "<?xml version=\"1.0\" encoding=\"UTF-8\" standalone=\"no\"?>\n<!DOCTYPE svg PUBLIC \"-//W3C//DTD SVG 1.1//EN\"\n \"http://www.w3.org/Graphics/SVG/1.1/DTD/svg11.dtd\">\n<!-- Generated by graphviz version 2.40.1 (20161225.0304)\n -->\n<!-- Title: child Pages: 1 -->\n<svg width=\"62pt\" height=\"116pt\"\n viewBox=\"0.00 0.00 62.00 116.00\" xmlns=\"http://www.w3.org/2000/svg\" xmlns:xlink=\"http://www.w3.org/1999/xlink\">\n<g id=\"graph0\" class=\"graph\" transform=\"scale(1 1) rotate(0) translate(4 112)\">\n<title>child</title>\n<polygon fill=\"#ffffff\" stroke=\"transparent\" points=\"-4,4 -4,-112 58,-112 58,4 -4,4\"/>\n<!-- foo -->\n<g id=\"node1\" class=\"node\">\n<title>foo</title>\n<polygon fill=\"none\" stroke=\"#000000\" points=\"54,-108 0,-108 0,-72 54,-72 54,-108\"/>\n<text text-anchor=\"middle\" x=\"27\" y=\"-86.3\" font-family=\"Times,serif\" font-size=\"14.00\" fill=\"#000000\">foo</text>\n</g>\n<!-- bar -->\n<g id=\"node2\" class=\"node\">\n<title>bar</title>\n<polygon fill=\"none\" stroke=\"#000000\" points=\"54,-36 0,-36 0,0 54,0 54,-36\"/>\n<text text-anchor=\"middle\" x=\"27\" y=\"-14.3\" font-family=\"Times,serif\" font-size=\"14.00\" fill=\"#000000\">bar</text>\n</g>\n<!-- foo&#45;&#45;bar -->\n<g id=\"edge1\" class=\"edge\">\n<title>foo&#45;&#45;bar</title>\n<path fill=\"none\" stroke=\"#000000\" d=\"M27,-71.8314C27,-61 27,-47.2876 27,-36.4133\"/>\n</g>\n</g>\n</svg>\n"
                    }, 
                    "output_type": "execute_result"
                }
            ], 
            "source": "print(c.source)\nc"
        }, 
        {
            "execution_count": 24, 
            "cell_type": "code", 
            "metadata": {}, 
            "outputs": [
                {
                    "output_type": "stream", 
                    "name": "stdout", 
                    "text": "graph parent {\n\tspam -- eggs\n\tsubgraph child {\n\t\tnode [shape=box]\n\t\tfoo -- bar\n\t}\n}\n"
                }, 
                {
                    "execution_count": 24, 
                    "metadata": {}, 
                    "data": {
                        "text/plain": "<graphviz.dot.Graph at 0x2ab09f543588>", 
                        "image/svg+xml": "<?xml version=\"1.0\" encoding=\"UTF-8\" standalone=\"no\"?>\n<!DOCTYPE svg PUBLIC \"-//W3C//DTD SVG 1.1//EN\"\n \"http://www.w3.org/Graphics/SVG/1.1/DTD/svg11.dtd\">\n<!-- Generated by graphviz version 2.40.1 (20161225.0304)\n -->\n<!-- Title: parent Pages: 1 -->\n<svg width=\"140pt\" height=\"116pt\"\n viewBox=\"0.00 0.00 139.90 116.00\" xmlns=\"http://www.w3.org/2000/svg\" xmlns:xlink=\"http://www.w3.org/1999/xlink\">\n<g id=\"graph0\" class=\"graph\" transform=\"scale(1 1) rotate(0) translate(4 112)\">\n<title>parent</title>\n<polygon fill=\"#ffffff\" stroke=\"transparent\" points=\"-4,4 -4,-112 135.8973,-112 135.8973,4 -4,4\"/>\n<!-- spam -->\n<g id=\"node1\" class=\"node\">\n<title>spam</title>\n<ellipse fill=\"none\" stroke=\"#000000\" cx=\"29.8973\" cy=\"-90\" rx=\"29.795\" ry=\"18\"/>\n<text text-anchor=\"middle\" x=\"29.8973\" y=\"-86.3\" font-family=\"Times,serif\" font-size=\"14.00\" fill=\"#000000\">spam</text>\n</g>\n<!-- eggs -->\n<g id=\"node2\" class=\"node\">\n<title>eggs</title>\n<ellipse fill=\"none\" stroke=\"#000000\" cx=\"29.8973\" cy=\"-18\" rx=\"27\" ry=\"18\"/>\n<text text-anchor=\"middle\" x=\"29.8973\" y=\"-14.3\" font-family=\"Times,serif\" font-size=\"14.00\" fill=\"#000000\">eggs</text>\n</g>\n<!-- spam&#45;&#45;eggs -->\n<g id=\"edge1\" class=\"edge\">\n<title>spam&#45;&#45;eggs</title>\n<path fill=\"none\" stroke=\"#000000\" d=\"M29.8973,-71.8314C29.8973,-61 29.8973,-47.2876 29.8973,-36.4133\"/>\n</g>\n<!-- foo -->\n<g id=\"node3\" class=\"node\">\n<title>foo</title>\n<polygon fill=\"none\" stroke=\"#000000\" points=\"131.8973,-108 77.8973,-108 77.8973,-72 131.8973,-72 131.8973,-108\"/>\n<text text-anchor=\"middle\" x=\"104.8973\" y=\"-86.3\" font-family=\"Times,serif\" font-size=\"14.00\" fill=\"#000000\">foo</text>\n</g>\n<!-- bar -->\n<g id=\"node4\" class=\"node\">\n<title>bar</title>\n<polygon fill=\"none\" stroke=\"#000000\" points=\"131.8973,-36 77.8973,-36 77.8973,0 131.8973,0 131.8973,-36\"/>\n<text text-anchor=\"middle\" x=\"104.8973\" y=\"-14.3\" font-family=\"Times,serif\" font-size=\"14.00\" fill=\"#000000\">bar</text>\n</g>\n<!-- foo&#45;&#45;bar -->\n<g id=\"edge2\" class=\"edge\">\n<title>foo&#45;&#45;bar</title>\n<path fill=\"none\" stroke=\"#000000\" d=\"M104.8973,-71.8314C104.8973,-61 104.8973,-47.2876 104.8973,-36.4133\"/>\n</g>\n</g>\n</svg>\n"
                    }, 
                    "output_type": "execute_result"
                }
            ], 
            "source": "print(p.source)\np"
        }, 
        {
            "source": "### Usage 2\n\nSecond usage, with a `with`-block (omitting the graph argument):", 
            "cell_type": "markdown", 
            "metadata": {}
        }, 
        {
            "execution_count": 25, 
            "cell_type": "code", 
            "metadata": {}, 
            "outputs": [], 
            "source": "p = Graph(name='parent')\np.edge('spam', 'eggs')\n\nwith p.subgraph(name='child', node_attr={'shape': 'box'}) as c: c.edge('foo', 'bar')"
        }, 
        {
            "execution_count": 26, 
            "cell_type": "code", 
            "metadata": {}, 
            "outputs": [
                {
                    "output_type": "stream", 
                    "name": "stdout", 
                    "text": "graph parent {\n\tspam -- eggs\n\tsubgraph child {\n\t\tnode [shape=box]\n\t\tfoo -- bar\n\t}\n}\n"
                }, 
                {
                    "execution_count": 26, 
                    "metadata": {}, 
                    "data": {
                        "text/plain": "<graphviz.dot.Graph at 0x2ab09f5436a0>", 
                        "image/svg+xml": "<?xml version=\"1.0\" encoding=\"UTF-8\" standalone=\"no\"?>\n<!DOCTYPE svg PUBLIC \"-//W3C//DTD SVG 1.1//EN\"\n \"http://www.w3.org/Graphics/SVG/1.1/DTD/svg11.dtd\">\n<!-- Generated by graphviz version 2.40.1 (20161225.0304)\n -->\n<!-- Title: parent Pages: 1 -->\n<svg width=\"140pt\" height=\"116pt\"\n viewBox=\"0.00 0.00 139.90 116.00\" xmlns=\"http://www.w3.org/2000/svg\" xmlns:xlink=\"http://www.w3.org/1999/xlink\">\n<g id=\"graph0\" class=\"graph\" transform=\"scale(1 1) rotate(0) translate(4 112)\">\n<title>parent</title>\n<polygon fill=\"#ffffff\" stroke=\"transparent\" points=\"-4,4 -4,-112 135.8973,-112 135.8973,4 -4,4\"/>\n<!-- spam -->\n<g id=\"node1\" class=\"node\">\n<title>spam</title>\n<ellipse fill=\"none\" stroke=\"#000000\" cx=\"29.8973\" cy=\"-90\" rx=\"29.795\" ry=\"18\"/>\n<text text-anchor=\"middle\" x=\"29.8973\" y=\"-86.3\" font-family=\"Times,serif\" font-size=\"14.00\" fill=\"#000000\">spam</text>\n</g>\n<!-- eggs -->\n<g id=\"node2\" class=\"node\">\n<title>eggs</title>\n<ellipse fill=\"none\" stroke=\"#000000\" cx=\"29.8973\" cy=\"-18\" rx=\"27\" ry=\"18\"/>\n<text text-anchor=\"middle\" x=\"29.8973\" y=\"-14.3\" font-family=\"Times,serif\" font-size=\"14.00\" fill=\"#000000\">eggs</text>\n</g>\n<!-- spam&#45;&#45;eggs -->\n<g id=\"edge1\" class=\"edge\">\n<title>spam&#45;&#45;eggs</title>\n<path fill=\"none\" stroke=\"#000000\" d=\"M29.8973,-71.8314C29.8973,-61 29.8973,-47.2876 29.8973,-36.4133\"/>\n</g>\n<!-- foo -->\n<g id=\"node3\" class=\"node\">\n<title>foo</title>\n<polygon fill=\"none\" stroke=\"#000000\" points=\"131.8973,-108 77.8973,-108 77.8973,-72 131.8973,-72 131.8973,-108\"/>\n<text text-anchor=\"middle\" x=\"104.8973\" y=\"-86.3\" font-family=\"Times,serif\" font-size=\"14.00\" fill=\"#000000\">foo</text>\n</g>\n<!-- bar -->\n<g id=\"node4\" class=\"node\">\n<title>bar</title>\n<polygon fill=\"none\" stroke=\"#000000\" points=\"131.8973,-36 77.8973,-36 77.8973,0 131.8973,0 131.8973,-36\"/>\n<text text-anchor=\"middle\" x=\"104.8973\" y=\"-14.3\" font-family=\"Times,serif\" font-size=\"14.00\" fill=\"#000000\">bar</text>\n</g>\n<!-- foo&#45;&#45;bar -->\n<g id=\"edge2\" class=\"edge\">\n<title>foo&#45;&#45;bar</title>\n<path fill=\"none\" stroke=\"#000000\" d=\"M104.8973,-71.8314C104.8973,-61 104.8973,-47.2876 104.8973,-36.4133\"/>\n</g>\n</g>\n</svg>\n"
                    }, 
                    "output_type": "execute_result"
                }
            ], 
            "source": "print(p.source)\np"
        }, 
        {
            "source": "## Custom DOT statements\n\nTo add arbitrary statements to the created DOT source, use the body attribute of the `Graph` or `Digraph` object. It holds the verbatim list of lines to be written to the source file. Use its `append()` or `extend()` method.\n\nNote that you might need to correctly quote/escape identifiers and strings containing whitespace or other special characters when using this method.\n", 
            "cell_type": "markdown", 
            "metadata": {}
        }, 
        {
            "execution_count": 27, 
            "cell_type": "code", 
            "metadata": {}, 
            "outputs": [], 
            "source": "rt = Digraph(comment='The Round Table')\n\nrt.body.append('\\t\"King Arthur\" -> {\\n\\t\\t\"Sir Bedevere\", \"Sir Lancelot\"\\n\\t}')\nrt.edge('Sir Bedevere', 'Sir Lancelot', constraint='false')"
        }, 
        {
            "execution_count": 28, 
            "cell_type": "code", 
            "metadata": {}, 
            "outputs": [
                {
                    "output_type": "stream", 
                    "name": "stdout", 
                    "text": "// The Round Table\ndigraph {\n\t\"King Arthur\" -> {\n\t\t\"Sir Bedevere\", \"Sir Lancelot\"\n\t}\n\t\"Sir Bedevere\" -> \"Sir Lancelot\" [constraint=false]\n}\n"
                }, 
                {
                    "execution_count": 28, 
                    "metadata": {}, 
                    "data": {
                        "text/plain": "<graphviz.dot.Digraph at 0x2ab09f5433c8>", 
                        "image/svg+xml": "<?xml version=\"1.0\" encoding=\"UTF-8\" standalone=\"no\"?>\n<!DOCTYPE svg PUBLIC \"-//W3C//DTD SVG 1.1//EN\"\n \"http://www.w3.org/Graphics/SVG/1.1/DTD/svg11.dtd\">\n<!-- Generated by graphviz version 2.40.1 (20161225.0304)\n -->\n<!-- Title: %3 Pages: 1 -->\n<svg width=\"246pt\" height=\"116pt\"\n viewBox=\"0.00 0.00 246.49 116.00\" xmlns=\"http://www.w3.org/2000/svg\" xmlns:xlink=\"http://www.w3.org/1999/xlink\">\n<g id=\"graph0\" class=\"graph\" transform=\"scale(1 1) rotate(0) translate(4 112)\">\n<title>%3</title>\n<polygon fill=\"#ffffff\" stroke=\"transparent\" points=\"-4,4 -4,-112 242.4902,-112 242.4902,4 -4,4\"/>\n<!-- King Arthur -->\n<g id=\"node1\" class=\"node\">\n<title>King Arthur</title>\n<ellipse fill=\"none\" stroke=\"#000000\" cx=\"120.545\" cy=\"-90\" rx=\"53.8905\" ry=\"18\"/>\n<text text-anchor=\"middle\" x=\"120.545\" y=\"-86.3\" font-family=\"Times,serif\" font-size=\"14.00\" fill=\"#000000\">King Arthur</text>\n</g>\n<!-- Sir Bedevere -->\n<g id=\"node2\" class=\"node\">\n<title>Sir Bedevere</title>\n<ellipse fill=\"none\" stroke=\"#000000\" cx=\"56.545\" cy=\"-18\" rx=\"56.59\" ry=\"18\"/>\n<text text-anchor=\"middle\" x=\"56.545\" y=\"-14.3\" font-family=\"Times,serif\" font-size=\"14.00\" fill=\"#000000\">Sir Bedevere</text>\n</g>\n<!-- King Arthur&#45;&gt;Sir Bedevere -->\n<g id=\"edge1\" class=\"edge\">\n<title>King Arthur&#45;&gt;Sir Bedevere</title>\n<path fill=\"none\" stroke=\"#000000\" d=\"M105.0524,-72.5708C97.1709,-63.7041 87.4497,-52.7678 78.7844,-43.0194\"/>\n<polygon fill=\"#000000\" stroke=\"#000000\" points=\"81.3764,-40.6671 72.1167,-35.5182 76.1445,-45.3176 81.3764,-40.6671\"/>\n</g>\n<!-- Sir Lancelot -->\n<g id=\"node3\" class=\"node\">\n<title>Sir Lancelot</title>\n<ellipse fill=\"none\" stroke=\"#000000\" cx=\"184.545\" cy=\"-18\" rx=\"53.8905\" ry=\"18\"/>\n<text text-anchor=\"middle\" x=\"184.545\" y=\"-14.3\" font-family=\"Times,serif\" font-size=\"14.00\" fill=\"#000000\">Sir Lancelot</text>\n</g>\n<!-- King Arthur&#45;&gt;Sir Lancelot -->\n<g id=\"edge2\" class=\"edge\">\n<title>King Arthur&#45;&gt;Sir Lancelot</title>\n<path fill=\"none\" stroke=\"#000000\" d=\"M136.0376,-72.5708C143.9775,-63.6385 153.7844,-52.6056 162.4979,-42.8029\"/>\n<polygon fill=\"#000000\" stroke=\"#000000\" points=\"165.1673,-45.0681 169.195,-35.2687 159.9354,-40.4175 165.1673,-45.0681\"/>\n</g>\n<!-- Sir Bedevere&#45;&gt;Sir Lancelot -->\n<g id=\"edge3\" class=\"edge\">\n<title>Sir Bedevere&#45;&gt;Sir Lancelot</title>\n<path fill=\"none\" stroke=\"#000000\" d=\"M113.545,-18C115.836,-18 118.1269,-18 120.4179,-18\"/>\n<polygon fill=\"#000000\" stroke=\"#000000\" points=\"120.463,-21.5001 130.463,-18 120.4629,-14.5001 120.463,-21.5001\"/>\n</g>\n</g>\n</svg>\n"
                    }, 
                    "output_type": "execute_result"
                }
            ], 
            "source": "print(rt.source) \nrt"
        }, 
        {
            "source": "## Using raw DOT\n\nTo render a ready-made DOT source code string (instead of assembling one with the higher-level interface of `Graph` or `Digraph`), create a `Source` object holding your DOT string:\n\n", 
            "cell_type": "markdown", 
            "metadata": {}
        }, 
        {
            "execution_count": 29, 
            "cell_type": "code", 
            "metadata": {}, 
            "outputs": [
                {
                    "execution_count": 29, 
                    "metadata": {}, 
                    "data": {
                        "text/plain": "<graphviz.files.Source at 0x2ab09f543128>", 
                        "image/svg+xml": "<?xml version=\"1.0\" encoding=\"UTF-8\" standalone=\"no\"?>\n<!DOCTYPE svg PUBLIC \"-//W3C//DTD SVG 1.1//EN\"\n \"http://www.w3.org/Graphics/SVG/1.1/DTD/svg11.dtd\">\n<!-- Generated by graphviz version 2.40.1 (20161225.0304)\n -->\n<!-- Title: the holy hand grenade Pages: 1 -->\n<svg width=\"332pt\" height=\"44pt\"\n viewBox=\"0.00 0.00 332.00 44.00\" xmlns=\"http://www.w3.org/2000/svg\" xmlns:xlink=\"http://www.w3.org/1999/xlink\">\n<g id=\"graph0\" class=\"graph\" transform=\"scale(1 1) rotate(0) translate(4 40)\">\n<title>the holy hand grenade</title>\n<polygon fill=\"#ffffff\" stroke=\"transparent\" points=\"-4,4 -4,-40 328,-40 328,4 -4,4\"/>\n<!-- 1 -->\n<g id=\"node1\" class=\"node\">\n<title>1</title>\n<ellipse fill=\"none\" stroke=\"#000000\" cx=\"27\" cy=\"-18\" rx=\"27\" ry=\"18\"/>\n<text text-anchor=\"middle\" x=\"27\" y=\"-14.3\" font-family=\"Times,serif\" font-size=\"14.00\" fill=\"#000000\">1</text>\n</g>\n<!-- 2 -->\n<g id=\"node2\" class=\"node\">\n<title>2</title>\n<ellipse fill=\"none\" stroke=\"#000000\" cx=\"117\" cy=\"-18\" rx=\"27\" ry=\"18\"/>\n<text text-anchor=\"middle\" x=\"117\" y=\"-14.3\" font-family=\"Times,serif\" font-size=\"14.00\" fill=\"#000000\">2</text>\n</g>\n<!-- 1&#45;&gt;2 -->\n<g id=\"edge1\" class=\"edge\">\n<title>1&#45;&gt;2</title>\n<path fill=\"none\" stroke=\"#000000\" d=\"M54.003,-18C62.0277,-18 70.9665,-18 79.5309,-18\"/>\n<polygon fill=\"#000000\" stroke=\"#000000\" points=\"79.7051,-21.5001 89.705,-18 79.705,-14.5001 79.7051,-21.5001\"/>\n</g>\n<!-- 3 -->\n<g id=\"node3\" class=\"node\">\n<title>3</title>\n<ellipse fill=\"none\" stroke=\"#000000\" cx=\"207\" cy=\"-18\" rx=\"27\" ry=\"18\"/>\n<text text-anchor=\"middle\" x=\"207\" y=\"-14.3\" font-family=\"Times,serif\" font-size=\"14.00\" fill=\"#000000\">3</text>\n</g>\n<!-- 2&#45;&gt;3 -->\n<g id=\"edge2\" class=\"edge\">\n<title>2&#45;&gt;3</title>\n<path fill=\"none\" stroke=\"#000000\" d=\"M144.003,-18C152.0277,-18 160.9665,-18 169.5309,-18\"/>\n<polygon fill=\"#000000\" stroke=\"#000000\" points=\"169.7051,-21.5001 179.705,-18 169.705,-14.5001 169.7051,-21.5001\"/>\n</g>\n<!-- lob -->\n<g id=\"node4\" class=\"node\">\n<title>lob</title>\n<ellipse fill=\"none\" stroke=\"#000000\" cx=\"297\" cy=\"-18\" rx=\"27\" ry=\"18\"/>\n<text text-anchor=\"middle\" x=\"297\" y=\"-14.3\" font-family=\"Times,serif\" font-size=\"14.00\" fill=\"#000000\">lob</text>\n</g>\n<!-- 3&#45;&gt;lob -->\n<g id=\"edge3\" class=\"edge\">\n<title>3&#45;&gt;lob</title>\n<path fill=\"none\" stroke=\"#000000\" d=\"M234.003,-18C242.0277,-18 250.9665,-18 259.5309,-18\"/>\n<polygon fill=\"#000000\" stroke=\"#000000\" points=\"259.7051,-21.5001 269.705,-18 259.705,-14.5001 259.7051,-21.5001\"/>\n</g>\n</g>\n</svg>\n"
                    }, 
                    "output_type": "execute_result"
                }
            ], 
            "source": "from graphviz import Source\n\nsrc = Source('digraph \"the holy hand grenade\" { rankdir=LR; 1 -> 2 -> 3 -> lob }')\nsrc"
        }, 
        {
            "source": "## Existing files\n\nTo directly render an existing DOT source file (e.g. created with other tools), you can use the `Source.from_file()` function.", 
            "cell_type": "markdown", 
            "metadata": {}
        }, 
        {
            "execution_count": 30, 
            "cell_type": "code", 
            "metadata": {}, 
            "outputs": [
                {
                    "output_type": "stream", 
                    "name": "stdout", 
                    "text": "ls: cannot access *.gv: No such file or directory\r\n"
                }
            ], 
            "source": "!ls *.gv\n#!rm *.gv"
        }, 
        {
            "execution_count": 36, 
            "cell_type": "code", 
            "metadata": {}, 
            "outputs": [
                {
                    "output_type": "stream", 
                    "name": "stdout", 
                    "text": "Collecting wget\n  Downloading https://files.pythonhosted.org/packages/47/6a/62e288da7bcda82b935ff0c6cfe542970f04e29c756b0e147251b2fb251f/wget-3.2.zip\nBuilding wheels for collected packages: wget\n  Running setup.py bdist_wheel for wget ... \u001b[?25ldone\n\u001b[?25h  Stored in directory: /home/dsxuser/.cache/pip/wheels/40/15/30/7d8f7cea2902b4db79e3fea550d7d7b85ecb27ef992b618f3f\nSuccessfully built wget\nInstalling collected packages: wget\nSuccessfully installed wget-3.2\n"
                }
            ], 
            "source": "!pip install wget"
        }, 
        {
            "execution_count": 37, 
            "cell_type": "code", 
            "metadata": {}, 
            "outputs": [
                {
                    "execution_count": 37, 
                    "metadata": {}, 
                    "data": {
                        "text/plain": "<graphviz.files.Source at 0x2ab09f7d6390>", 
                        "image/svg+xml": "<?xml version=\"1.0\" encoding=\"UTF-8\" standalone=\"no\"?>\n<!DOCTYPE svg PUBLIC \"-//W3C//DTD SVG 1.1//EN\"\n \"http://www.w3.org/Graphics/SVG/1.1/DTD/svg11.dtd\">\n<!-- Generated by graphviz version 2.40.1 (20161225.0304)\n -->\n<!-- Title: G Pages: 1 -->\n<svg width=\"262pt\" height=\"151pt\"\n viewBox=\"0.00 0.00 262.00 151.00\" xmlns=\"http://www.w3.org/2000/svg\" xmlns:xlink=\"http://www.w3.org/1999/xlink\">\n<g id=\"graph0\" class=\"graph\" transform=\"scale(1 1) rotate(0) translate(4 147)\">\n<title>G</title>\n<polygon fill=\"#ffffff\" stroke=\"transparent\" points=\"-4,4 -4,-147 258,-147 258,4 -4,4\"/>\n<!-- struct1 -->\n<g id=\"node1\" class=\"node\">\n<title>struct1</title>\n<polygon fill=\"none\" stroke=\"#000000\" points=\"8.5,-106.5 8.5,-142.5 140.5,-142.5 140.5,-106.5 8.5,-106.5\"/>\n<text text-anchor=\"middle\" x=\"26\" y=\"-120.8\" font-family=\"Times,serif\" font-size=\"14.00\" fill=\"#000000\">left</text>\n<polyline fill=\"none\" stroke=\"#000000\" points=\"43.5,-106.5 43.5,-142.5 \"/>\n<text text-anchor=\"middle\" x=\"71\" y=\"-120.8\" font-family=\"Times,serif\" font-size=\"14.00\" fill=\"#000000\">middle</text>\n<polyline fill=\"none\" stroke=\"#000000\" points=\"98.5,-106.5 98.5,-142.5 \"/>\n<text text-anchor=\"middle\" x=\"119.5\" y=\"-120.8\" font-family=\"Times,serif\" font-size=\"14.00\" fill=\"#000000\">right</text>\n</g>\n<!-- struct2 -->\n<g id=\"node2\" class=\"node\">\n<title>struct2</title>\n<polygon fill=\"none\" stroke=\"#000000\" points=\"0,-17 0,-53 73,-53 73,-17 0,-17\"/>\n<text text-anchor=\"middle\" x=\"18\" y=\"-31.3\" font-family=\"Times,serif\" font-size=\"14.00\" fill=\"#000000\">one</text>\n<polyline fill=\"none\" stroke=\"#000000\" points=\"36,-17 36,-53 \"/>\n<text text-anchor=\"middle\" x=\"54.5\" y=\"-31.3\" font-family=\"Times,serif\" font-size=\"14.00\" fill=\"#000000\">two</text>\n</g>\n<!-- struct1&#45;&gt;struct2 -->\n<g id=\"edge1\" class=\"edge\">\n<title>struct1:f1&#45;&gt;struct2:f0</title>\n<path fill=\"none\" stroke=\"#000000\" d=\"M70.5,-106.5C70.5,-76.9522 29.194,-83.9643 19.5129,-62.9852\"/>\n<polygon fill=\"#000000\" stroke=\"#000000\" points=\"22.9072,-62.1111 17.5,-53 16.0453,-63.4945 22.9072,-62.1111\"/>\n</g>\n<!-- struct3 -->\n<g id=\"node3\" class=\"node\">\n<title>struct3</title>\n<polygon fill=\"none\" stroke=\"#000000\" points=\"91,-.5 91,-69.5 254,-69.5 254,-.5 91,-.5\"/>\n<text text-anchor=\"middle\" x=\"115\" y=\"-38.8\" font-family=\"Times,serif\" font-size=\"14.00\" fill=\"#000000\">hello</text>\n<text text-anchor=\"middle\" x=\"115\" y=\"-23.8\" font-family=\"Times,serif\" font-size=\"14.00\" fill=\"#000000\">world</text>\n<polyline fill=\"none\" stroke=\"#000000\" points=\"139,-.5 139,-69.5 \"/>\n<text text-anchor=\"middle\" x=\"173.5\" y=\"-54.3\" font-family=\"Times,serif\" font-size=\"14.00\" fill=\"#000000\">b</text>\n<polyline fill=\"none\" stroke=\"#000000\" points=\"139,-46.5 208,-46.5 \"/>\n<text text-anchor=\"middle\" x=\"150.5\" y=\"-31.3\" font-family=\"Times,serif\" font-size=\"14.00\" fill=\"#000000\">c</text>\n<polyline fill=\"none\" stroke=\"#000000\" points=\"162,-23.5 162,-46.5 \"/>\n<text text-anchor=\"middle\" x=\"173.5\" y=\"-31.3\" font-family=\"Times,serif\" font-size=\"14.00\" fill=\"#000000\">d</text>\n<polyline fill=\"none\" stroke=\"#000000\" points=\"185,-23.5 185,-46.5 \"/>\n<text text-anchor=\"middle\" x=\"196.5\" y=\"-31.3\" font-family=\"Times,serif\" font-size=\"14.00\" fill=\"#000000\">e</text>\n<polyline fill=\"none\" stroke=\"#000000\" points=\"139,-23.5 208,-23.5 \"/>\n<text text-anchor=\"middle\" x=\"173.5\" y=\"-8.3\" font-family=\"Times,serif\" font-size=\"14.00\" fill=\"#000000\">f</text>\n<polyline fill=\"none\" stroke=\"#000000\" points=\"208,-.5 208,-69.5 \"/>\n<text text-anchor=\"middle\" x=\"219.5\" y=\"-31.3\" font-family=\"Times,serif\" font-size=\"14.00\" fill=\"#000000\">g</text>\n<polyline fill=\"none\" stroke=\"#000000\" points=\"231,-.5 231,-69.5 \"/>\n<text text-anchor=\"middle\" x=\"242.5\" y=\"-31.3\" font-family=\"Times,serif\" font-size=\"14.00\" fill=\"#000000\">h</text>\n</g>\n<!-- struct1&#45;&gt;struct3 -->\n<g id=\"edge2\" class=\"edge\">\n<title>struct1:f2&#45;&gt;struct3:here</title>\n<path fill=\"none\" stroke=\"#000000\" d=\"M119.5,-106.5C119.5,-94.5355 138.9978,-71.1332 154.5613,-54.3589\"/>\n<polygon fill=\"#000000\" stroke=\"#000000\" points=\"157.4464,-56.4026 161.7828,-46.7358 152.3646,-51.5885 157.4464,-56.4026\"/>\n</g>\n</g>\n</svg>\n"
                    }, 
                    "output_type": "execute_result"
                }
            ], 
            "source": "from graphviz import render\n\nimport wget\nwget.download('https://github.com/tuliplab/mds/raw/master/Jupyter/data/gvsample0.gv')\n\n\nSource.from_file('gvsample0.gv')"
        }, 
        {
            "execution_count": 39, 
            "cell_type": "code", 
            "metadata": {}, 
            "outputs": [
                {
                    "execution_count": 39, 
                    "metadata": {}, 
                    "data": {
                        "text/plain": "<graphviz.files.Source at 0x2ab09f7cd2b0>", 
                        "image/svg+xml": "<?xml version=\"1.0\" encoding=\"UTF-8\" standalone=\"no\"?>\n<!DOCTYPE svg PUBLIC \"-//W3C//DTD SVG 1.1//EN\"\n \"http://www.w3.org/Graphics/SVG/1.1/DTD/svg11.dtd\">\n<!-- Generated by graphviz version 2.40.1 (20161225.0304)\n -->\n<!-- Title: G Pages: 1 -->\n<svg width=\"262pt\" height=\"151pt\"\n viewBox=\"0.00 0.00 262.00 151.00\" xmlns=\"http://www.w3.org/2000/svg\" xmlns:xlink=\"http://www.w3.org/1999/xlink\">\n<g id=\"graph0\" class=\"graph\" transform=\"scale(1 1) rotate(0) translate(4 147)\">\n<title>G</title>\n<polygon fill=\"#ffffff\" stroke=\"transparent\" points=\"-4,4 -4,-147 258,-147 258,4 -4,4\"/>\n<!-- struct1 -->\n<g id=\"node1\" class=\"node\">\n<title>struct1</title>\n<polygon fill=\"none\" stroke=\"#000000\" points=\"8.5,-106.5 8.5,-142.5 140.5,-142.5 140.5,-106.5 8.5,-106.5\"/>\n<text text-anchor=\"middle\" x=\"26\" y=\"-120.8\" font-family=\"Times,serif\" font-size=\"14.00\" fill=\"#000000\">left</text>\n<polyline fill=\"none\" stroke=\"#000000\" points=\"43.5,-106.5 43.5,-142.5 \"/>\n<text text-anchor=\"middle\" x=\"71\" y=\"-120.8\" font-family=\"Times,serif\" font-size=\"14.00\" fill=\"#000000\">middle</text>\n<polyline fill=\"none\" stroke=\"#000000\" points=\"98.5,-106.5 98.5,-142.5 \"/>\n<text text-anchor=\"middle\" x=\"119.5\" y=\"-120.8\" font-family=\"Times,serif\" font-size=\"14.00\" fill=\"#000000\">right</text>\n</g>\n<!-- struct2 -->\n<g id=\"node2\" class=\"node\">\n<title>struct2</title>\n<polygon fill=\"none\" stroke=\"#000000\" points=\"0,-17 0,-53 73,-53 73,-17 0,-17\"/>\n<text text-anchor=\"middle\" x=\"18\" y=\"-31.3\" font-family=\"Times,serif\" font-size=\"14.00\" fill=\"#000000\">one</text>\n<polyline fill=\"none\" stroke=\"#000000\" points=\"36,-17 36,-53 \"/>\n<text text-anchor=\"middle\" x=\"54.5\" y=\"-31.3\" font-family=\"Times,serif\" font-size=\"14.00\" fill=\"#000000\">two</text>\n</g>\n<!-- struct1&#45;&gt;struct2 -->\n<g id=\"edge1\" class=\"edge\">\n<title>struct1:f1&#45;&gt;struct2:f0</title>\n<path fill=\"none\" stroke=\"#000000\" d=\"M70.5,-106.5C70.5,-76.9522 29.194,-83.9643 19.5129,-62.9852\"/>\n<polygon fill=\"#000000\" stroke=\"#000000\" points=\"22.9072,-62.1111 17.5,-53 16.0453,-63.4945 22.9072,-62.1111\"/>\n</g>\n<!-- struct3 -->\n<g id=\"node3\" class=\"node\">\n<title>struct3</title>\n<polygon fill=\"none\" stroke=\"#000000\" points=\"91,-.5 91,-69.5 254,-69.5 254,-.5 91,-.5\"/>\n<text text-anchor=\"middle\" x=\"115\" y=\"-38.8\" font-family=\"Times,serif\" font-size=\"14.00\" fill=\"#000000\">hello</text>\n<text text-anchor=\"middle\" x=\"115\" y=\"-23.8\" font-family=\"Times,serif\" font-size=\"14.00\" fill=\"#000000\">world</text>\n<polyline fill=\"none\" stroke=\"#000000\" points=\"139,-.5 139,-69.5 \"/>\n<text text-anchor=\"middle\" x=\"173.5\" y=\"-54.3\" font-family=\"Times,serif\" font-size=\"14.00\" fill=\"#000000\">b</text>\n<polyline fill=\"none\" stroke=\"#000000\" points=\"139,-46.5 208,-46.5 \"/>\n<text text-anchor=\"middle\" x=\"150.5\" y=\"-31.3\" font-family=\"Times,serif\" font-size=\"14.00\" fill=\"#000000\">c</text>\n<polyline fill=\"none\" stroke=\"#000000\" points=\"162,-23.5 162,-46.5 \"/>\n<text text-anchor=\"middle\" x=\"173.5\" y=\"-31.3\" font-family=\"Times,serif\" font-size=\"14.00\" fill=\"#000000\">d</text>\n<polyline fill=\"none\" stroke=\"#000000\" points=\"185,-23.5 185,-46.5 \"/>\n<text text-anchor=\"middle\" x=\"196.5\" y=\"-31.3\" font-family=\"Times,serif\" font-size=\"14.00\" fill=\"#000000\">e</text>\n<polyline fill=\"none\" stroke=\"#000000\" points=\"139,-23.5 208,-23.5 \"/>\n<text text-anchor=\"middle\" x=\"173.5\" y=\"-8.3\" font-family=\"Times,serif\" font-size=\"14.00\" fill=\"#000000\">f</text>\n<polyline fill=\"none\" stroke=\"#000000\" points=\"208,-.5 208,-69.5 \"/>\n<text text-anchor=\"middle\" x=\"219.5\" y=\"-31.3\" font-family=\"Times,serif\" font-size=\"14.00\" fill=\"#000000\">g</text>\n<polyline fill=\"none\" stroke=\"#000000\" points=\"231,-.5 231,-69.5 \"/>\n<text text-anchor=\"middle\" x=\"242.5\" y=\"-31.3\" font-family=\"Times,serif\" font-size=\"14.00\" fill=\"#000000\">h</text>\n</g>\n<!-- struct1&#45;&gt;struct3 -->\n<g id=\"edge2\" class=\"edge\">\n<title>struct1:f2&#45;&gt;struct3:here</title>\n<path fill=\"none\" stroke=\"#000000\" d=\"M119.5,-106.5C119.5,-94.5355 138.9978,-71.1332 154.5613,-54.3589\"/>\n<polygon fill=\"#000000\" stroke=\"#000000\" points=\"157.4464,-56.4026 161.7828,-46.7358 152.3646,-51.5885 157.4464,-56.4026\"/>\n</g>\n</g>\n</svg>\n"
                    }, 
                    "output_type": "execute_result"
                }
            ], 
            "source": "wget.download('https://github.com/tuliplab/mds/raw/master/Jupyter/data/gvsample1.gv')\n\nSource.from_file('gvsample1.gv')"
        }, 
        {
            "execution_count": 40, 
            "cell_type": "code", 
            "metadata": {}, 
            "outputs": [
                {
                    "execution_count": 40, 
                    "metadata": {}, 
                    "data": {
                        "text/plain": "<graphviz.files.Source at 0x2ab09f7cd0b8>", 
                        "image/svg+xml": "<?xml version=\"1.0\" encoding=\"UTF-8\" standalone=\"no\"?>\n<!DOCTYPE svg PUBLIC \"-//W3C//DTD SVG 1.1//EN\"\n \"http://www.w3.org/Graphics/SVG/1.1/DTD/svg11.dtd\">\n<!-- Generated by graphviz version 2.40.1 (20161225.0304)\n -->\n<!-- Title: G Pages: 1 -->\n<svg width=\"316pt\" height=\"246pt\"\n viewBox=\"0.00 0.00 316.00 246.00\" xmlns=\"http://www.w3.org/2000/svg\" xmlns:xlink=\"http://www.w3.org/1999/xlink\">\n<g id=\"graph0\" class=\"graph\" transform=\"scale(1 1) rotate(0) translate(4 242)\">\n<title>G</title>\n<polygon fill=\"#ffffff\" stroke=\"transparent\" points=\"-4,4 -4,-242 312,-242 312,4 -4,4\"/>\n<g id=\"clust1\" class=\"cluster\">\n<title>cluster_0</title>\n<polygon fill=\"none\" stroke=\"#ff69b4\" points=\"158,-8 158,-155 300,-155 300,-8 158,-8\"/>\n<text text-anchor=\"middle\" x=\"229\" y=\"-139.8\" font-family=\"Times,serif\" font-size=\"14.00\" fill=\"#000000\">hello world</text>\n</g>\n<g id=\"clust2\" class=\"cluster\">\n<title>cluster_1</title>\n<polygon fill=\"none\" stroke=\"#a020f0\" stroke-dasharray=\"5,2\" points=\"8,-8 8,-230 150,-230 150,-8 8,-8\"/>\n<text text-anchor=\"middle\" x=\"79\" y=\"-214.8\" font-family=\"Times,serif\" font-size=\"14.00\" fill=\"#000000\">MSDOT</text>\n</g>\n<!-- a -->\n<g id=\"node1\" class=\"node\">\n<title>a</title>\n<ellipse fill=\"none\" stroke=\"#000000\" cx=\"193\" cy=\"-106\" rx=\"27\" ry=\"18\"/>\n<text text-anchor=\"middle\" x=\"193\" y=\"-102.3\" font-family=\"Times,serif\" font-size=\"14.00\" fill=\"#000000\">a</text>\n</g>\n<!-- b -->\n<g id=\"node2\" class=\"node\">\n<title>b</title>\n<ellipse fill=\"none\" stroke=\"#000000\" cx=\"193\" cy=\"-34\" rx=\"27\" ry=\"18\"/>\n<text text-anchor=\"middle\" x=\"193\" y=\"-30.3\" font-family=\"Times,serif\" font-size=\"14.00\" fill=\"#000000\">b</text>\n</g>\n<!-- a&#45;&gt;b -->\n<g id=\"edge1\" class=\"edge\">\n<title>a&#45;&gt;b</title>\n<path fill=\"none\" stroke=\"#000000\" d=\"M193,-87.8314C193,-80.131 193,-70.9743 193,-62.4166\"/>\n<polygon fill=\"#000000\" stroke=\"#000000\" points=\"196.5001,-62.4132 193,-52.4133 189.5001,-62.4133 196.5001,-62.4132\"/>\n</g>\n<!-- c -->\n<g id=\"node3\" class=\"node\">\n<title>c</title>\n<ellipse fill=\"none\" stroke=\"#000000\" cx=\"265\" cy=\"-34\" rx=\"27\" ry=\"18\"/>\n<text text-anchor=\"middle\" x=\"265\" y=\"-30.3\" font-family=\"Times,serif\" font-size=\"14.00\" fill=\"#000000\">c</text>\n</g>\n<!-- a&#45;&gt;c -->\n<g id=\"edge2\" class=\"edge\">\n<title>a&#45;&gt;c</title>\n<path fill=\"none\" stroke=\"#000000\" d=\"M208.2693,-90.7307C218.197,-80.803 231.3153,-67.6847 242.4363,-56.5637\"/>\n<polygon fill=\"#000000\" stroke=\"#000000\" points=\"245.1564,-58.7933 249.7527,-49.2473 240.2067,-53.8436 245.1564,-58.7933\"/>\n</g>\n<!-- x -->\n<g id=\"node4\" class=\"node\">\n<title>x</title>\n<ellipse fill=\"none\" stroke=\"#000000\" cx=\"78\" cy=\"-181\" rx=\"27\" ry=\"18\"/>\n<text text-anchor=\"middle\" x=\"78\" y=\"-177.3\" font-family=\"Times,serif\" font-size=\"14.00\" fill=\"#000000\">x</text>\n</g>\n<!-- y -->\n<g id=\"node5\" class=\"node\">\n<title>y</title>\n<ellipse fill=\"none\" stroke=\"#000000\" cx=\"115\" cy=\"-106\" rx=\"27\" ry=\"18\"/>\n<text text-anchor=\"middle\" x=\"115\" y=\"-102.3\" font-family=\"Times,serif\" font-size=\"14.00\" fill=\"#000000\">y</text>\n</g>\n<!-- x&#45;&gt;y -->\n<g id=\"edge3\" class=\"edge\">\n<title>x&#45;&gt;y</title>\n<path fill=\"none\" stroke=\"#000000\" d=\"M86.5815,-163.605C91.158,-154.3283 96.8842,-142.7212 101.995,-132.3614\"/>\n<polygon fill=\"#000000\" stroke=\"#000000\" points=\"105.1795,-133.8173 106.465,-123.3007 98.9019,-130.7203 105.1795,-133.8173\"/>\n</g>\n<!-- z -->\n<g id=\"node6\" class=\"node\">\n<title>z</title>\n<ellipse fill=\"none\" stroke=\"#000000\" cx=\"43\" cy=\"-34\" rx=\"27\" ry=\"18\"/>\n<text text-anchor=\"middle\" x=\"43\" y=\"-30.3\" font-family=\"Times,serif\" font-size=\"14.00\" fill=\"#000000\">z</text>\n</g>\n<!-- x&#45;&gt;z -->\n<g id=\"edge4\" class=\"edge\">\n<title>x&#45;&gt;z</title>\n<path fill=\"none\" stroke=\"#000000\" d=\"M73.7083,-162.9749C67.6993,-137.7373 56.7231,-91.6371 49.6509,-61.934\"/>\n<polygon fill=\"#000000\" stroke=\"#000000\" points=\"53.0479,-61.0899 47.3268,-52.1725 46.2382,-62.7113 53.0479,-61.0899\"/>\n</g>\n<!-- y&#45;&gt;b -->\n<g id=\"edge9\" class=\"edge\">\n<title>y&#45;&gt;b</title>\n<path fill=\"none\" stroke=\"#000000\" d=\"M131.1617,-91.0816C142.3214,-80.7802 157.3334,-66.923 169.7715,-55.4417\"/>\n<polygon fill=\"#000000\" stroke=\"#000000\" points=\"172.1519,-58.0076 177.1259,-48.653 167.4039,-52.864 172.1519,-58.0076\"/>\n</g>\n<!-- y&#45;&gt;z -->\n<g id=\"edge5\" class=\"edge\">\n<title>y&#45;&gt;z</title>\n<path fill=\"none\" stroke=\"#000000\" d=\"M99.7307,-90.7307C89.803,-80.803 76.6847,-67.6847 65.5637,-56.5637\"/>\n<polygon fill=\"#000000\" stroke=\"#000000\" points=\"67.7933,-53.8436 58.2473,-49.2473 62.8436,-58.7933 67.7933,-53.8436\"/>\n</g>\n<!-- q -->\n<g id=\"node7\" class=\"node\">\n<title>q</title>\n<ellipse fill=\"none\" stroke=\"#000000\" cx=\"115\" cy=\"-34\" rx=\"27\" ry=\"18\"/>\n<text text-anchor=\"middle\" x=\"115\" y=\"-30.3\" font-family=\"Times,serif\" font-size=\"14.00\" fill=\"#000000\">q</text>\n</g>\n<!-- y&#45;&gt;q -->\n<g id=\"edge6\" class=\"edge\">\n<title>y&#45;&gt;q</title>\n<path fill=\"none\" stroke=\"#000000\" d=\"M115,-87.8314C115,-80.131 115,-70.9743 115,-62.4166\"/>\n<polygon fill=\"#000000\" stroke=\"#000000\" points=\"118.5001,-62.4132 115,-52.4133 111.5001,-62.4133 118.5001,-62.4132\"/>\n</g>\n<!-- top -->\n<g id=\"node8\" class=\"node\">\n<title>top</title>\n<ellipse fill=\"none\" stroke=\"#000000\" cx=\"189\" cy=\"-181\" rx=\"27\" ry=\"18\"/>\n<text text-anchor=\"middle\" x=\"189\" y=\"-177.3\" font-family=\"Times,serif\" font-size=\"14.00\" fill=\"#000000\">top</text>\n</g>\n<!-- top&#45;&gt;a -->\n<g id=\"edge7\" class=\"edge\">\n<title>top&#45;&gt;a</title>\n<path fill=\"none\" stroke=\"#000000\" d=\"M189.9683,-162.8446C190.4219,-154.3401 190.9729,-144.0076 191.4802,-134.4964\"/>\n<polygon fill=\"#000000\" stroke=\"#000000\" points=\"194.9891,-134.4204 192.0268,-124.2482 187.9991,-134.0475 194.9891,-134.4204\"/>\n</g>\n<!-- top&#45;&gt;y -->\n<g id=\"edge8\" class=\"edge\">\n<title>top&#45;&gt;y</title>\n<path fill=\"none\" stroke=\"#000000\" d=\"M169.75,-168.0878C164.42,-164.1505 158.788,-159.631 154,-155 146.4596,-147.7069 139.0632,-138.9509 132.7733,-130.8706\"/>\n<polygon fill=\"#000000\" stroke=\"#000000\" points=\"135.4824,-128.6503 126.6595,-122.7845 129.8987,-132.872 135.4824,-128.6503\"/>\n</g>\n</g>\n</svg>\n"
                    }, 
                    "output_type": "execute_result"
                }
            ], 
            "source": "wget.download('https://github.com/tuliplab/mds/raw/master/Jupyter/data/gvsample2.gv')\n\n\nSource.from_file('gvsample2.gv')"
        }, 
        {
            "execution_count": 41, 
            "cell_type": "code", 
            "metadata": {}, 
            "outputs": [
                {
                    "execution_count": 41, 
                    "metadata": {}, 
                    "data": {
                        "text/plain": "<graphviz.files.Source at 0x2ab09f7cd518>", 
                        "image/svg+xml": "<?xml version=\"1.0\" encoding=\"UTF-8\" standalone=\"no\"?>\n<!DOCTYPE svg PUBLIC \"-//W3C//DTD SVG 1.1//EN\"\n \"http://www.w3.org/Graphics/SVG/1.1/DTD/svg11.dtd\">\n<!-- Generated by graphviz version 2.40.1 (20161225.0304)\n -->\n<!-- Title: G Pages: 1 -->\n<svg width=\"418pt\" height=\"261pt\"\n viewBox=\"0.00 0.00 418.33 260.89\" xmlns=\"http://www.w3.org/2000/svg\" xmlns:xlink=\"http://www.w3.org/1999/xlink\">\n<g id=\"graph0\" class=\"graph\" transform=\"scale(1 1) rotate(0) translate(4 256.8939)\">\n<title>G</title>\n<polygon fill=\"#ffffff\" stroke=\"transparent\" points=\"-4,4 -4,-256.8939 414.3287,-256.8939 414.3287,4 -4,4\"/>\n<!-- a -->\n<g id=\"node1\" class=\"node\">\n<title>a</title>\n<polygon fill=\"none\" stroke=\"#000000\" points=\"181.5,-206.8939 236.1905,-241.3939 126.8095,-241.3939 181.5,-206.8939\"/>\n<text text-anchor=\"middle\" x=\"181.5\" y=\"-226.1939\" font-family=\"Times,serif\" font-size=\"14.00\" fill=\"#000000\">Start</text>\n</g>\n<!-- b -->\n<g id=\"node2\" class=\"node\">\n<title>b</title>\n<polygon fill=\"none\" stroke=\"#000000\" points=\"151,-155.8939 0,-155.8939 0,-119.8939 151,-119.8939 151,-155.8939\"/>\n<text text-anchor=\"middle\" x=\"75.5\" y=\"-134.1939\" font-family=\"Times,serif\" font-size=\"14.00\" fill=\"#000000\">Working hard in SIT361</text>\n</g>\n<!-- a&#45;&gt;b -->\n<g id=\"edge1\" class=\"edge\">\n<title>a&#45;&gt;b</title>\n<path fill=\"none\" stroke=\"#000000\" d=\"M165.8593,-216.319C149.5904,-202.1987 123.7658,-179.7849 103.8832,-162.5284\"/>\n<polygon fill=\"#000000\" stroke=\"#000000\" points=\"106.1621,-159.8718 96.3157,-155.9604 101.5738,-165.1584 106.1621,-159.8718\"/>\n<text text-anchor=\"middle\" x=\"163.5\" y=\"-177.6939\" font-family=\"Times,serif\" font-size=\"14.00\" fill=\"#000000\">With Dr Li</text>\n</g>\n<!-- c -->\n<g id=\"node4\" class=\"node\">\n<title>c</title>\n<polygon fill=\"none\" stroke=\"#000000\" points=\"410.1576,-137.8939 349.8288,-155.8939 229.1712,-155.8939 168.8424,-137.8939 229.1712,-119.8939 349.8288,-119.8939 410.1576,-137.8939\"/>\n<text text-anchor=\"middle\" x=\"289.5\" y=\"-134.1939\" font-family=\"Times,serif\" font-size=\"14.00\" fill=\"#000000\">Working hardly in SIT361</text>\n</g>\n<!-- a&#45;&gt;c -->\n<g id=\"edge3\" class=\"edge\">\n<title>a&#45;&gt;c</title>\n<path fill=\"none\" stroke=\"#000000\" stroke-dasharray=\"1,5\" d=\"M197.4358,-216.319C214.0117,-202.1987 240.3235,-179.7849 260.5813,-162.5284\"/>\n<polygon fill=\"#000000\" stroke=\"#000000\" points=\"262.9487,-165.1094 268.2915,-155.9604 258.4094,-159.7807 262.9487,-165.1094\"/>\n<text text-anchor=\"middle\" x=\"276.5\" y=\"-177.6939\" font-family=\"Times,serif\" font-size=\"14.00\" fill=\"#000000\">try yourself</text>\n</g>\n<!-- e -->\n<g id=\"node3\" class=\"node\">\n<title>e</title>\n<ellipse fill=\"#add8e6\" stroke=\"#add8e6\" cx=\"75.5\" cy=\"-34.4469\" rx=\"34.394\" ry=\"34.394\"/>\n<text text-anchor=\"middle\" x=\"75.5\" y=\"-30.7469\" font-family=\"Times,serif\" font-size=\"14.00\" fill=\"#000000\">Happy</text>\n</g>\n<!-- b&#45;&gt;e -->\n<g id=\"edge2\" class=\"edge\">\n<title>b&#45;&gt;e</title>\n<path fill=\"none\" stroke=\"#000000\" d=\"M75.5,-119.8748C75.5,-108.6022 75.5,-93.5465 75.5,-79.2162\"/>\n<polygon fill=\"#000000\" stroke=\"#000000\" points=\"79.0001,-78.9741 75.5,-68.9742 72.0001,-78.9742 79.0001,-78.9741\"/>\n<text text-anchor=\"middle\" x=\"108.5\" y=\"-90.6939\" font-family=\"Times,serif\" font-size=\"14.00\" fill=\"#000000\">Enjoy study</text>\n</g>\n<!-- d -->\n<g id=\"node5\" class=\"node\">\n<title>d</title>\n<text text-anchor=\"middle\" x=\"289.5\" y=\"-30.7469\" font-family=\"Times,serif\" font-size=\"14.00\" fill=\"#000000\">sad</text>\n</g>\n<!-- c&#45;&gt;d -->\n<g id=\"edge4\" class=\"edge\">\n<title>c&#45;&gt;d</title>\n<path fill=\"none\" stroke=\"#ff0000\" d=\"M289.5,-119.8748C289.5,-104.0996 289.5,-80.9159 289.5,-62.6791\"/>\n<polygon fill=\"#ff0000\" stroke=\"#ff0000\" points=\"293.0001,-62.6066 289.5,-52.6066 286.0001,-62.6067 293.0001,-62.6066\"/>\n</g>\n</g>\n</svg>\n"
                    }, 
                    "output_type": "execute_result"
                }
            ], 
            "source": "wget.download('https://github.com/tuliplab/mds/raw/master/Jupyter/data/gvsample3.gv')\n\nSource.from_file('gvsample3.gv')"
        }, 
        {
            "execution_count": 42, 
            "cell_type": "code", 
            "metadata": {}, 
            "outputs": [
                {
                    "execution_count": 42, 
                    "metadata": {}, 
                    "data": {
                        "text/plain": "<graphviz.files.Source at 0x2ab09e881b70>", 
                        "image/svg+xml": "<?xml version=\"1.0\" encoding=\"UTF-8\" standalone=\"no\"?>\n<!DOCTYPE svg PUBLIC \"-//W3C//DTD SVG 1.1//EN\"\n \"http://www.w3.org/Graphics/SVG/1.1/DTD/svg11.dtd\">\n<!-- Generated by graphviz version 2.40.1 (20161225.0304)\n -->\n<!-- Title: G Pages: 1 -->\n<svg width=\"336pt\" height=\"237pt\"\n viewBox=\"0.00 0.00 336.39 236.85\" xmlns=\"http://www.w3.org/2000/svg\" xmlns:xlink=\"http://www.w3.org/1999/xlink\">\n<g id=\"graph0\" class=\"graph\" transform=\"scale(1 1) rotate(0) translate(4 232.8528)\">\n<title>G</title>\n<polygon fill=\"#ffffff\" stroke=\"transparent\" points=\"-4,4 -4,-232.8528 332.3933,-232.8528 332.3933,4 -4,4\"/>\n<!-- xyz -->\n<g id=\"node1\" class=\"node\">\n<title>xyz</title>\n<ellipse fill=\"#6a5acd\" stroke=\"#6a5acd\" cx=\"66.4469\" cy=\"-186.4264\" rx=\"50.41\" ry=\"42.3529\"/>\n<text text-anchor=\"middle\" x=\"66.4469\" y=\"-193.2264\" font-family=\"Palatino Linotype,serif\" font-style=\"italic\" font-size=\"24.00\" fill=\"#ff69b4\">hello</text>\n<text text-anchor=\"middle\" x=\"66.4469\" y=\"-167.2264\" font-family=\"Palatino Linotype,serif\" font-style=\"italic\" font-size=\"24.00\" fill=\"#ff69b4\">world</text>\n</g>\n<!-- red -->\n<g id=\"node2\" class=\"node\">\n<title>red</title>\n<ellipse fill=\"#ff0000\" stroke=\"#ff0000\" cx=\"161.4469\" cy=\"-186.4264\" rx=\"27\" ry=\"18\"/>\n<text text-anchor=\"middle\" x=\"161.4469\" y=\"-182.7264\" font-family=\"Times,serif\" font-size=\"14.00\" fill=\"#000000\">red</text>\n</g>\n<!-- green -->\n<g id=\"node3\" class=\"node\">\n<title>green</title>\n<ellipse fill=\"#00ff00\" stroke=\"#00ff00\" cx=\"121.4469\" cy=\"-90\" rx=\"30.5947\" ry=\"18\"/>\n<text text-anchor=\"middle\" x=\"121.4469\" y=\"-86.3\" font-family=\"Times,serif\" font-size=\"14.00\" fill=\"#000000\">green</text>\n</g>\n<!-- red&#45;&gt;green -->\n<g id=\"edge1\" class=\"edge\">\n<title>red&#45;&gt;green</title>\n<path fill=\"none\" stroke=\"#000000\" d=\"M154.1103,-168.7403C148.1335,-154.3322 139.5935,-133.7453 132.7448,-117.2352\"/>\n<polygon fill=\"#000000\" stroke=\"#000000\" points=\"135.8016,-115.4697 128.737,-107.574 129.3359,-118.1519 135.8016,-115.4697\"/>\n</g>\n<!-- blue -->\n<g id=\"node4\" class=\"node\">\n<title>blue</title>\n<ellipse fill=\"#0000ff\" stroke=\"#0000ff\" cx=\"201.4469\" cy=\"-90\" rx=\"27\" ry=\"18\"/>\n<text text-anchor=\"middle\" x=\"201.4469\" y=\"-86.3\" font-family=\"Times,serif\" font-size=\"14.00\" fill=\"#000000\">blue</text>\n</g>\n<!-- red&#45;&gt;blue -->\n<g id=\"edge2\" class=\"edge\">\n<title>red&#45;&gt;blue</title>\n<path fill=\"none\" stroke=\"#000000\" d=\"M168.7836,-168.7403C174.7604,-154.3322 183.3004,-133.7453 190.1491,-117.2352\"/>\n<polygon fill=\"#000000\" stroke=\"#000000\" points=\"193.558,-118.1519 194.1568,-107.574 187.0922,-115.4697 193.558,-118.1519\"/>\n</g>\n<!-- yellow -->\n<g id=\"node7\" class=\"node\">\n<title>yellow</title>\n<ellipse fill=\"#ffff00\" stroke=\"#ffff00\" cx=\"34.4469\" cy=\"-18\" rx=\"34.394\" ry=\"18\"/>\n<text text-anchor=\"middle\" x=\"34.4469\" y=\"-14.3\" font-family=\"Times,serif\" font-size=\"14.00\" fill=\"#000000\">yellow</text>\n</g>\n<!-- green&#45;&gt;yellow -->\n<g id=\"edge5\" class=\"edge\">\n<title>green&#45;&gt;yellow</title>\n<path fill=\"none\" stroke=\"#000000\" d=\"M103.4205,-75.0816C91.1052,-64.8896 74.5841,-51.217 60.7987,-39.8083\"/>\n<polygon fill=\"#000000\" stroke=\"#000000\" points=\"62.986,-37.0754 53.0506,-33.3961 58.523,-42.4682 62.986,-37.0754\"/>\n</g>\n<!-- orange -->\n<g id=\"node8\" class=\"node\">\n<title>orange</title>\n<ellipse fill=\"#ffa500\" stroke=\"#ffa500\" cx=\"121.4469\" cy=\"-18\" rx=\"34.394\" ry=\"18\"/>\n<text text-anchor=\"middle\" x=\"121.4469\" y=\"-14.3\" font-family=\"Times,serif\" font-size=\"14.00\" fill=\"#000000\">orange</text>\n</g>\n<!-- green&#45;&gt;orange -->\n<g id=\"edge6\" class=\"edge\">\n<title>green&#45;&gt;orange</title>\n<path fill=\"none\" stroke=\"#000000\" d=\"M121.4469,-71.8314C121.4469,-64.131 121.4469,-54.9743 121.4469,-46.4166\"/>\n<polygon fill=\"#000000\" stroke=\"#000000\" points=\"124.947,-46.4132 121.4469,-36.4133 117.947,-46.4133 124.947,-46.4132\"/>\n</g>\n<!-- cyan -->\n<g id=\"node5\" class=\"node\">\n<title>cyan</title>\n<ellipse fill=\"#00ffff\" stroke=\"#00ffff\" cx=\"201.4469\" cy=\"-18\" rx=\"27.0966\" ry=\"18\"/>\n<text text-anchor=\"middle\" x=\"201.4469\" y=\"-14.3\" font-family=\"Times,serif\" font-size=\"14.00\" fill=\"#000000\">cyan</text>\n</g>\n<!-- blue&#45;&gt;cyan -->\n<g id=\"edge3\" class=\"edge\">\n<title>blue&#45;&gt;cyan</title>\n<path fill=\"none\" stroke=\"#000000\" d=\"M201.4469,-71.8314C201.4469,-64.131 201.4469,-54.9743 201.4469,-46.4166\"/>\n<polygon fill=\"#000000\" stroke=\"#000000\" points=\"204.947,-46.4132 201.4469,-36.4133 197.947,-46.4133 204.947,-46.4132\"/>\n</g>\n<!-- magenta -->\n<g id=\"node6\" class=\"node\">\n<title>magenta</title>\n<ellipse fill=\"#ff00ff\" stroke=\"#ff00ff\" cx=\"287.4469\" cy=\"-18\" rx=\"40.8928\" ry=\"18\"/>\n<text text-anchor=\"middle\" x=\"287.4469\" y=\"-14.3\" font-family=\"Times,serif\" font-size=\"14.00\" fill=\"#000000\">magenta</text>\n</g>\n<!-- blue&#45;&gt;magenta -->\n<g id=\"edge4\" class=\"edge\">\n<title>blue&#45;&gt;magenta</title>\n<path fill=\"none\" stroke=\"#000000\" d=\"M218.4378,-75.7751C230.4683,-65.703 246.8497,-51.9884 260.6331,-40.4488\"/>\n<polygon fill=\"#000000\" stroke=\"#000000\" points=\"262.975,-43.0529 268.3958,-33.9498 258.4814,-37.6856 262.975,-43.0529\"/>\n</g>\n</g>\n</svg>\n"
                    }, 
                    "output_type": "execute_result"
                }
            ], 
            "source": "wget.download('https://github.com/tuliplab/mds/raw/master/Jupyter/data/gvsample4.gv')\n\nSource.from_file('gvsample4.gv')"
        }, 
        {
            "source": "## Examples", 
            "cell_type": "markdown", 
            "metadata": {}
        }, 
        {
            "execution_count": 43, 
            "cell_type": "code", 
            "metadata": {}, 
            "outputs": [
                {
                    "execution_count": 43, 
                    "metadata": {}, 
                    "data": {
                        "text/plain": "<graphviz.files.Source at 0x2ab09f7cd668>", 
                        "image/svg+xml": "<?xml version=\"1.0\" encoding=\"UTF-8\" standalone=\"no\"?>\n<!DOCTYPE svg PUBLIC \"-//W3C//DTD SVG 1.1//EN\"\n \"http://www.w3.org/Graphics/SVG/1.1/DTD/svg11.dtd\">\n<!-- Generated by graphviz version 2.40.1 (20161225.0304)\n -->\n<!-- Title: G Pages: 1 -->\n<svg width=\"300pt\" height=\"260pt\"\n viewBox=\"0.00 0.00 300.14 260.00\" xmlns=\"http://www.w3.org/2000/svg\" xmlns:xlink=\"http://www.w3.org/1999/xlink\">\n<g id=\"graph0\" class=\"graph\" transform=\"scale(1 1) rotate(0) translate(4 256)\">\n<title>G</title>\n<polygon fill=\"#ffffff\" stroke=\"transparent\" points=\"-4,4 -4,-256 296.1424,-256 296.1424,4 -4,4\"/>\n<!-- main -->\n<g id=\"node1\" class=\"node\">\n<title>main</title>\n<ellipse fill=\"none\" stroke=\"#000000\" cx=\"154.5952\" cy=\"-234\" rx=\"28.6953\" ry=\"18\"/>\n<text text-anchor=\"middle\" x=\"154.5952\" y=\"-230.3\" font-family=\"Times,serif\" font-size=\"14.00\" fill=\"#000000\">main</text>\n</g>\n<!-- parse -->\n<g id=\"node2\" class=\"node\">\n<title>parse</title>\n<ellipse fill=\"none\" stroke=\"#000000\" cx=\"111.5952\" cy=\"-162\" rx=\"29.4969\" ry=\"18\"/>\n<text text-anchor=\"middle\" x=\"111.5952\" y=\"-158.3\" font-family=\"Times,serif\" font-size=\"14.00\" fill=\"#000000\">parse</text>\n</g>\n<!-- main&#45;&gt;parse -->\n<g id=\"edge1\" class=\"edge\">\n<title>main&#45;&gt;parse</title>\n<path fill=\"none\" stroke=\"#000000\" d=\"M144.4048,-216.937C139.2103,-208.2393 132.7846,-197.4799 127.0004,-187.7948\"/>\n<polygon fill=\"#000000\" stroke=\"#000000\" points=\"129.8448,-185.7314 121.7124,-178.9405 123.835,-189.3206 129.8448,-185.7314\"/>\n</g>\n<!-- init -->\n<g id=\"node4\" class=\"node\">\n<title>init</title>\n<ellipse fill=\"none\" stroke=\"#000000\" cx=\"54.5952\" cy=\"-90\" rx=\"27\" ry=\"18\"/>\n<text text-anchor=\"middle\" x=\"54.5952\" y=\"-86.3\" font-family=\"Times,serif\" font-size=\"14.00\" fill=\"#000000\">init</text>\n</g>\n<!-- main&#45;&gt;init -->\n<g id=\"edge3\" class=\"edge\">\n<title>main&#45;&gt;init</title>\n<path fill=\"none\" stroke=\"#000000\" d=\"M130.6249,-224.1544C112.169,-215.3211 87.5295,-200.569 73.5952,-180 61.2588,-161.7898 56.6971,-137.1223 55.115,-118.2172\"/>\n<polygon fill=\"#000000\" stroke=\"#000000\" points=\"58.6014,-117.8847 54.5018,-108.1152 51.6143,-118.3089 58.6014,-117.8847\"/>\n</g>\n<!-- cleanup -->\n<g id=\"node5\" class=\"node\">\n<title>cleanup</title>\n<ellipse fill=\"none\" stroke=\"#000000\" cx=\"197.5952\" cy=\"-162\" rx=\"38.1938\" ry=\"18\"/>\n<text text-anchor=\"middle\" x=\"197.5952\" y=\"-158.3\" font-family=\"Times,serif\" font-size=\"14.00\" fill=\"#000000\">cleanup</text>\n</g>\n<!-- main&#45;&gt;cleanup -->\n<g id=\"edge4\" class=\"edge\">\n<title>main&#45;&gt;cleanup</title>\n<path fill=\"none\" stroke=\"#000000\" d=\"M164.7856,-216.937C169.9047,-208.3654 176.2198,-197.7914 181.9381,-188.2165\"/>\n<polygon fill=\"#000000\" stroke=\"#000000\" points=\"185.0566,-189.8207 187.1792,-179.4407 179.0468,-186.2315 185.0566,-189.8207\"/>\n</g>\n<!-- printf -->\n<g id=\"node7\" class=\"node\">\n<title>printf</title>\n<ellipse fill=\"none\" stroke=\"#000000\" cx=\"261.5952\" cy=\"-18\" rx=\"30.5947\" ry=\"18\"/>\n<text text-anchor=\"middle\" x=\"261.5952\" y=\"-14.3\" font-family=\"Times,serif\" font-size=\"14.00\" fill=\"#000000\">printf</text>\n</g>\n<!-- main&#45;&gt;printf -->\n<g id=\"edge8\" class=\"edge\">\n<title>main&#45;&gt;printf</title>\n<path fill=\"none\" stroke=\"#000000\" d=\"M180.5515,-225.7473C201.53,-217.6266 229.904,-203.0486 244.5952,-180 270.5865,-139.2229 269.4408,-80.643 265.8141,-46.2357\"/>\n<polygon fill=\"#000000\" stroke=\"#000000\" points=\"269.2484,-45.4783 264.5807,-35.9671 262.2983,-46.3132 269.2484,-45.4783\"/>\n</g>\n<!-- execute -->\n<g id=\"node3\" class=\"node\">\n<title>execute</title>\n<ellipse fill=\"none\" stroke=\"#000000\" cx=\"153.5952\" cy=\"-90\" rx=\"37.8943\" ry=\"18\"/>\n<text text-anchor=\"middle\" x=\"153.5952\" y=\"-86.3\" font-family=\"Times,serif\" font-size=\"14.00\" fill=\"#000000\">execute</text>\n</g>\n<!-- parse&#45;&gt;execute -->\n<g id=\"edge2\" class=\"edge\">\n<title>parse&#45;&gt;execute</title>\n<path fill=\"none\" stroke=\"#000000\" d=\"M121.5486,-144.937C126.5487,-136.3654 132.7169,-125.7914 138.3022,-116.2165\"/>\n<polygon fill=\"#000000\" stroke=\"#000000\" points=\"141.4059,-117.842 143.4214,-107.4407 135.3594,-114.3149 141.4059,-117.842\"/>\n</g>\n<!-- make_string -->\n<g id=\"node6\" class=\"node\">\n<title>make_string</title>\n<ellipse fill=\"none\" stroke=\"#000000\" cx=\"54.5952\" cy=\"-18\" rx=\"54.6905\" ry=\"18\"/>\n<text text-anchor=\"middle\" x=\"54.5952\" y=\"-14.3\" font-family=\"Times,serif\" font-size=\"14.00\" fill=\"#000000\">make_string</text>\n</g>\n<!-- execute&#45;&gt;make_string -->\n<g id=\"edge5\" class=\"edge\">\n<title>execute&#45;&gt;make_string</title>\n<path fill=\"none\" stroke=\"#000000\" d=\"M132.5998,-74.7307C118.9032,-64.7695 100.7897,-51.596 85.4653,-40.451\"/>\n<polygon fill=\"#000000\" stroke=\"#000000\" points=\"87.4305,-37.5525 77.2845,-34.5013 83.3132,-43.2137 87.4305,-37.5525\"/>\n</g>\n<!-- execute&#45;&gt;printf -->\n<g id=\"edge6\" class=\"edge\">\n<title>execute&#45;&gt;printf</title>\n<path fill=\"none\" stroke=\"#000000\" d=\"M175.7112,-75.256C192.2579,-64.2249 215.0272,-49.0453 232.964,-37.0874\"/>\n<polygon fill=\"#000000\" stroke=\"#000000\" points=\"234.9536,-39.9675 241.3327,-31.5083 231.0707,-34.1432 234.9536,-39.9675\"/>\n</g>\n<!-- compare -->\n<g id=\"node8\" class=\"node\">\n<title>compare</title>\n<ellipse fill=\"none\" stroke=\"#000000\" cx=\"168.5952\" cy=\"-18\" rx=\"41.6928\" ry=\"18\"/>\n<text text-anchor=\"middle\" x=\"168.5952\" y=\"-14.3\" font-family=\"Times,serif\" font-size=\"14.00\" fill=\"#000000\">compare</text>\n</g>\n<!-- execute&#45;&gt;compare -->\n<g id=\"edge9\" class=\"edge\">\n<title>execute&#45;&gt;compare</title>\n<path fill=\"none\" stroke=\"#000000\" d=\"M157.3803,-71.8314C158.9845,-64.131 160.8922,-54.9743 162.675,-46.4166\"/>\n<polygon fill=\"#000000\" stroke=\"#000000\" points=\"166.1459,-46.9169 164.7591,-36.4133 159.293,-45.4892 166.1459,-46.9169\"/>\n</g>\n<!-- init&#45;&gt;make_string -->\n<g id=\"edge7\" class=\"edge\">\n<title>init&#45;&gt;make_string</title>\n<path fill=\"none\" stroke=\"#000000\" d=\"M54.5952,-71.8314C54.5952,-64.131 54.5952,-54.9743 54.5952,-46.4166\"/>\n<polygon fill=\"#000000\" stroke=\"#000000\" points=\"58.0953,-46.4132 54.5952,-36.4133 51.0953,-46.4133 58.0953,-46.4132\"/>\n</g>\n</g>\n</svg>\n"
                    }, 
                    "output_type": "execute_result"
                }
            ], 
            "source": "from graphviz import Source\n\nsrc = Source(\n'digraph G {main->parse -> execute;main->init;main->cleanup;execute -> make_string;execute -> printf;init -> make_string;main -> printf;execute -> compare;}') \n             \nsrc"
        }, 
        {
            "execution_count": 44, 
            "cell_type": "code", 
            "metadata": {}, 
            "outputs": [
                {
                    "execution_count": 44, 
                    "metadata": {}, 
                    "data": {
                        "text/plain": "<graphviz.dot.Digraph at 0x2ab09f80c518>", 
                        "image/svg+xml": "<?xml version=\"1.0\" encoding=\"UTF-8\" standalone=\"no\"?>\n<!DOCTYPE svg PUBLIC \"-//W3C//DTD SVG 1.1//EN\"\n \"http://www.w3.org/Graphics/SVG/1.1/DTD/svg11.dtd\">\n<!-- Generated by graphviz version 2.40.1 (20161225.0304)\n -->\n<!-- Title: finite_state_machine Pages: 1 -->\n<svg width=\"576pt\" height=\"260pt\"\n viewBox=\"0.00 0.00 576.00 260.10\" xmlns=\"http://www.w3.org/2000/svg\" xmlns:xlink=\"http://www.w3.org/1999/xlink\">\n<g id=\"graph0\" class=\"graph\" transform=\"scale(.7928 .7928) rotate(0) translate(4 324.0946)\">\n<title>finite_state_machine</title>\n<polygon fill=\"#ffffff\" stroke=\"transparent\" points=\"-4,4 -4,-324.0946 722.5675,-324.0946 722.5675,4 -4,4\"/>\n<!-- LR_0 -->\n<g id=\"node1\" class=\"node\">\n<title>LR_0</title>\n<ellipse fill=\"none\" stroke=\"#000000\" cx=\"34.5473\" cy=\"-80.5473\" rx=\"30.5892\" ry=\"30.5892\"/>\n<ellipse fill=\"none\" stroke=\"#000000\" cx=\"34.5473\" cy=\"-80.5473\" rx=\"34.5946\" ry=\"34.5946\"/>\n<text text-anchor=\"middle\" x=\"34.5473\" y=\"-76.8473\" font-family=\"Times,serif\" font-size=\"14.00\" fill=\"#000000\">LR_0</text>\n</g>\n<!-- LR_2 -->\n<g id=\"node5\" class=\"node\">\n<title>LR_2</title>\n<ellipse fill=\"none\" stroke=\"#000000\" cx=\"169.6419\" cy=\"-148.5473\" rx=\"30.5947\" ry=\"30.5947\"/>\n<text text-anchor=\"middle\" x=\"169.6419\" y=\"-144.8473\" font-family=\"Times,serif\" font-size=\"14.00\" fill=\"#000000\">LR_2</text>\n</g>\n<!-- LR_0&#45;&gt;LR_2 -->\n<g id=\"edge1\" class=\"edge\">\n<title>LR_0&#45;&gt;LR_2</title>\n<path fill=\"none\" stroke=\"#000000\" d=\"M65.5407,-96.1479C85.6266,-106.2581 111.8835,-119.4745 133.0018,-130.1045\"/>\n<polygon fill=\"#000000\" stroke=\"#000000\" points=\"131.4971,-133.2654 142.003,-134.6352 134.6444,-127.0128 131.4971,-133.2654\"/>\n<text text-anchor=\"middle\" x=\"104.0946\" y=\"-126.3473\" font-family=\"Times,serif\" font-size=\"14.00\" fill=\"#000000\">SS(B)</text>\n</g>\n<!-- LR_1 -->\n<g id=\"node6\" class=\"node\">\n<title>LR_1</title>\n<ellipse fill=\"none\" stroke=\"#000000\" cx=\"169.6419\" cy=\"-41.5473\" rx=\"30.5947\" ry=\"30.5947\"/>\n<text text-anchor=\"middle\" x=\"169.6419\" y=\"-37.8473\" font-family=\"Times,serif\" font-size=\"14.00\" fill=\"#000000\">LR_1</text>\n</g>\n<!-- LR_0&#45;&gt;LR_1 -->\n<g id=\"edge2\" class=\"edge\">\n<title>LR_0&#45;&gt;LR_1</title>\n<path fill=\"none\" stroke=\"#000000\" d=\"M67.9415,-70.9068C86.791,-65.4652 110.4559,-58.6335 130.2136,-52.9297\"/>\n<polygon fill=\"#000000\" stroke=\"#000000\" points=\"131.2142,-56.2838 139.8511,-50.1475 129.2726,-49.5585 131.2142,-56.2838\"/>\n<text text-anchor=\"middle\" x=\"104.0946\" y=\"-68.3473\" font-family=\"Times,serif\" font-size=\"14.00\" fill=\"#000000\">SS(S)</text>\n</g>\n<!-- LR_3 -->\n<g id=\"node2\" class=\"node\">\n<title>LR_3</title>\n<ellipse fill=\"none\" stroke=\"#000000\" cx=\"313.7364\" cy=\"-34.5473\" rx=\"30.5892\" ry=\"30.5892\"/>\n<ellipse fill=\"none\" stroke=\"#000000\" cx=\"313.7364\" cy=\"-34.5473\" rx=\"34.5946\" ry=\"34.5946\"/>\n<text text-anchor=\"middle\" x=\"313.7364\" y=\"-30.8473\" font-family=\"Times,serif\" font-size=\"14.00\" fill=\"#000000\">LR_3</text>\n</g>\n<!-- LR_4 -->\n<g id=\"node3\" class=\"node\">\n<title>LR_4</title>\n<ellipse fill=\"none\" stroke=\"#000000\" cx=\"313.7364\" cy=\"-285.5473\" rx=\"30.5892\" ry=\"30.5892\"/>\n<ellipse fill=\"none\" stroke=\"#000000\" cx=\"313.7364\" cy=\"-285.5473\" rx=\"34.5946\" ry=\"34.5946\"/>\n<text text-anchor=\"middle\" x=\"313.7364\" y=\"-281.8473\" font-family=\"Times,serif\" font-size=\"14.00\" fill=\"#000000\">LR_4</text>\n</g>\n<!-- LR_8 -->\n<g id=\"node4\" class=\"node\">\n<title>LR_8</title>\n<ellipse fill=\"none\" stroke=\"#000000\" cx=\"684.0202\" cy=\"-145.5473\" rx=\"30.5892\" ry=\"30.5892\"/>\n<ellipse fill=\"none\" stroke=\"#000000\" cx=\"684.0202\" cy=\"-145.5473\" rx=\"34.5946\" ry=\"34.5946\"/>\n<text text-anchor=\"middle\" x=\"684.0202\" y=\"-141.8473\" font-family=\"Times,serif\" font-size=\"14.00\" fill=\"#000000\">LR_8</text>\n</g>\n<!-- LR_6 -->\n<g id=\"node7\" class=\"node\">\n<title>LR_6</title>\n<ellipse fill=\"none\" stroke=\"#000000\" cx=\"313.7364\" cy=\"-169.5473\" rx=\"30.5947\" ry=\"30.5947\"/>\n<text text-anchor=\"middle\" x=\"313.7364\" y=\"-165.8473\" font-family=\"Times,serif\" font-size=\"14.00\" fill=\"#000000\">LR_6</text>\n</g>\n<!-- LR_8&#45;&gt;LR_6 -->\n<g id=\"edge13\" class=\"edge\">\n<title>LR_8&#45;&gt;LR_6</title>\n<path fill=\"none\" stroke=\"#000000\" d=\"M649.845,-152.4208C607.4773,-160.561 532.9557,-173.6347 468.3783,-178.5473 441.3034,-180.607 434.4057,-179.849 407.2837,-178.5473 390.0381,-177.7196 371.0657,-176.0384 354.7407,-174.3507\"/>\n<polygon fill=\"#000000\" stroke=\"#000000\" points=\"354.7553,-170.8324 344.44,-173.2496 354.0113,-177.7928 354.7553,-170.8324\"/>\n<text text-anchor=\"middle\" x=\"498.3783\" y=\"-180.3473\" font-family=\"Times,serif\" font-size=\"14.00\" fill=\"#000000\">S(b)</text>\n</g>\n<!-- LR_5 -->\n<g id=\"node8\" class=\"node\">\n<title>LR_5</title>\n<ellipse fill=\"none\" stroke=\"#000000\" cx=\"437.831\" cy=\"-105.5473\" rx=\"30.5947\" ry=\"30.5947\"/>\n<text text-anchor=\"middle\" x=\"437.831\" y=\"-101.8473\" font-family=\"Times,serif\" font-size=\"14.00\" fill=\"#000000\">LR_5</text>\n</g>\n<!-- LR_8&#45;&gt;LR_5 -->\n<g id=\"edge14\" class=\"edge\">\n<title>LR_8&#45;&gt;LR_5</title>\n<path fill=\"none\" stroke=\"#000000\" d=\"M649.7387,-140.0267C610.3193,-133.6718 543.6677,-122.9054 486.3783,-113.5473 483.7043,-113.1105 480.9477,-112.6591 478.1699,-112.2035\"/>\n<polygon fill=\"#000000\" stroke=\"#000000\" points=\"478.5636,-108.7213 468.1284,-110.5534 477.4285,-115.6287 478.5636,-108.7213\"/>\n<text text-anchor=\"middle\" x=\"558.9256\" y=\"-133.3473\" font-family=\"Times,serif\" font-size=\"14.00\" fill=\"#000000\">S(a)</text>\n</g>\n<!-- LR_2&#45;&gt;LR_4 -->\n<g id=\"edge6\" class=\"edge\">\n<title>LR_2&#45;&gt;LR_4</title>\n<path fill=\"none\" stroke=\"#000000\" d=\"M191.8409,-169.6533C215.6538,-192.2938 253.7168,-228.4828 280.9741,-254.3981\"/>\n<polygon fill=\"#000000\" stroke=\"#000000\" points=\"278.6958,-257.0614 288.3547,-261.4153 283.5191,-251.9883 278.6958,-257.0614\"/>\n<text text-anchor=\"middle\" x=\"239.6892\" y=\"-236.3473\" font-family=\"Times,serif\" font-size=\"14.00\" fill=\"#000000\">S(A)</text>\n</g>\n<!-- LR_2&#45;&gt;LR_6 -->\n<g id=\"edge4\" class=\"edge\">\n<title>LR_2&#45;&gt;LR_6</title>\n<path fill=\"none\" stroke=\"#000000\" d=\"M200.2006,-153.0008C221.4062,-156.0913 249.8859,-160.2419 273.0161,-163.6128\"/>\n<polygon fill=\"#000000\" stroke=\"#000000\" points=\"272.8215,-167.1213 283.2217,-165.1001 273.8311,-160.1945 272.8215,-167.1213\"/>\n<text text-anchor=\"middle\" x=\"239.6892\" y=\"-164.3473\" font-family=\"Times,serif\" font-size=\"14.00\" fill=\"#000000\">SS(b)</text>\n</g>\n<!-- LR_2&#45;&gt;LR_5 -->\n<g id=\"edge5\" class=\"edge\">\n<title>LR_2&#45;&gt;LR_5</title>\n<path fill=\"none\" stroke=\"#000000\" d=\"M198.4518,-137.4823C220.2689,-129.6274 251.1667,-119.612 279.1892,-114.5473 318.7,-107.4062 364.5631,-105.476 396.784,-105.1397\"/>\n<polygon fill=\"#000000\" stroke=\"#000000\" points=\"397.179,-108.6377 407.1592,-105.0816 397.1397,-101.6378 397.179,-108.6377\"/>\n<text text-anchor=\"middle\" x=\"313.7364\" y=\"-118.3473\" font-family=\"Times,serif\" font-size=\"14.00\" fill=\"#000000\">SS(a)</text>\n</g>\n<!-- LR_1&#45;&gt;LR_3 -->\n<g id=\"edge3\" class=\"edge\">\n<title>LR_1&#45;&gt;LR_3</title>\n<path fill=\"none\" stroke=\"#000000\" d=\"M200.2006,-40.0628C220.1696,-39.0927 246.5891,-37.8093 268.9175,-36.7246\"/>\n<polygon fill=\"#000000\" stroke=\"#000000\" points=\"269.358,-40.2074 279.1764,-36.2262 269.0183,-33.2156 269.358,-40.2074\"/>\n<text text-anchor=\"middle\" x=\"239.6892\" y=\"-43.3473\" font-family=\"Times,serif\" font-size=\"14.00\" fill=\"#000000\">S($end)</text>\n</g>\n<!-- LR_6&#45;&gt;LR_6 -->\n<g id=\"edge9\" class=\"edge\">\n<title>LR_6&#45;&gt;LR_6</title>\n<path fill=\"none\" stroke=\"#000000\" d=\"M301.7833,-197.9707C301.2521,-208.9604 305.2364,-218.0946 313.7364,-218.0946 319.4474,-218.0946 323.1199,-213.9712 324.754,-207.9322\"/>\n<polygon fill=\"#000000\" stroke=\"#000000\" points=\"328.2391,-208.2542 325.6896,-197.9707 321.2697,-207.5996 328.2391,-208.2542\"/>\n<text text-anchor=\"middle\" x=\"313.7364\" y=\"-221.8946\" font-family=\"Times,serif\" font-size=\"14.00\" fill=\"#000000\">S(b)</text>\n</g>\n<!-- LR_6&#45;&gt;LR_5 -->\n<g id=\"edge10\" class=\"edge\">\n<title>LR_6&#45;&gt;LR_5</title>\n<path fill=\"none\" stroke=\"#000000\" d=\"M340.9695,-155.5022C358.7504,-146.332 382.1708,-134.2532 401.5279,-124.2701\"/>\n<polygon fill=\"#000000\" stroke=\"#000000\" points=\"403.3781,-127.254 410.6615,-119.5596 400.1695,-121.0326 403.3781,-127.254\"/>\n<text text-anchor=\"middle\" x=\"377.7837\" y=\"-144.3473\" font-family=\"Times,serif\" font-size=\"14.00\" fill=\"#000000\">S(a)</text>\n</g>\n<!-- LR_5&#45;&gt;LR_5 -->\n<g id=\"edge8\" class=\"edge\">\n<title>LR_5&#45;&gt;LR_5</title>\n<path fill=\"none\" stroke=\"#000000\" d=\"M426.625,-133.9707C426.1269,-144.9604 429.8623,-154.0946 437.831,-154.0946 443.185,-154.0946 446.628,-149.9712 448.16,-143.9322\"/>\n<polygon fill=\"#000000\" stroke=\"#000000\" points=\"451.6464,-144.2392 449.0371,-133.9707 444.6734,-143.6252 451.6464,-144.2392\"/>\n<text text-anchor=\"middle\" x=\"437.831\" y=\"-157.8946\" font-family=\"Times,serif\" font-size=\"14.00\" fill=\"#000000\">S(a)</text>\n</g>\n<!-- LR_7 -->\n<g id=\"node9\" class=\"node\">\n<title>LR_7</title>\n<ellipse fill=\"none\" stroke=\"#000000\" cx=\"558.9256\" cy=\"-78.5473\" rx=\"30.5947\" ry=\"30.5947\"/>\n<text text-anchor=\"middle\" x=\"558.9256\" y=\"-74.8473\" font-family=\"Times,serif\" font-size=\"14.00\" fill=\"#000000\">LR_7</text>\n</g>\n<!-- LR_5&#45;&gt;LR_7 -->\n<g id=\"edge7\" class=\"edge\">\n<title>LR_5&#45;&gt;LR_7</title>\n<path fill=\"none\" stroke=\"#000000\" d=\"M467.7645,-98.8731C483.1926,-95.4332 502.2195,-91.1908 518.8927,-87.4733\"/>\n<polygon fill=\"#000000\" stroke=\"#000000\" points=\"519.9181,-90.8307 528.9168,-85.2382 518.3947,-83.9984 519.9181,-90.8307\"/>\n<text text-anchor=\"middle\" x=\"498.3783\" y=\"-98.3473\" font-family=\"Times,serif\" font-size=\"14.00\" fill=\"#000000\">S(b)</text>\n</g>\n<!-- LR_7&#45;&gt;LR_8 -->\n<g id=\"edge11\" class=\"edge\">\n<title>LR_7&#45;&gt;LR_8</title>\n<path fill=\"none\" stroke=\"#000000\" d=\"M586.2155,-92.6629C599.8475,-99.7593 616.5712,-108.5338 631.4729,-116.5473 635.7775,-118.8621 640.2688,-121.3023 644.7339,-123.7441\"/>\n<polygon fill=\"#000000\" stroke=\"#000000\" points=\"643.3439,-126.9738 653.794,-128.7191 646.7131,-120.8379 643.3439,-126.9738\"/>\n<text text-anchor=\"middle\" x=\"619.4729\" y=\"-120.3473\" font-family=\"Times,serif\" font-size=\"14.00\" fill=\"#000000\">S(b)</text>\n</g>\n<!-- LR_7&#45;&gt;LR_5 -->\n<g id=\"edge12\" class=\"edge\">\n<title>LR_7&#45;&gt;LR_5</title>\n<path fill=\"none\" stroke=\"#000000\" d=\"M529.4229,-70.4709C516.0265,-68.1226 500.1355,-67.209 486.3783,-71.5473 480.5945,-73.3712 474.9007,-76.1574 469.562,-79.3662\"/>\n<polygon fill=\"#000000\" stroke=\"#000000\" points=\"467.3598,-76.6268 460.9594,-85.0699 471.228,-82.461 467.3598,-76.6268\"/>\n<text text-anchor=\"middle\" x=\"498.3783\" y=\"-75.3473\" font-family=\"Times,serif\" font-size=\"14.00\" fill=\"#000000\">S(a)</text>\n</g>\n</g>\n</svg>\n"
                    }, 
                    "output_type": "execute_result"
                }
            ], 
            "source": "# http://www.graphviz.org/content/fsm\n\nfrom graphviz import Digraph\n\nf = Digraph('finite_state_machine', filename='fsm.gv')\nf.attr(rankdir='LR', size='8,5')\n\nf.attr('node', shape='doublecircle')\nf.node('LR_0')\nf.node('LR_3')\nf.node('LR_4')\nf.node('LR_8')\n\nf.attr('node', shape='circle')\nf.edge('LR_0', 'LR_2', label='SS(B)')\nf.edge('LR_0', 'LR_1', label='SS(S)')\nf.edge('LR_1', 'LR_3', label='S($end)')\nf.edge('LR_2', 'LR_6', label='SS(b)')\nf.edge('LR_2', 'LR_5', label='SS(a)')\nf.edge('LR_2', 'LR_4', label='S(A)')\nf.edge('LR_5', 'LR_7', label='S(b)')\nf.edge('LR_5', 'LR_5', label='S(a)')\nf.edge('LR_6', 'LR_6', label='S(b)')\nf.edge('LR_6', 'LR_5', label='S(a)')\nf.edge('LR_7', 'LR_8', label='S(b)')\nf.edge('LR_7', 'LR_5', label='S(a)')\nf.edge('LR_8', 'LR_6', label='S(b)')\nf.edge('LR_8', 'LR_5', label='S(a)')\n\nf"
        }, 
        {
            "execution_count": 45, 
            "cell_type": "code", 
            "metadata": {}, 
            "outputs": [
                {
                    "execution_count": 45, 
                    "metadata": {}, 
                    "data": {
                        "text/plain": "<graphviz.dot.Digraph at 0x2ab09f543c50>", 
                        "image/svg+xml": "<?xml version=\"1.0\" encoding=\"UTF-8\" standalone=\"no\"?>\n<!DOCTYPE svg PUBLIC \"-//W3C//DTD SVG 1.1//EN\"\n \"http://www.w3.org/Graphics/SVG/1.1/DTD/svg11.dtd\">\n<!-- Generated by graphviz version 2.40.1 (20161225.0304)\n -->\n<!-- Title: G Pages: 1 -->\n<svg width=\"222pt\" height=\"364pt\"\n viewBox=\"0.00 0.00 222.00 364.00\" xmlns=\"http://www.w3.org/2000/svg\" xmlns:xlink=\"http://www.w3.org/1999/xlink\">\n<g id=\"graph0\" class=\"graph\" transform=\"scale(1 1) rotate(0) translate(4 360)\">\n<title>G</title>\n<polygon fill=\"#ffffff\" stroke=\"transparent\" points=\"-4,4 -4,-360 218,-360 218,4 -4,4\"/>\n<g id=\"clust1\" class=\"cluster\">\n<title>cluster0</title>\n<polygon fill=\"none\" stroke=\"#000000\" points=\"64,-152 64,-348 206,-348 206,-152 64,-152\"/>\n</g>\n<g id=\"clust2\" class=\"cluster\">\n<title>cluster1</title>\n<polygon fill=\"none\" stroke=\"#000000\" points=\"64,-8 64,-132 206,-132 206,-8 64,-8\"/>\n</g>\n<!-- a -->\n<g id=\"node1\" class=\"node\">\n<title>a</title>\n<ellipse fill=\"none\" stroke=\"#000000\" cx=\"135\" cy=\"-322\" rx=\"27\" ry=\"18\"/>\n<text text-anchor=\"middle\" x=\"135\" y=\"-318.3\" font-family=\"Times,serif\" font-size=\"14.00\" fill=\"#000000\">a</text>\n</g>\n<!-- b -->\n<g id=\"node2\" class=\"node\">\n<title>b</title>\n<ellipse fill=\"none\" stroke=\"#000000\" cx=\"99\" cy=\"-250\" rx=\"27\" ry=\"18\"/>\n<text text-anchor=\"middle\" x=\"99\" y=\"-246.3\" font-family=\"Times,serif\" font-size=\"14.00\" fill=\"#000000\">b</text>\n</g>\n<!-- a&#45;&gt;b -->\n<g id=\"edge1\" class=\"edge\">\n<title>a&#45;&gt;b</title>\n<path fill=\"none\" stroke=\"#000000\" d=\"M126.2854,-304.5708C122.0403,-296.0807 116.8464,-285.6929 112.1337,-276.2674\"/>\n<polygon fill=\"#000000\" stroke=\"#000000\" points=\"115.237,-274.6477 107.6343,-267.2687 108.976,-277.7782 115.237,-274.6477\"/>\n</g>\n<!-- c -->\n<g id=\"node3\" class=\"node\">\n<title>c</title>\n<ellipse fill=\"none\" stroke=\"#000000\" cx=\"171\" cy=\"-250\" rx=\"27\" ry=\"18\"/>\n<text text-anchor=\"middle\" x=\"171\" y=\"-246.3\" font-family=\"Times,serif\" font-size=\"14.00\" fill=\"#000000\">c</text>\n</g>\n<!-- a&#45;&gt;c -->\n<g id=\"edge2\" class=\"edge\">\n<title>a&#45;&gt;c</title>\n<path fill=\"none\" stroke=\"#000000\" d=\"M143.7146,-304.5708C147.9597,-296.0807 153.1536,-285.6929 157.8663,-276.2674\"/>\n<polygon fill=\"#000000\" stroke=\"#000000\" points=\"161.024,-277.7782 162.3657,-267.2687 154.763,-274.6477 161.024,-277.7782\"/>\n</g>\n<!-- d -->\n<g id=\"node4\" class=\"node\">\n<title>d</title>\n<ellipse fill=\"none\" stroke=\"#000000\" cx=\"99\" cy=\"-178\" rx=\"27\" ry=\"18\"/>\n<text text-anchor=\"middle\" x=\"99\" y=\"-174.3\" font-family=\"Times,serif\" font-size=\"14.00\" fill=\"#000000\">d</text>\n</g>\n<!-- b&#45;&gt;d -->\n<g id=\"edge3\" class=\"edge\">\n<title>b&#45;&gt;d</title>\n<path fill=\"none\" stroke=\"#000000\" d=\"M99,-231.8314C99,-224.131 99,-214.9743 99,-206.4166\"/>\n<polygon fill=\"#000000\" stroke=\"#000000\" points=\"102.5001,-206.4132 99,-196.4133 95.5001,-206.4133 102.5001,-206.4132\"/>\n</g>\n<!-- f -->\n<g id=\"node7\" class=\"node\">\n<title>f</title>\n<ellipse fill=\"none\" stroke=\"#000000\" cx=\"99\" cy=\"-34\" rx=\"27\" ry=\"18\"/>\n<text text-anchor=\"middle\" x=\"99\" y=\"-30.3\" font-family=\"Times,serif\" font-size=\"14.00\" fill=\"#000000\">f</text>\n</g>\n<!-- b&#45;&gt;f -->\n<g id=\"edge7\" class=\"edge\">\n<title>b&#45;&gt;f</title>\n<path fill=\"none\" stroke=\"#000000\" d=\"M113.1229,-234.2844C121.2535,-224.1468 130.6901,-210.2347 135,-196 141.9225,-173.1366 145.3998,-157.6593 145.432,-142.2164\"/>\n<polygon fill=\"#000000\" stroke=\"#000000\" points=\"148.9176,-141.8227 144.9572,-131.9959 141.9251,-142.1476 148.9176,-141.8227\"/>\n</g>\n<!-- c&#45;&gt;d -->\n<g id=\"edge4\" class=\"edge\">\n<title>c&#45;&gt;d</title>\n<path fill=\"none\" stroke=\"#000000\" d=\"M155.7307,-234.7307C145.803,-224.803 132.6847,-211.6847 121.5637,-200.5637\"/>\n<polygon fill=\"#000000\" stroke=\"#000000\" points=\"123.7933,-197.8436 114.2473,-193.2473 118.8436,-202.7933 123.7933,-197.8436\"/>\n</g>\n<!-- e -->\n<g id=\"node5\" class=\"node\">\n<title>e</title>\n<ellipse fill=\"none\" stroke=\"#000000\" cx=\"99\" cy=\"-106\" rx=\"27\" ry=\"18\"/>\n<text text-anchor=\"middle\" x=\"99\" y=\"-102.3\" font-family=\"Times,serif\" font-size=\"14.00\" fill=\"#000000\">e</text>\n</g>\n<!-- c&#45;&gt;e -->\n<g id=\"edge10\" class=\"edge\">\n<title>c&#45;&gt;e</title>\n<path fill=\"none\" stroke=\"#000000\" d=\"M135,-152C130.7681,-144.3996 125.3302,-136.7278 119.9697,-129.8859\"/>\n<polygon fill=\"#000000\" stroke=\"#000000\" points=\"122.3507,-127.2677 113.3176,-121.7311 116.9265,-131.6924 122.3507,-127.2677\"/>\n</g>\n<!-- g -->\n<g id=\"node6\" class=\"node\">\n<title>g</title>\n<ellipse fill=\"none\" stroke=\"#000000\" cx=\"171\" cy=\"-34\" rx=\"27\" ry=\"18\"/>\n<text text-anchor=\"middle\" x=\"171\" y=\"-30.3\" font-family=\"Times,serif\" font-size=\"14.00\" fill=\"#000000\">g</text>\n</g>\n<!-- c&#45;&gt;g -->\n<g id=\"edge9\" class=\"edge\">\n<title>c&#45;&gt;g</title>\n<path fill=\"none\" stroke=\"#000000\" d=\"M171,-152.004C171,-148.766 171,-145.516 171,-142.2656\"/>\n<polygon fill=\"#000000\" stroke=\"#000000\" points=\"174.5001,-141.9975 171,-131.9976 167.5001,-141.9976 174.5001,-141.9975\"/>\n</g>\n<!-- d&#45;&gt;e -->\n<g id=\"edge8\" class=\"edge\">\n<title>d&#45;&gt;e</title>\n<path fill=\"none\" stroke=\"#000000\" d=\"M99,-159.8314C99,-152.131 99,-142.9743 99,-134.4166\"/>\n<polygon fill=\"#000000\" stroke=\"#000000\" points=\"102.5001,-134.4132 99,-124.4133 95.5001,-134.4133 102.5001,-134.4132\"/>\n</g>\n<!-- h -->\n<g id=\"node8\" class=\"node\">\n<title>h</title>\n<ellipse fill=\"none\" stroke=\"#000000\" cx=\"27\" cy=\"-106\" rx=\"27\" ry=\"18\"/>\n<text text-anchor=\"middle\" x=\"27\" y=\"-102.3\" font-family=\"Times,serif\" font-size=\"14.00\" fill=\"#000000\">h</text>\n</g>\n<!-- d&#45;&gt;h -->\n<g id=\"edge11\" class=\"edge\">\n<title>d&#45;&gt;h</title>\n<path fill=\"none\" stroke=\"#000000\" d=\"M83.7307,-162.7307C73.803,-152.803 60.6847,-139.6847 49.5637,-128.5637\"/>\n<polygon fill=\"#000000\" stroke=\"#000000\" points=\"51.7933,-125.8436 42.2473,-121.2473 46.8436,-130.7933 51.7933,-125.8436\"/>\n</g>\n<!-- e&#45;&gt;g -->\n<g id=\"edge5\" class=\"edge\">\n<title>e&#45;&gt;g</title>\n<path fill=\"none\" stroke=\"#000000\" d=\"M114.2693,-90.7307C124.197,-80.803 137.3153,-67.6847 148.4363,-56.5637\"/>\n<polygon fill=\"#000000\" stroke=\"#000000\" points=\"151.1564,-58.7933 155.7527,-49.2473 146.2067,-53.8436 151.1564,-58.7933\"/>\n</g>\n<!-- e&#45;&gt;f -->\n<g id=\"edge6\" class=\"edge\">\n<title>e&#45;&gt;f</title>\n<path fill=\"none\" stroke=\"#000000\" d=\"M99,-87.8314C99,-80.131 99,-70.9743 99,-62.4166\"/>\n<polygon fill=\"#000000\" stroke=\"#000000\" points=\"102.5001,-62.4132 99,-52.4133 95.5001,-62.4133 102.5001,-62.4132\"/>\n</g>\n</g>\n</svg>\n"
                    }, 
                    "output_type": "execute_result"
                }
            ], 
            "source": "# http://www.graphviz.org/pdf/dotguide.pdf Figure 20\n\nfrom graphviz import Digraph\n\ng = Digraph('G', filename='cluster_edge.gv')\ng.attr(compound='true')\n\nwith g.subgraph(name='cluster0') as c:\n    c.edges(['ab', 'ac', 'bd', 'cd'])\n\nwith g.subgraph(name='cluster1') as c:\n    c.edges(['eg', 'ef'])\n\ng.edge('b', 'f', lhead='cluster1')\ng.edge('d', 'e')\ng.edge('c', 'g', ltail='cluster0', lhead='cluster1')\ng.edge('c', 'e', ltail='cluster0')\ng.edge('d', 'h')\n\ng"
        }, 
        {
            "execution_count": 46, 
            "cell_type": "code", 
            "metadata": {}, 
            "outputs": [
                {
                    "execution_count": 46, 
                    "metadata": {}, 
                    "data": {
                        "text/plain": "<graphviz.dot.Digraph at 0x2ab09f817b38>", 
                        "image/svg+xml": "<?xml version=\"1.0\" encoding=\"UTF-8\" standalone=\"no\"?>\n<!DOCTYPE svg PUBLIC \"-//W3C//DTD SVG 1.1//EN\"\n \"http://www.w3.org/Graphics/SVG/1.1/DTD/svg11.dtd\">\n<!-- Generated by graphviz version 2.40.1 (20161225.0304)\n -->\n<!-- Title: unix Pages: 1 -->\n<svg width=\"432pt\" height=\"340pt\"\n viewBox=\"0.00 0.00 432.00 339.80\" xmlns=\"http://www.w3.org/2000/svg\" xmlns:xlink=\"http://www.w3.org/1999/xlink\">\n<g id=\"graph0\" class=\"graph\" transform=\"scale(.4448 .4448) rotate(0) translate(4 760)\">\n<title>unix</title>\n<polygon fill=\"#ffffff\" stroke=\"transparent\" points=\"-4,4 -4,-760 967.2918,-760 967.2918,4 -4,4\"/>\n<!-- 5th Edition -->\n<g id=\"node1\" class=\"node\">\n<title>5th Edition</title>\n<ellipse fill=\"#b2dfee\" stroke=\"#b2dfee\" cx=\"512.8973\" cy=\"-738\" rx=\"50.0912\" ry=\"18\"/>\n<text text-anchor=\"middle\" x=\"512.8973\" y=\"-734.3\" font-family=\"Times,serif\" font-size=\"14.00\" fill=\"#000000\">5th Edition</text>\n</g>\n<!-- 6th Edition -->\n<g id=\"node2\" class=\"node\">\n<title>6th Edition</title>\n<ellipse fill=\"#b2dfee\" stroke=\"#b2dfee\" cx=\"418.8973\" cy=\"-666\" rx=\"50.0912\" ry=\"18\"/>\n<text text-anchor=\"middle\" x=\"418.8973\" y=\"-662.3\" font-family=\"Times,serif\" font-size=\"14.00\" fill=\"#000000\">6th Edition</text>\n</g>\n<!-- 5th Edition&#45;&gt;6th Edition -->\n<g id=\"edge1\" class=\"edge\">\n<title>5th Edition&#45;&gt;6th Edition</title>\n<path fill=\"none\" stroke=\"#000000\" d=\"M491.5673,-721.6621C478.9174,-711.9728 462.6888,-699.5424 448.7777,-688.8871\"/>\n<polygon fill=\"#000000\" stroke=\"#000000\" points=\"450.5355,-685.8247 440.4684,-682.5225 446.2789,-691.3819 450.5355,-685.8247\"/>\n</g>\n<!-- PWB 1.0 -->\n<g id=\"node3\" class=\"node\">\n<title>PWB 1.0</title>\n<ellipse fill=\"#b2dfee\" stroke=\"#b2dfee\" cx=\"667.8973\" cy=\"-666\" rx=\"44.393\" ry=\"18\"/>\n<text text-anchor=\"middle\" x=\"667.8973\" y=\"-662.3\" font-family=\"Times,serif\" font-size=\"14.00\" fill=\"#000000\">PWB 1.0</text>\n</g>\n<!-- 5th Edition&#45;&gt;PWB 1.0 -->\n<g id=\"edge2\" class=\"edge\">\n<title>5th Edition&#45;&gt;PWB 1.0</title>\n<path fill=\"none\" stroke=\"#000000\" d=\"M543.8914,-723.6028C568.4404,-712.1994 602.8687,-696.2069 629.2218,-683.9654\"/>\n<polygon fill=\"#000000\" stroke=\"#000000\" points=\"630.9375,-687.0277 638.5323,-679.6405 627.9885,-680.6792 630.9375,-687.0277\"/>\n</g>\n<!-- LSX -->\n<g id=\"node4\" class=\"node\">\n<title>LSX</title>\n<ellipse fill=\"#b2dfee\" stroke=\"#b2dfee\" cx=\"578.8973\" cy=\"-594\" rx=\"27.0966\" ry=\"18\"/>\n<text text-anchor=\"middle\" x=\"578.8973\" y=\"-590.3\" font-family=\"Times,serif\" font-size=\"14.00\" fill=\"#000000\">LSX</text>\n</g>\n<!-- 6th Edition&#45;&gt;LSX -->\n<g id=\"edge3\" class=\"edge\">\n<title>6th Edition&#45;&gt;LSX</title>\n<path fill=\"none\" stroke=\"#000000\" d=\"M451.7435,-652.2564C476.8601,-641.6121 512.2654,-626.3156 542.8973,-612 544.6541,-611.179 546.4529,-610.3245 548.2642,-609.4534\"/>\n<polygon fill=\"#000000\" stroke=\"#000000\" points=\"549.8425,-612.5777 557.2857,-605.0378 546.7651,-606.2904 549.8425,-612.5777\"/>\n</g>\n<!-- 1 BSD -->\n<g id=\"node5\" class=\"node\">\n<title>1 BSD</title>\n<ellipse fill=\"#b2dfee\" stroke=\"#b2dfee\" cx=\"120.8973\" cy=\"-594\" rx=\"34.394\" ry=\"18\"/>\n<text text-anchor=\"middle\" x=\"120.8973\" y=\"-590.3\" font-family=\"Times,serif\" font-size=\"14.00\" fill=\"#000000\">1 BSD</text>\n</g>\n<!-- 6th Edition&#45;&gt;1 BSD -->\n<g id=\"edge4\" class=\"edge\">\n<title>6th Edition&#45;&gt;1 BSD</title>\n<path fill=\"none\" stroke=\"#000000\" d=\"M377.1479,-655.9129C320.2973,-642.1772 219.1331,-617.7348 162.4073,-604.0292\"/>\n<polygon fill=\"#000000\" stroke=\"#000000\" points=\"162.8955,-600.5466 152.3531,-601.6001 161.2514,-607.3508 162.8955,-600.5466\"/>\n</g>\n<!-- Mini Unix -->\n<g id=\"node6\" class=\"node\">\n<title>Mini Unix</title>\n<ellipse fill=\"#b2dfee\" stroke=\"#b2dfee\" cx=\"357.8973\" cy=\"-594\" rx=\"48.1917\" ry=\"18\"/>\n<text text-anchor=\"middle\" x=\"357.8973\" y=\"-590.3\" font-family=\"Times,serif\" font-size=\"14.00\" fill=\"#000000\">Mini Unix</text>\n</g>\n<!-- 6th Edition&#45;&gt;Mini Unix -->\n<g id=\"edge5\" class=\"edge\">\n<title>6th Edition&#45;&gt;Mini Unix</title>\n<path fill=\"none\" stroke=\"#000000\" d=\"M404.1309,-648.5708C396.6382,-639.7269 387.4009,-628.8239 379.1579,-619.0945\"/>\n<polygon fill=\"#000000\" stroke=\"#000000\" points=\"381.6624,-616.6361 372.5278,-611.2687 376.3215,-621.161 381.6624,-616.6361\"/>\n</g>\n<!-- Wollongong -->\n<g id=\"node7\" class=\"node\">\n<title>Wollongong</title>\n<ellipse fill=\"#b2dfee\" stroke=\"#b2dfee\" cx=\"478.8973\" cy=\"-594\" rx=\"54.6905\" ry=\"18\"/>\n<text text-anchor=\"middle\" x=\"478.8973\" y=\"-590.3\" font-family=\"Times,serif\" font-size=\"14.00\" fill=\"#000000\">Wollongong</text>\n</g>\n<!-- 6th Edition&#45;&gt;Wollongong -->\n<g id=\"edge6\" class=\"edge\">\n<title>6th Edition&#45;&gt;Wollongong</title>\n<path fill=\"none\" stroke=\"#000000\" d=\"M433.4217,-648.5708C440.7374,-639.7919 449.7439,-628.9841 457.8063,-619.3093\"/>\n<polygon fill=\"#000000\" stroke=\"#000000\" points=\"460.5857,-621.4411 464.2988,-611.5182 455.2082,-616.9598 460.5857,-621.4411\"/>\n</g>\n<!-- Interdata -->\n<g id=\"node8\" class=\"node\">\n<title>Interdata</title>\n<ellipse fill=\"#b2dfee\" stroke=\"#b2dfee\" cx=\"249.8973\" cy=\"-594\" rx=\"42.4939\" ry=\"18\"/>\n<text text-anchor=\"middle\" x=\"249.8973\" y=\"-590.3\" font-family=\"Times,serif\" font-size=\"14.00\" fill=\"#000000\">Interdata</text>\n</g>\n<!-- 6th Edition&#45;&gt;Interdata -->\n<g id=\"edge7\" class=\"edge\">\n<title>6th Edition&#45;&gt;Interdata</title>\n<path fill=\"none\" stroke=\"#000000\" d=\"M386.3124,-652.1177C358.6502,-640.3326 318.8689,-623.3843 289.3981,-610.8287\"/>\n<polygon fill=\"#000000\" stroke=\"#000000\" points=\"290.4031,-607.4525 279.8314,-606.753 287.6594,-613.8924 290.4031,-607.4525\"/>\n</g>\n<!-- PWB 1.2 -->\n<g id=\"node28\" class=\"node\">\n<title>PWB 1.2</title>\n<ellipse fill=\"#b2dfee\" stroke=\"#b2dfee\" cx=\"667.8973\" cy=\"-594\" rx=\"44.393\" ry=\"18\"/>\n<text text-anchor=\"middle\" x=\"667.8973\" y=\"-590.3\" font-family=\"Times,serif\" font-size=\"14.00\" fill=\"#000000\">PWB 1.2</text>\n</g>\n<!-- PWB 1.0&#45;&gt;PWB 1.2 -->\n<g id=\"edge31\" class=\"edge\">\n<title>PWB 1.0&#45;&gt;PWB 1.2</title>\n<path fill=\"none\" stroke=\"#000000\" d=\"M667.8973,-647.8314C667.8973,-640.131 667.8973,-630.9743 667.8973,-622.4166\"/>\n<polygon fill=\"#000000\" stroke=\"#000000\" points=\"671.3974,-622.4132 667.8973,-612.4133 664.3974,-622.4133 671.3974,-622.4132\"/>\n</g>\n<!-- USG 1.0 -->\n<g id=\"node29\" class=\"node\">\n<title>USG 1.0</title>\n<ellipse fill=\"#b2dfee\" stroke=\"#b2dfee\" cx=\"771.8973\" cy=\"-594\" rx=\"42.4939\" ry=\"18\"/>\n<text text-anchor=\"middle\" x=\"771.8973\" y=\"-590.3\" font-family=\"Times,serif\" font-size=\"14.00\" fill=\"#000000\">USG 1.0</text>\n</g>\n<!-- PWB 1.0&#45;&gt;USG 1.0 -->\n<g id=\"edge32\" class=\"edge\">\n<title>PWB 1.0&#45;&gt;USG 1.0</title>\n<path fill=\"none\" stroke=\"#000000\" d=\"M690.4638,-650.3771C705.2832,-640.1175 724.8582,-626.5656 741.102,-615.3199\"/>\n<polygon fill=\"#000000\" stroke=\"#000000\" points=\"743.5025,-617.9149 749.7322,-609.3451 739.518,-612.1596 743.5025,-617.9149\"/>\n</g>\n<!-- 2 BSD -->\n<g id=\"node19\" class=\"node\">\n<title>2 BSD</title>\n<ellipse fill=\"#b2dfee\" stroke=\"#b2dfee\" cx=\"77.8973\" cy=\"-234\" rx=\"34.394\" ry=\"18\"/>\n<text text-anchor=\"middle\" x=\"77.8973\" y=\"-230.3\" font-family=\"Times,serif\" font-size=\"14.00\" fill=\"#000000\">2 BSD</text>\n</g>\n<!-- 1 BSD&#45;&gt;2 BSD -->\n<g id=\"edge19\" class=\"edge\">\n<title>1 BSD&#45;&gt;2 BSD</title>\n<path fill=\"none\" stroke=\"#000000\" d=\"M114.4741,-576.0816C105.394,-549.1057 89.8973,-496.2867 89.8973,-450 89.8973,-450 89.8973,-450 89.8973,-378 89.8973,-337.7369 85.1807,-291.3594 81.6616,-262.3596\"/>\n<polygon fill=\"#000000\" stroke=\"#000000\" points=\"85.0981,-261.6332 80.3838,-252.145 78.1522,-262.5021 85.0981,-261.6332\"/>\n</g>\n<!-- Unix/TS 3.0 -->\n<g id=\"node9\" class=\"node\">\n<title>Unix/TS 3.0</title>\n<ellipse fill=\"#b2dfee\" stroke=\"#b2dfee\" cx=\"602.8973\" cy=\"-378\" rx=\"54.6905\" ry=\"18\"/>\n<text text-anchor=\"middle\" x=\"602.8973\" y=\"-374.3\" font-family=\"Times,serif\" font-size=\"14.00\" fill=\"#000000\">Unix/TS 3.0</text>\n</g>\n<!-- Interdata&#45;&gt;Unix/TS 3.0 -->\n<g id=\"edge8\" class=\"edge\">\n<title>Interdata&#45;&gt;Unix/TS 3.0</title>\n<path fill=\"none\" stroke=\"#000000\" d=\"M274.1605,-579.1534C335.4055,-541.6777 496.4509,-443.1344 567.898,-399.416\"/>\n<polygon fill=\"#000000\" stroke=\"#000000\" points=\"569.8558,-402.3213 576.5589,-394.1165 566.2022,-396.3504 569.8558,-402.3213\"/>\n</g>\n<!-- PWB 2.0 -->\n<g id=\"node10\" class=\"node\">\n<title>PWB 2.0</title>\n<ellipse fill=\"#b2dfee\" stroke=\"#b2dfee\" cx=\"549.8973\" cy=\"-522\" rx=\"44.393\" ry=\"18\"/>\n<text text-anchor=\"middle\" x=\"549.8973\" y=\"-518.3\" font-family=\"Times,serif\" font-size=\"14.00\" fill=\"#000000\">PWB 2.0</text>\n</g>\n<!-- Interdata&#45;&gt;PWB 2.0 -->\n<g id=\"edge9\" class=\"edge\">\n<title>Interdata&#45;&gt;PWB 2.0</title>\n<path fill=\"none\" stroke=\"#000000\" d=\"M281.4916,-582.0055C287.8612,-579.8269 294.5504,-577.7074 300.8973,-576 384.3152,-553.5593 408.0643,-560.8362 491.8973,-540 496.3338,-538.8973 500.9313,-537.6518 505.508,-536.3435\"/>\n<polygon fill=\"#000000\" stroke=\"#000000\" points=\"506.8272,-539.6032 515.4234,-533.41 504.8413,-532.8908 506.8272,-539.6032\"/>\n</g>\n<!-- 7th Edition -->\n<g id=\"node11\" class=\"node\">\n<title>7th Edition</title>\n<ellipse fill=\"#b2dfee\" stroke=\"#b2dfee\" cx=\"249.8973\" cy=\"-522\" rx=\"50.0912\" ry=\"18\"/>\n<text text-anchor=\"middle\" x=\"249.8973\" y=\"-518.3\" font-family=\"Times,serif\" font-size=\"14.00\" fill=\"#000000\">7th Edition</text>\n</g>\n<!-- Interdata&#45;&gt;7th Edition -->\n<g id=\"edge10\" class=\"edge\">\n<title>Interdata&#45;&gt;7th Edition</title>\n<path fill=\"none\" stroke=\"#000000\" d=\"M249.8973,-575.8314C249.8973,-568.131 249.8973,-558.9743 249.8973,-550.4166\"/>\n<polygon fill=\"#000000\" stroke=\"#000000\" points=\"253.3974,-550.4132 249.8973,-540.4133 246.3974,-550.4133 253.3974,-550.4132\"/>\n</g>\n<!-- TS 4.0 -->\n<g id=\"node38\" class=\"node\">\n<title>TS 4.0</title>\n<ellipse fill=\"#b2dfee\" stroke=\"#b2dfee\" cx=\"684.8973\" cy=\"-234\" rx=\"34.394\" ry=\"18\"/>\n<text text-anchor=\"middle\" x=\"684.8973\" y=\"-230.3\" font-family=\"Times,serif\" font-size=\"14.00\" fill=\"#000000\">TS 4.0</text>\n</g>\n<!-- Unix/TS 3.0&#45;&gt;TS 4.0 -->\n<g id=\"edge44\" class=\"edge\">\n<title>Unix/TS 3.0&#45;&gt;TS 4.0</title>\n<path fill=\"none\" stroke=\"#000000\" d=\"M613.1169,-360.0535C627.4507,-334.8819 653.6129,-288.9386 670.0823,-260.0167\"/>\n<polygon fill=\"#000000\" stroke=\"#000000\" points=\"673.1546,-261.6943 675.0616,-251.2725 667.0717,-258.2304 673.1546,-261.6943\"/>\n</g>\n<!-- PWB 2.0&#45;&gt;Unix/TS 3.0 -->\n<g id=\"edge42\" class=\"edge\">\n<title>PWB 2.0&#45;&gt;Unix/TS 3.0</title>\n<path fill=\"none\" stroke=\"#000000\" d=\"M546.6193,-503.9818C544.0356,-485.2413 542.2825,-455.4221 551.8973,-432 556.556,-420.6514 564.7951,-410.2802 573.3102,-401.7271\"/>\n<polygon fill=\"#000000\" stroke=\"#000000\" points=\"575.8951,-404.1008 580.7812,-394.7 571.0991,-399.0019 575.8951,-404.1008\"/>\n</g>\n<!-- 8th Edition -->\n<g id=\"node12\" class=\"node\">\n<title>8th Edition</title>\n<ellipse fill=\"#b2dfee\" stroke=\"#b2dfee\" cx=\"449.8973\" cy=\"-162\" rx=\"50.0912\" ry=\"18\"/>\n<text text-anchor=\"middle\" x=\"449.8973\" y=\"-158.3\" font-family=\"Times,serif\" font-size=\"14.00\" fill=\"#000000\">8th Edition</text>\n</g>\n<!-- 7th Edition&#45;&gt;8th Edition -->\n<g id=\"edge11\" class=\"edge\">\n<title>7th Edition&#45;&gt;8th Edition</title>\n<path fill=\"none\" stroke=\"#000000\" d=\"M294.0443,-513.3294C338.7923,-503.6523 403.8023,-486.8549 420.8973,-468 448.3571,-437.7135 439.8973,-418.8816 439.8973,-378 439.8973,-378 439.8973,-378 439.8973,-306 439.8973,-265.7793 443.8279,-219.391 446.7605,-190.3773\"/>\n<polygon fill=\"#000000\" stroke=\"#000000\" points=\"450.2701,-190.4662 447.8253,-180.1573 443.3078,-189.7407 450.2701,-190.4662\"/>\n</g>\n<!-- 32V -->\n<g id=\"node13\" class=\"node\">\n<title>32V</title>\n<ellipse fill=\"#b2dfee\" stroke=\"#b2dfee\" cx=\"384.8973\" cy=\"-450\" rx=\"27\" ry=\"18\"/>\n<text text-anchor=\"middle\" x=\"384.8973\" y=\"-446.3\" font-family=\"Times,serif\" font-size=\"14.00\" fill=\"#000000\">32V</text>\n</g>\n<!-- 7th Edition&#45;&gt;32V -->\n<g id=\"edge12\" class=\"edge\">\n<title>7th Edition&#45;&gt;32V</title>\n<path fill=\"none\" stroke=\"#000000\" d=\"M278.1978,-506.9064C300.6227,-494.9465 331.8812,-478.2753 354.7688,-466.0686\"/>\n<polygon fill=\"#000000\" stroke=\"#000000\" points=\"356.5309,-469.0955 363.7073,-461.3013 353.2367,-462.919 356.5309,-469.0955\"/>\n</g>\n<!-- V7M -->\n<g id=\"node14\" class=\"node\">\n<title>V7M</title>\n<ellipse fill=\"#b2dfee\" stroke=\"#b2dfee\" cx=\"29.8973\" cy=\"-378\" rx=\"29.795\" ry=\"18\"/>\n<text text-anchor=\"middle\" x=\"29.8973\" y=\"-374.3\" font-family=\"Times,serif\" font-size=\"14.00\" fill=\"#000000\">V7M</text>\n</g>\n<!-- 7th Edition&#45;&gt;V7M -->\n<g id=\"edge13\" class=\"edge\">\n<title>7th Edition&#45;&gt;V7M</title>\n<path fill=\"none\" stroke=\"#000000\" d=\"M212.9555,-509.7132C187.377,-500.3175 153.1631,-485.9391 125.8973,-468 97.2137,-449.128 69.1215,-421.3949 50.8125,-401.7097\"/>\n<polygon fill=\"#000000\" stroke=\"#000000\" points=\"53.1593,-399.0897 43.826,-394.0756 47.9954,-403.8156 53.1593,-399.0897\"/>\n</g>\n<!-- Ultrix&#45;11 -->\n<g id=\"node15\" class=\"node\">\n<title>Ultrix&#45;11</title>\n<ellipse fill=\"#b2dfee\" stroke=\"#b2dfee\" cx=\"106.8973\" cy=\"-90\" rx=\"43.5923\" ry=\"18\"/>\n<text text-anchor=\"middle\" x=\"106.8973\" y=\"-86.3\" font-family=\"Times,serif\" font-size=\"14.00\" fill=\"#000000\">Ultrix&#45;11</text>\n</g>\n<!-- 7th Edition&#45;&gt;Ultrix&#45;11 -->\n<g id=\"edge14\" class=\"edge\">\n<title>7th Edition&#45;&gt;Ultrix&#45;11</title>\n<path fill=\"none\" stroke=\"#000000\" d=\"M214.2145,-509.1314C194.9868,-500.4042 172.4847,-486.9662 158.8973,-468 135.0889,-434.7665 139.8973,-418.8816 139.8973,-378 139.8973,-378 139.8973,-378 139.8973,-234 139.8973,-192.6545 126.8121,-146.2804 117.1212,-117.6051\"/>\n<polygon fill=\"#000000\" stroke=\"#000000\" points=\"120.3296,-116.1756 113.735,-107.8833 113.7191,-118.4782 120.3296,-116.1756\"/>\n</g>\n<!-- Xenix -->\n<g id=\"node16\" class=\"node\">\n<title>Xenix</title>\n<ellipse fill=\"#b2dfee\" stroke=\"#b2dfee\" cx=\"199.8973\" cy=\"-450\" rx=\"31.6951\" ry=\"18\"/>\n<text text-anchor=\"middle\" x=\"199.8973\" y=\"-446.3\" font-family=\"Times,serif\" font-size=\"14.00\" fill=\"#000000\">Xenix</text>\n</g>\n<!-- 7th Edition&#45;&gt;Xenix -->\n<g id=\"edge15\" class=\"edge\">\n<title>7th Edition&#45;&gt;Xenix</title>\n<path fill=\"none\" stroke=\"#000000\" d=\"M237.5378,-504.2022C231.5155,-495.5301 224.1651,-484.9455 217.5633,-475.4389\"/>\n<polygon fill=\"#000000\" stroke=\"#000000\" points=\"220.3492,-473.3145 211.7704,-467.0972 214.5996,-477.3073 220.3492,-473.3145\"/>\n</g>\n<!-- UniPlus+ -->\n<g id=\"node17\" class=\"node\">\n<title>UniPlus+</title>\n<ellipse fill=\"#b2dfee\" stroke=\"#b2dfee\" cx=\"294.8973\" cy=\"-450\" rx=\"45.4919\" ry=\"18\"/>\n<text text-anchor=\"middle\" x=\"294.8973\" y=\"-446.3\" font-family=\"Times,serif\" font-size=\"14.00\" fill=\"#000000\">UniPlus+</text>\n</g>\n<!-- 7th Edition&#45;&gt;UniPlus+ -->\n<g id=\"edge16\" class=\"edge\">\n<title>7th Edition&#45;&gt;UniPlus+</title>\n<path fill=\"none\" stroke=\"#000000\" d=\"M261.0209,-504.2022C266.3069,-495.7448 272.7295,-485.4685 278.5555,-476.147\"/>\n<polygon fill=\"#000000\" stroke=\"#000000\" points=\"281.5697,-477.928 283.9017,-467.593 275.6337,-474.218 281.5697,-477.928\"/>\n</g>\n<!-- 9th Edition -->\n<g id=\"node18\" class=\"node\">\n<title>9th Edition</title>\n<ellipse fill=\"#b2dfee\" stroke=\"#b2dfee\" cx=\"525.8973\" cy=\"-90\" rx=\"50.0912\" ry=\"18\"/>\n<text text-anchor=\"middle\" x=\"525.8973\" y=\"-86.3\" font-family=\"Times,serif\" font-size=\"14.00\" fill=\"#000000\">9th Edition</text>\n</g>\n<!-- 8th Edition&#45;&gt;9th Edition -->\n<g id=\"edge18\" class=\"edge\">\n<title>8th Edition&#45;&gt;9th Edition</title>\n<path fill=\"none\" stroke=\"#000000\" d=\"M467.9083,-144.937C477.6571,-135.7013 489.8596,-124.141 500.5528,-114.0106\"/>\n<polygon fill=\"#000000\" stroke=\"#000000\" points=\"503.1633,-116.3588 508.0157,-106.9405 498.349,-111.2771 503.1633,-116.3588\"/>\n</g>\n<!-- 3 BSD -->\n<g id=\"node22\" class=\"node\">\n<title>3 BSD</title>\n<ellipse fill=\"#b2dfee\" stroke=\"#b2dfee\" cx=\"373.8973\" cy=\"-378\" rx=\"34.394\" ry=\"18\"/>\n<text text-anchor=\"middle\" x=\"373.8973\" y=\"-374.3\" font-family=\"Times,serif\" font-size=\"14.00\" fill=\"#000000\">3 BSD</text>\n</g>\n<!-- 32V&#45;&gt;3 BSD -->\n<g id=\"edge23\" class=\"edge\">\n<title>32V&#45;&gt;3 BSD</title>\n<path fill=\"none\" stroke=\"#000000\" d=\"M382.1216,-431.8314C380.9451,-424.131 379.5462,-414.9743 378.2388,-406.4166\"/>\n<polygon fill=\"#000000\" stroke=\"#000000\" points=\"381.6807,-405.7699 376.7105,-396.4133 374.761,-406.8272 381.6807,-405.7699\"/>\n</g>\n<!-- V7M&#45;&gt;Ultrix&#45;11 -->\n<g id=\"edge17\" class=\"edge\">\n<title>V7M&#45;&gt;Ultrix&#45;11</title>\n<path fill=\"none\" stroke=\"#000000\" d=\"M27.6266,-359.5851C24.4857,-329.0652 20.6853,-266.3708 34.8973,-216 45.4996,-178.4234 69.6497,-140.1685 87.0604,-115.8263\"/>\n<polygon fill=\"#000000\" stroke=\"#000000\" points=\"90.0595,-117.6541 93.1323,-107.5146 84.4071,-113.5248 90.0595,-117.6541\"/>\n</g>\n<!-- 2.8 BSD -->\n<g id=\"node20\" class=\"node\">\n<title>2.8 BSD</title>\n<ellipse fill=\"#b2dfee\" stroke=\"#b2dfee\" cx=\"209.8973\" cy=\"-162\" rx=\"41.6928\" ry=\"18\"/>\n<text text-anchor=\"middle\" x=\"209.8973\" y=\"-158.3\" font-family=\"Times,serif\" font-size=\"14.00\" fill=\"#000000\">2.8 BSD</text>\n</g>\n<!-- 2 BSD&#45;&gt;2.8 BSD -->\n<g id=\"edge20\" class=\"edge\">\n<title>2 BSD&#45;&gt;2.8 BSD</title>\n<path fill=\"none\" stroke=\"#000000\" d=\"M101.8016,-220.9613C122.265,-209.7994 151.9948,-193.5832 175.0987,-180.9811\"/>\n<polygon fill=\"#000000\" stroke=\"#000000\" points=\"176.809,-184.0351 183.9119,-176.1739 173.457,-177.8898 176.809,-184.0351\"/>\n</g>\n<!-- 2.8 BSD&#45;&gt;Ultrix&#45;11 -->\n<g id=\"edge21\" class=\"edge\">\n<title>2.8 BSD&#45;&gt;Ultrix&#45;11</title>\n<path fill=\"none\" stroke=\"#000000\" d=\"M187.8013,-146.5542C173.2378,-136.3739 153.9566,-122.8958 137.8702,-111.6509\"/>\n<polygon fill=\"#000000\" stroke=\"#000000\" points=\"139.5136,-108.5294 129.3123,-105.6687 135.5031,-114.2666 139.5136,-108.5294\"/>\n</g>\n<!-- 2.9 BSD -->\n<g id=\"node21\" class=\"node\">\n<title>2.9 BSD</title>\n<ellipse fill=\"#b2dfee\" stroke=\"#b2dfee\" cx=\"209.8973\" cy=\"-90\" rx=\"41.6928\" ry=\"18\"/>\n<text text-anchor=\"middle\" x=\"209.8973\" y=\"-86.3\" font-family=\"Times,serif\" font-size=\"14.00\" fill=\"#000000\">2.9 BSD</text>\n</g>\n<!-- 2.8 BSD&#45;&gt;2.9 BSD -->\n<g id=\"edge22\" class=\"edge\">\n<title>2.8 BSD&#45;&gt;2.9 BSD</title>\n<path fill=\"none\" stroke=\"#000000\" d=\"M209.8973,-143.8314C209.8973,-136.131 209.8973,-126.9743 209.8973,-118.4166\"/>\n<polygon fill=\"#000000\" stroke=\"#000000\" points=\"213.3974,-118.4132 209.8973,-108.4133 206.3974,-118.4133 213.3974,-118.4132\"/>\n</g>\n<!-- 4 BSD -->\n<g id=\"node23\" class=\"node\">\n<title>4 BSD</title>\n<ellipse fill=\"#b2dfee\" stroke=\"#b2dfee\" cx=\"361.8973\" cy=\"-306\" rx=\"34.394\" ry=\"18\"/>\n<text text-anchor=\"middle\" x=\"361.8973\" y=\"-302.3\" font-family=\"Times,serif\" font-size=\"14.00\" fill=\"#000000\">4 BSD</text>\n</g>\n<!-- 3 BSD&#45;&gt;4 BSD -->\n<g id=\"edge24\" class=\"edge\">\n<title>3 BSD&#45;&gt;4 BSD</title>\n<path fill=\"none\" stroke=\"#000000\" d=\"M370.8692,-359.8314C369.5858,-352.131 368.0597,-342.9743 366.6335,-334.4166\"/>\n<polygon fill=\"#000000\" stroke=\"#000000\" points=\"370.0627,-333.7018 364.9662,-324.4133 363.1579,-334.8526 370.0627,-333.7018\"/>\n</g>\n<!-- 4.1 BSD -->\n<g id=\"node24\" class=\"node\">\n<title>4.1 BSD</title>\n<ellipse fill=\"#b2dfee\" stroke=\"#b2dfee\" cx=\"359.8973\" cy=\"-234\" rx=\"41.6928\" ry=\"18\"/>\n<text text-anchor=\"middle\" x=\"359.8973\" y=\"-230.3\" font-family=\"Times,serif\" font-size=\"14.00\" fill=\"#000000\">4.1 BSD</text>\n</g>\n<!-- 4 BSD&#45;&gt;4.1 BSD -->\n<g id=\"edge25\" class=\"edge\">\n<title>4 BSD&#45;&gt;4.1 BSD</title>\n<path fill=\"none\" stroke=\"#000000\" d=\"M361.3927,-287.8314C361.1788,-280.131 360.9244,-270.9743 360.6867,-262.4166\"/>\n<polygon fill=\"#000000\" stroke=\"#000000\" points=\"364.1852,-262.3122 360.4088,-252.4133 357.1879,-262.5066 364.1852,-262.3122\"/>\n</g>\n<!-- 4.1 BSD&#45;&gt;8th Edition -->\n<g id=\"edge28\" class=\"edge\">\n<title>4.1 BSD&#45;&gt;8th Edition</title>\n<path fill=\"none\" stroke=\"#000000\" d=\"M379.8713,-218.0209C392.0508,-208.2772 407.8167,-195.6645 421.3043,-184.8745\"/>\n<polygon fill=\"#000000\" stroke=\"#000000\" points=\"423.733,-187.4137 429.3553,-178.4336 419.3601,-181.9476 423.733,-187.4137\"/>\n</g>\n<!-- 4.1 BSD&#45;&gt;2.8 BSD -->\n<g id=\"edge27\" class=\"edge\">\n<title>4.1 BSD&#45;&gt;2.8 BSD</title>\n<path fill=\"none\" stroke=\"#000000\" d=\"M332.035,-220.6261C308.115,-209.1445 273.437,-192.4991 247.1388,-179.8759\"/>\n<polygon fill=\"#000000\" stroke=\"#000000\" points=\"248.3944,-176.5963 237.8645,-175.4243 245.3652,-182.907 248.3944,-176.5963\"/>\n</g>\n<!-- 4.2 BSD -->\n<g id=\"node25\" class=\"node\">\n<title>4.2 BSD</title>\n<ellipse fill=\"#b2dfee\" stroke=\"#b2dfee\" cx=\"339.8973\" cy=\"-162\" rx=\"41.6928\" ry=\"18\"/>\n<text text-anchor=\"middle\" x=\"339.8973\" y=\"-158.3\" font-family=\"Times,serif\" font-size=\"14.00\" fill=\"#000000\">4.2 BSD</text>\n</g>\n<!-- 4.1 BSD&#45;&gt;4.2 BSD -->\n<g id=\"edge26\" class=\"edge\">\n<title>4.1 BSD&#45;&gt;4.2 BSD</title>\n<path fill=\"none\" stroke=\"#000000\" d=\"M354.8505,-215.8314C352.6547,-207.9266 350.0327,-198.4872 347.6019,-189.7365\"/>\n<polygon fill=\"#000000\" stroke=\"#000000\" points=\"350.9221,-188.6118 344.8733,-179.9134 344.1775,-190.4854 350.9221,-188.6118\"/>\n</g>\n<!-- 4.3 BSD -->\n<g id=\"node26\" class=\"node\">\n<title>4.3 BSD</title>\n<ellipse fill=\"#b2dfee\" stroke=\"#b2dfee\" cx=\"415.8973\" cy=\"-90\" rx=\"41.6928\" ry=\"18\"/>\n<text text-anchor=\"middle\" x=\"415.8973\" y=\"-86.3\" font-family=\"Times,serif\" font-size=\"14.00\" fill=\"#000000\">4.3 BSD</text>\n</g>\n<!-- 4.2 BSD&#45;&gt;4.3 BSD -->\n<g id=\"edge29\" class=\"edge\">\n<title>4.2 BSD&#45;&gt;4.3 BSD</title>\n<path fill=\"none\" stroke=\"#000000\" d=\"M357.5243,-145.3008C367.5002,-135.85 380.1356,-123.8795 391.0976,-113.4945\"/>\n<polygon fill=\"#000000\" stroke=\"#000000\" points=\"393.5135,-116.027 398.366,-106.6087 388.6993,-110.9453 393.5135,-116.027\"/>\n</g>\n<!-- Ultrix&#45;32 -->\n<g id=\"node27\" class=\"node\">\n<title>Ultrix&#45;32</title>\n<ellipse fill=\"#b2dfee\" stroke=\"#b2dfee\" cx=\"312.8973\" cy=\"-90\" rx=\"43.5923\" ry=\"18\"/>\n<text text-anchor=\"middle\" x=\"312.8973\" y=\"-86.3\" font-family=\"Times,serif\" font-size=\"14.00\" fill=\"#000000\">Ultrix&#45;32</text>\n</g>\n<!-- 4.2 BSD&#45;&gt;Ultrix&#45;32 -->\n<g id=\"edge30\" class=\"edge\">\n<title>4.2 BSD&#45;&gt;Ultrix&#45;32</title>\n<path fill=\"none\" stroke=\"#000000\" d=\"M333.2232,-144.2022C330.1727,-136.0675 326.4911,-126.2501 323.1041,-117.2181\"/>\n<polygon fill=\"#000000\" stroke=\"#000000\" points=\"326.3768,-115.9769 319.5883,-107.8425 319.8224,-118.4348 326.3768,-115.9769\"/>\n</g>\n<!-- PWB 1.2&#45;&gt;PWB 2.0 -->\n<g id=\"edge33\" class=\"edge\">\n<title>PWB 1.2&#45;&gt;PWB 2.0</title>\n<path fill=\"none\" stroke=\"#000000\" d=\"M643.1607,-578.9064C625.775,-568.2982 602.3149,-553.9836 583.2739,-542.3653\"/>\n<polygon fill=\"#000000\" stroke=\"#000000\" points=\"584.9609,-539.2946 574.6014,-537.0737 581.3148,-545.2701 584.9609,-539.2946\"/>\n</g>\n<!-- CB Unix 1 -->\n<g id=\"node30\" class=\"node\">\n<title>CB Unix 1</title>\n<ellipse fill=\"#b2dfee\" stroke=\"#b2dfee\" cx=\"802.8973\" cy=\"-522\" rx=\"49.2915\" ry=\"18\"/>\n<text text-anchor=\"middle\" x=\"802.8973\" y=\"-518.3\" font-family=\"Times,serif\" font-size=\"14.00\" fill=\"#000000\">CB Unix 1</text>\n</g>\n<!-- USG 1.0&#45;&gt;CB Unix 1 -->\n<g id=\"edge34\" class=\"edge\">\n<title>USG 1.0&#45;&gt;CB Unix 1</title>\n<path fill=\"none\" stroke=\"#000000\" d=\"M779.5603,-576.2022C783.0627,-568.0675 787.2897,-558.2501 791.1784,-549.2181\"/>\n<polygon fill=\"#000000\" stroke=\"#000000\" points=\"794.4752,-550.4115 795.2151,-539.8425 788.0458,-547.6433 794.4752,-550.4115\"/>\n</g>\n<!-- USG 2.0 -->\n<g id=\"node31\" class=\"node\">\n<title>USG 2.0</title>\n<ellipse fill=\"#b2dfee\" stroke=\"#b2dfee\" cx=\"679.8973\" cy=\"-522\" rx=\"42.4939\" ry=\"18\"/>\n<text text-anchor=\"middle\" x=\"679.8973\" y=\"-518.3\" font-family=\"Times,serif\" font-size=\"14.00\" fill=\"#000000\">USG 2.0</text>\n</g>\n<!-- USG 1.0&#45;&gt;USG 2.0 -->\n<g id=\"edge35\" class=\"edge\">\n<title>USG 1.0&#45;&gt;USG 2.0</title>\n<path fill=\"none\" stroke=\"#000000\" d=\"M751.4796,-578.0209C738.7349,-568.0468 722.1487,-555.0663 708.1516,-544.112\"/>\n<polygon fill=\"#000000\" stroke=\"#000000\" points=\"710.2902,-541.3413 700.2581,-537.9345 705.976,-546.8539 710.2902,-541.3413\"/>\n</g>\n<!-- CB Unix 2 -->\n<g id=\"node32\" class=\"node\">\n<title>CB Unix 2</title>\n<ellipse fill=\"#b2dfee\" stroke=\"#b2dfee\" cx=\"839.8973\" cy=\"-450\" rx=\"49.2915\" ry=\"18\"/>\n<text text-anchor=\"middle\" x=\"839.8973\" y=\"-446.3\" font-family=\"Times,serif\" font-size=\"14.00\" fill=\"#000000\">CB Unix 2</text>\n</g>\n<!-- CB Unix 1&#45;&gt;CB Unix 2 -->\n<g id=\"edge36\" class=\"edge\">\n<title>CB Unix 1&#45;&gt;CB Unix 2</title>\n<path fill=\"none\" stroke=\"#000000\" d=\"M812.0434,-504.2022C816.2682,-495.981 821.3763,-486.041 826.0582,-476.9301\"/>\n<polygon fill=\"#000000\" stroke=\"#000000\" points=\"829.2705,-478.3366 830.7283,-467.8425 823.0445,-475.1371 829.2705,-478.3366\"/>\n</g>\n<!-- USG 3.0 -->\n<g id=\"node36\" class=\"node\">\n<title>USG 3.0</title>\n<ellipse fill=\"#b2dfee\" stroke=\"#b2dfee\" cx=\"602.8973\" cy=\"-450\" rx=\"42.4939\" ry=\"18\"/>\n<text text-anchor=\"middle\" x=\"602.8973\" y=\"-446.3\" font-family=\"Times,serif\" font-size=\"14.00\" fill=\"#000000\">USG 3.0</text>\n</g>\n<!-- USG 2.0&#45;&gt;USG 3.0 -->\n<g id=\"edge40\" class=\"edge\">\n<title>USG 2.0&#45;&gt;USG 3.0</title>\n<path fill=\"none\" stroke=\"#000000\" d=\"M662.0385,-505.3008C651.9313,-495.85 639.1296,-483.8795 628.0235,-473.4945\"/>\n<polygon fill=\"#000000\" stroke=\"#000000\" points=\"630.3541,-470.8821 620.6594,-466.6087 625.5732,-475.9951 630.3541,-470.8821\"/>\n</g>\n<!-- CB Unix 3 -->\n<g id=\"node33\" class=\"node\">\n<title>CB Unix 3</title>\n<ellipse fill=\"#b2dfee\" stroke=\"#b2dfee\" cx=\"781.8973\" cy=\"-378\" rx=\"49.2915\" ry=\"18\"/>\n<text text-anchor=\"middle\" x=\"781.8973\" y=\"-374.3\" font-family=\"Times,serif\" font-size=\"14.00\" fill=\"#000000\">CB Unix 3</text>\n</g>\n<!-- CB Unix 2&#45;&gt;CB Unix 3 -->\n<g id=\"edge37\" class=\"edge\">\n<title>CB Unix 2&#45;&gt;CB Unix 3</title>\n<path fill=\"none\" stroke=\"#000000\" d=\"M825.8572,-432.5708C818.7853,-423.7919 810.079,-412.9841 802.2854,-403.3093\"/>\n<polygon fill=\"#000000\" stroke=\"#000000\" points=\"805.0082,-401.1101 796.0093,-395.5182 799.5569,-405.5015 805.0082,-401.1101\"/>\n</g>\n<!-- Unix/TS++ -->\n<g id=\"node34\" class=\"node\">\n<title>Unix/TS++</title>\n<ellipse fill=\"#b2dfee\" stroke=\"#b2dfee\" cx=\"766.8973\" cy=\"-306\" rx=\"53.8905\" ry=\"18\"/>\n<text text-anchor=\"middle\" x=\"766.8973\" y=\"-302.3\" font-family=\"Times,serif\" font-size=\"14.00\" fill=\"#000000\">Unix/TS++</text>\n</g>\n<!-- CB Unix 3&#45;&gt;Unix/TS++ -->\n<g id=\"edge38\" class=\"edge\">\n<title>CB Unix 3&#45;&gt;Unix/TS++</title>\n<path fill=\"none\" stroke=\"#000000\" d=\"M778.1122,-359.8314C776.508,-352.131 774.6003,-342.9743 772.8175,-334.4166\"/>\n<polygon fill=\"#000000\" stroke=\"#000000\" points=\"776.1995,-333.4892 770.7334,-324.4133 769.3466,-334.9169 776.1995,-333.4892\"/>\n</g>\n<!-- PDP&#45;11 Sys V -->\n<g id=\"node35\" class=\"node\">\n<title>PDP&#45;11 Sys V</title>\n<ellipse fill=\"#b2dfee\" stroke=\"#b2dfee\" cx=\"900.8973\" cy=\"-306\" rx=\"62.2891\" ry=\"18\"/>\n<text text-anchor=\"middle\" x=\"900.8973\" y=\"-302.3\" font-family=\"Times,serif\" font-size=\"14.00\" fill=\"#000000\">PDP&#45;11 Sys V</text>\n</g>\n<!-- CB Unix 3&#45;&gt;PDP&#45;11 Sys V -->\n<g id=\"edge39\" class=\"edge\">\n<title>CB Unix 3&#45;&gt;PDP&#45;11 Sys V</title>\n<path fill=\"none\" stroke=\"#000000\" d=\"M807.4258,-362.5542C824.211,-352.3985 846.4206,-338.9607 864.9787,-327.7323\"/>\n<polygon fill=\"#000000\" stroke=\"#000000\" points=\"867.012,-330.5929 873.756,-322.4217 863.3883,-324.6038 867.012,-330.5929\"/>\n</g>\n<!-- CB Unix 3&#45;&gt;TS 4.0 -->\n<g id=\"edge46\" class=\"edge\">\n<title>CB Unix 3&#45;&gt;TS 4.0</title>\n<path fill=\"none\" stroke=\"#000000\" d=\"M750.8708,-363.7374C734.4603,-354.6341 715.3854,-341.2826 703.8973,-324 691.7212,-305.6823 687.1473,-281.023 685.5198,-262.1484\"/>\n<polygon fill=\"#000000\" stroke=\"#000000\" points=\"689.0063,-261.823 684.8779,-252.0656 682.0204,-262.2678 689.0063,-261.823\"/>\n</g>\n<!-- Unix/TS++&#45;&gt;TS 4.0 -->\n<g id=\"edge45\" class=\"edge\">\n<title>Unix/TS++&#45;&gt;TS 4.0</title>\n<path fill=\"none\" stroke=\"#000000\" d=\"M747.4645,-288.937C736.3533,-279.1808 722.2879,-266.8307 710.3085,-256.3123\"/>\n<polygon fill=\"#000000\" stroke=\"#000000\" points=\"712.6134,-253.6783 702.7897,-249.7103 707.9948,-258.9384 712.6134,-253.6783\"/>\n</g>\n<!-- USG 3.0&#45;&gt;Unix/TS 3.0 -->\n<g id=\"edge41\" class=\"edge\">\n<title>USG 3.0&#45;&gt;Unix/TS 3.0</title>\n<path fill=\"none\" stroke=\"#000000\" d=\"M602.8973,-431.8314C602.8973,-424.131 602.8973,-414.9743 602.8973,-406.4166\"/>\n<polygon fill=\"#000000\" stroke=\"#000000\" points=\"606.3974,-406.4132 602.8973,-396.4133 599.3974,-406.4133 606.3974,-406.4132\"/>\n</g>\n<!-- Unix/TS 1.0 -->\n<g id=\"node37\" class=\"node\">\n<title>Unix/TS 1.0</title>\n<ellipse fill=\"#b2dfee\" stroke=\"#b2dfee\" cx=\"717.8973\" cy=\"-450\" rx=\"54.6905\" ry=\"18\"/>\n<text text-anchor=\"middle\" x=\"717.8973\" y=\"-446.3\" font-family=\"Times,serif\" font-size=\"14.00\" fill=\"#000000\">Unix/TS 1.0</text>\n</g>\n<!-- Unix/TS 1.0&#45;&gt;Unix/TS 3.0 -->\n<g id=\"edge43\" class=\"edge\">\n<title>Unix/TS 1.0&#45;&gt;Unix/TS 3.0</title>\n<path fill=\"none\" stroke=\"#000000\" d=\"M692.3751,-434.0209C676.1465,-423.8603 654.9348,-410.58 637.2375,-399.4999\"/>\n<polygon fill=\"#000000\" stroke=\"#000000\" points=\"638.6814,-396.2746 628.3482,-393.9345 634.9668,-402.2077 638.6814,-396.2746\"/>\n</g>\n<!-- System V.0 -->\n<g id=\"node39\" class=\"node\">\n<title>System V.0</title>\n<ellipse fill=\"#b2dfee\" stroke=\"#b2dfee\" cx=\"684.8973\" cy=\"-162\" rx=\"51.9908\" ry=\"18\"/>\n<text text-anchor=\"middle\" x=\"684.8973\" y=\"-158.3\" font-family=\"Times,serif\" font-size=\"14.00\" fill=\"#000000\">System V.0</text>\n</g>\n<!-- TS 4.0&#45;&gt;System V.0 -->\n<g id=\"edge47\" class=\"edge\">\n<title>TS 4.0&#45;&gt;System V.0</title>\n<path fill=\"none\" stroke=\"#000000\" d=\"M684.8973,-215.8314C684.8973,-208.131 684.8973,-198.9743 684.8973,-190.4166\"/>\n<polygon fill=\"#000000\" stroke=\"#000000\" points=\"688.3974,-190.4132 684.8973,-180.4133 681.3974,-190.4133 688.3974,-190.4132\"/>\n</g>\n<!-- System V.2 -->\n<g id=\"node40\" class=\"node\">\n<title>System V.2</title>\n<ellipse fill=\"#b2dfee\" stroke=\"#b2dfee\" cx=\"684.8973\" cy=\"-90\" rx=\"51.9908\" ry=\"18\"/>\n<text text-anchor=\"middle\" x=\"684.8973\" y=\"-86.3\" font-family=\"Times,serif\" font-size=\"14.00\" fill=\"#000000\">System V.2</text>\n</g>\n<!-- System V.0&#45;&gt;System V.2 -->\n<g id=\"edge48\" class=\"edge\">\n<title>System V.0&#45;&gt;System V.2</title>\n<path fill=\"none\" stroke=\"#000000\" d=\"M684.8973,-143.8314C684.8973,-136.131 684.8973,-126.9743 684.8973,-118.4166\"/>\n<polygon fill=\"#000000\" stroke=\"#000000\" points=\"688.3974,-118.4132 684.8973,-108.4133 681.3974,-118.4133 688.3974,-118.4132\"/>\n</g>\n<!-- System V.3 -->\n<g id=\"node41\" class=\"node\">\n<title>System V.3</title>\n<ellipse fill=\"#b2dfee\" stroke=\"#b2dfee\" cx=\"684.8973\" cy=\"-18\" rx=\"51.9908\" ry=\"18\"/>\n<text text-anchor=\"middle\" x=\"684.8973\" y=\"-14.3\" font-family=\"Times,serif\" font-size=\"14.00\" fill=\"#000000\">System V.3</text>\n</g>\n<!-- System V.2&#45;&gt;System V.3 -->\n<g id=\"edge49\" class=\"edge\">\n<title>System V.2&#45;&gt;System V.3</title>\n<path fill=\"none\" stroke=\"#000000\" d=\"M684.8973,-71.8314C684.8973,-64.131 684.8973,-54.9743 684.8973,-46.4166\"/>\n<polygon fill=\"#000000\" stroke=\"#000000\" points=\"688.3974,-46.4132 684.8973,-36.4133 681.3974,-46.4133 688.3974,-46.4132\"/>\n</g>\n</g>\n</svg>\n"
                    }, 
                    "output_type": "execute_result"
                }
            ], 
            "source": "#!/usr/bin/env python\n# unix.py - http://www.graphviz.org/content/unix\n\nfrom graphviz import Digraph\n\nu = Digraph('unix', filename='unix.gv')\nu.attr(size='6,6')\nu.node_attr.update(color='lightblue2', style='filled')\n\nu.edge('5th Edition', '6th Edition')\nu.edge('5th Edition', 'PWB 1.0')\nu.edge('6th Edition', 'LSX')\nu.edge('6th Edition', '1 BSD')\nu.edge('6th Edition', 'Mini Unix')\nu.edge('6th Edition', 'Wollongong')\nu.edge('6th Edition', 'Interdata')\nu.edge('Interdata', 'Unix/TS 3.0')\nu.edge('Interdata', 'PWB 2.0')\nu.edge('Interdata', '7th Edition')\nu.edge('7th Edition', '8th Edition')\nu.edge('7th Edition', '32V')\nu.edge('7th Edition', 'V7M')\nu.edge('7th Edition', 'Ultrix-11')\nu.edge('7th Edition', 'Xenix')\nu.edge('7th Edition', 'UniPlus+')\nu.edge('V7M', 'Ultrix-11')\nu.edge('8th Edition', '9th Edition')\nu.edge('1 BSD', '2 BSD')\nu.edge('2 BSD', '2.8 BSD')\nu.edge('2.8 BSD', 'Ultrix-11')\nu.edge('2.8 BSD', '2.9 BSD')\nu.edge('32V', '3 BSD')\nu.edge('3 BSD', '4 BSD')\nu.edge('4 BSD', '4.1 BSD')\nu.edge('4.1 BSD', '4.2 BSD')\nu.edge('4.1 BSD', '2.8 BSD')\nu.edge('4.1 BSD', '8th Edition')\nu.edge('4.2 BSD', '4.3 BSD')\nu.edge('4.2 BSD', 'Ultrix-32')\nu.edge('PWB 1.0', 'PWB 1.2')\nu.edge('PWB 1.0', 'USG 1.0')\nu.edge('PWB 1.2', 'PWB 2.0')\nu.edge('USG 1.0', 'CB Unix 1')\nu.edge('USG 1.0', 'USG 2.0')\nu.edge('CB Unix 1', 'CB Unix 2')\nu.edge('CB Unix 2', 'CB Unix 3')\nu.edge('CB Unix 3', 'Unix/TS++')\nu.edge('CB Unix 3', 'PDP-11 Sys V')\nu.edge('USG 2.0', 'USG 3.0')\nu.edge('USG 3.0', 'Unix/TS 3.0')\nu.edge('PWB 2.0', 'Unix/TS 3.0')\nu.edge('Unix/TS 1.0', 'Unix/TS 3.0')\nu.edge('Unix/TS 3.0', 'TS 4.0')\nu.edge('Unix/TS++', 'TS 4.0')\nu.edge('CB Unix 3', 'TS 4.0')\nu.edge('TS 4.0', 'System V.0')\nu.edge('System V.0', 'System V.2')\nu.edge('System V.2', 'System V.3')\n\nu"
        }, 
        {
            "source": "## Exercises\n\nPlease write script to generate the following four graphs.\n\nThere are six figures below, select any four of them, and use GraphViz/DOT to reproduce them:\n\n* As you can't specify the location of labels in DOT, you can use subgraph to put several element together;\n* It is almost certain that your generated graph will be different from what is shown here, however, as long as they have the same topological structure, the implementation is correct.\n\n", 
            "cell_type": "markdown", 
            "metadata": {}
        }, 
        {
            "source": "![Figure1](https://github.com/tuliplab/mds/raw/master/Jupyter/image/f1.png \"Figure 1\")", 
            "cell_type": "markdown", 
            "metadata": {}
        }, 
        {
            "execution_count": null, 
            "cell_type": "code", 
            "metadata": {}, 
            "outputs": [], 
            "source": ""
        }, 
        {
            "source": "![Figure 2](https://github.com/tuliplab/mds/raw/master/Jupyter/image/f2.png \"Figure 2\")", 
            "cell_type": "markdown", 
            "metadata": {}
        }, 
        {
            "execution_count": null, 
            "cell_type": "code", 
            "metadata": {}, 
            "outputs": [], 
            "source": ""
        }, 
        {
            "source": "![Figure 3](https://github.com/tuliplab/mds/raw/master/Jupyter/image/f3.png \"Figure 3\")", 
            "cell_type": "markdown", 
            "metadata": {}
        }, 
        {
            "execution_count": null, 
            "cell_type": "code", 
            "metadata": {}, 
            "outputs": [], 
            "source": ""
        }, 
        {
            "source": "![Figure 4](https://github.com/tuliplab/mds/raw/master/Jupyter/image/f4.png \"Figure 4\")", 
            "cell_type": "markdown", 
            "metadata": {}
        }, 
        {
            "execution_count": null, 
            "cell_type": "code", 
            "metadata": {}, 
            "outputs": [], 
            "source": ""
        }, 
        {
            "source": "![Figure 5](https://github.com/tuliplab/mds/raw/master/Jupyter/image/f5.png \"Figure 5\")", 
            "cell_type": "markdown", 
            "metadata": {}
        }, 
        {
            "execution_count": null, 
            "cell_type": "code", 
            "metadata": {}, 
            "outputs": [], 
            "source": ""
        }, 
        {
            "source": "![Figure 6](https://github.com/tuliplab/mds/raw/master/Jupyter/image/f6.png \"Figure 6\")", 
            "cell_type": "markdown", 
            "metadata": {}
        }
    ], 
    "metadata": {
        "kernelspec": {
            "display_name": "Python 3.5", 
            "name": "python3", 
            "language": "python"
        }, 
        "language_info": {
            "mimetype": "text/x-python", 
            "nbconvert_exporter": "python", 
            "version": "3.5.4", 
            "name": "python", 
            "file_extension": ".py", 
            "pygments_lexer": "ipython3", 
            "codemirror_mode": {
                "version": 3, 
                "name": "ipython"
            }
        }
    }, 
    "nbformat": 4
}