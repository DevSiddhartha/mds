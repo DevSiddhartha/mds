{
    "nbformat_minor": 1, 
    "cells": [
        {
            "source": "# Modern Data Science \n**(Module 02: Data Visualization)**\n\n---\n- Materials in this module include resources collected from various open-source online repositories.\n- You are free to use, change and distribute this package.\n\nPrepared by and for \n**Student Members** |\n2006-2018 [TULIP Lab](http://www.tulip.org.au), Australia\n\n---\n\n\n# Session H - Time Series\n\nThis lesson, we will learn how to handle time data with a stock case,including reading the time series,DateOffset and TimeDelta,Time Series Function.\n\n\n", 
            "cell_type": "markdown", 
            "metadata": {}
        }, 
        {
            "execution_count": 1, 
            "cell_type": "code", 
            "metadata": {}, 
            "outputs": [], 
            "source": "import pandas as pd\nimport numpy as np\n\nimport matplotlib.pyplot as plt\nimport seaborn as sns\nfrom datetime import datetime\n\nsns.set_style('whitegrid')\n%matplotlib inline\npd.set_option('display.max_columns', 10)\npd.set_option('display.max_rows', 10)"
        }, 
        {
            "execution_count": 3, 
            "cell_type": "code", 
            "metadata": {}, 
            "outputs": [
                {
                    "output_type": "stream", 
                    "name": "stdout", 
                    "text": "Collecting wget\n  Downloading https://files.pythonhosted.org/packages/47/6a/62e288da7bcda82b935ff0c6cfe542970f04e29c756b0e147251b2fb251f/wget-3.2.zip\nBuilding wheels for collected packages: wget\n  Running setup.py bdist_wheel for wget ... \u001b[?25ldone\n\u001b[?25h  Stored in directory: /home/dsxuser/.cache/pip/wheels/40/15/30/7d8f7cea2902b4db79e3fea550d7d7b85ecb27ef992b618f3f\nSuccessfully built wget\nInstalling collected packages: wget\nSuccessfully installed wget-3.2\n"
                }
            ], 
            "source": "!pip install wget"
        }, 
        {
            "source": "### Read the time series", 
            "cell_type": "markdown", 
            "metadata": {}
        }, 
        {
            "execution_count": 4, 
            "cell_type": "code", 
            "metadata": {}, 
            "outputs": [], 
            "source": "import wget\n\nlink_to_data = 'https://github.com/tuliplab/mds/raw/master/Jupyter/data/gertek_2016_d.csv'\nDataSet = wget.download(link_to_data)"
        }, 
        {
            "execution_count": 5, 
            "cell_type": "code", 
            "metadata": {}, 
            "outputs": [
                {
                    "execution_count": 5, 
                    "metadata": {}, 
                    "data": {
                        "text/html": "<div>\n<style scoped>\n    .dataframe tbody tr th:only-of-type {\n        vertical-align: middle;\n    }\n\n    .dataframe tbody tr th {\n        vertical-align: top;\n    }\n\n    .dataframe thead th {\n        text-align: right;\n    }\n</style>\n<table border=\"1\" class=\"dataframe\">\n  <thead>\n    <tr style=\"text-align: right;\">\n      <th></th>\n      <th>date</th>\n      <th>open</th>\n      <th>high</th>\n      <th>close</th>\n      <th>low</th>\n      <th>...</th>\n      <th>ma10</th>\n      <th>ma20</th>\n      <th>v_ma5</th>\n      <th>v_ma10</th>\n      <th>v_ma20</th>\n    </tr>\n  </thead>\n  <tbody>\n    <tr>\n      <th>0</th>\n      <td>2016-12-23</td>\n      <td>3333.40</td>\n      <td>3334.89</td>\n      <td>3307.60</td>\n      <td>3300.88</td>\n      <td>...</td>\n      <td>3349.948</td>\n      <td>3429.937</td>\n      <td>93437446.4</td>\n      <td>110550392.0</td>\n      <td>139164898.4</td>\n    </tr>\n    <tr>\n      <th>1</th>\n      <td>2016-12-22</td>\n      <td>3335.12</td>\n      <td>3340.36</td>\n      <td>3335.67</td>\n      <td>3322.72</td>\n      <td>...</td>\n      <td>3368.558</td>\n      <td>3440.622</td>\n      <td>92103587.2</td>\n      <td>115836250.4</td>\n      <td>141973738.0</td>\n    </tr>\n    <tr>\n      <th>2</th>\n      <td>2016-12-21</td>\n      <td>3313.75</td>\n      <td>3342.48</td>\n      <td>3338.54</td>\n      <td>3313.75</td>\n      <td>...</td>\n      <td>3382.005</td>\n      <td>3448.276</td>\n      <td>96640270.4</td>\n      <td>118346918.4</td>\n      <td>144647190.8</td>\n    </tr>\n    <tr>\n      <th>3</th>\n      <td>2016-12-20</td>\n      <td>3328.30</td>\n      <td>3329.10</td>\n      <td>3309.06</td>\n      <td>3289.27</td>\n      <td>...</td>\n      <td>3395.726</td>\n      <td>3455.085</td>\n      <td>99790819.2</td>\n      <td>118955928.8</td>\n      <td>147353865.6</td>\n    </tr>\n    <tr>\n      <th>4</th>\n      <td>2016-12-19</td>\n      <td>3342.34</td>\n      <td>3344.86</td>\n      <td>3328.98</td>\n      <td>3325.00</td>\n      <td>...</td>\n      <td>3410.735</td>\n      <td>3463.050</td>\n      <td>106497921.6</td>\n      <td>121751879.2</td>\n      <td>151401558.8</td>\n    </tr>\n  </tbody>\n</table>\n<p>5 rows \u00d7 14 columns</p>\n</div>", 
                        "text/plain": "         date     open     high    close      low     ...           ma10  \\\n0  2016-12-23  3333.40  3334.89  3307.60  3300.88     ...       3349.948   \n1  2016-12-22  3335.12  3340.36  3335.67  3322.72     ...       3368.558   \n2  2016-12-21  3313.75  3342.48  3338.54  3313.75     ...       3382.005   \n3  2016-12-20  3328.30  3329.10  3309.06  3289.27     ...       3395.726   \n4  2016-12-19  3342.34  3344.86  3328.98  3325.00     ...       3410.735   \n\n       ma20        v_ma5       v_ma10       v_ma20  \n0  3429.937   93437446.4  110550392.0  139164898.4  \n1  3440.622   92103587.2  115836250.4  141973738.0  \n2  3448.276   96640270.4  118346918.4  144647190.8  \n3  3455.085   99790819.2  118955928.8  147353865.6  \n4  3463.050  106497921.6  121751879.2  151401558.8  \n\n[5 rows x 14 columns]"
                    }, 
                    "output_type": "execute_result"
                }
            ], 
            "source": "goertek=pd.read_csv('gertek_2016_d.csv')\ngoertek.head()"
        }, 
        {
            "execution_count": 6, 
            "cell_type": "code", 
            "metadata": {}, 
            "outputs": [
                {
                    "execution_count": 6, 
                    "metadata": {}, 
                    "data": {
                        "text/plain": "pandas.core.series.Series"
                    }, 
                    "output_type": "execute_result"
                }
            ], 
            "source": "type(goertek['date'])"
        }, 
        {
            "execution_count": 7, 
            "cell_type": "code", 
            "metadata": {}, 
            "outputs": [
                {
                    "execution_count": 7, 
                    "metadata": {}, 
                    "data": {
                        "text/plain": "str"
                    }, 
                    "output_type": "execute_result"
                }
            ], 
            "source": "type(goertek['date'][0])"
        }, 
        {
            "execution_count": 8, 
            "cell_type": "code", 
            "metadata": {}, 
            "outputs": [
                {
                    "execution_count": 8, 
                    "metadata": {}, 
                    "data": {
                        "text/plain": "pandas._libs.tslib.Timestamp"
                    }, 
                    "output_type": "execute_result"
                }
            ], 
            "source": "goertek['date']=pd.to_datetime(goertek['date'])\ntype(goertek['date'][0])"
        }, 
        {
            "execution_count": 9, 
            "cell_type": "code", 
            "metadata": {}, 
            "outputs": [
                {
                    "execution_count": 9, 
                    "metadata": {}, 
                    "data": {
                        "text/html": "<div>\n<style scoped>\n    .dataframe tbody tr th:only-of-type {\n        vertical-align: middle;\n    }\n\n    .dataframe tbody tr th {\n        vertical-align: top;\n    }\n\n    .dataframe thead th {\n        text-align: right;\n    }\n</style>\n<table border=\"1\" class=\"dataframe\">\n  <thead>\n    <tr style=\"text-align: right;\">\n      <th></th>\n      <th>open</th>\n      <th>high</th>\n      <th>close</th>\n      <th>low</th>\n      <th>volume</th>\n      <th>...</th>\n      <th>ma10</th>\n      <th>ma20</th>\n      <th>v_ma5</th>\n      <th>v_ma10</th>\n      <th>v_ma20</th>\n    </tr>\n    <tr>\n      <th>date</th>\n      <th></th>\n      <th></th>\n      <th></th>\n      <th></th>\n      <th></th>\n      <th></th>\n      <th></th>\n      <th></th>\n      <th></th>\n      <th></th>\n      <th></th>\n    </tr>\n  </thead>\n  <tbody>\n    <tr>\n      <th>2016-12-23</th>\n      <td>3333.40</td>\n      <td>3334.89</td>\n      <td>3307.60</td>\n      <td>3300.88</td>\n      <td>97444712.0</td>\n      <td>...</td>\n      <td>3349.948</td>\n      <td>3429.937</td>\n      <td>93437446.4</td>\n      <td>110550392.0</td>\n      <td>139164898.4</td>\n    </tr>\n    <tr>\n      <th>2016-12-22</th>\n      <td>3335.12</td>\n      <td>3340.36</td>\n      <td>3335.67</td>\n      <td>3322.72</td>\n      <td>92277248.0</td>\n      <td>...</td>\n      <td>3368.558</td>\n      <td>3440.622</td>\n      <td>92103587.2</td>\n      <td>115836250.4</td>\n      <td>141973738.0</td>\n    </tr>\n    <tr>\n      <th>2016-12-21</th>\n      <td>3313.75</td>\n      <td>3342.48</td>\n      <td>3338.54</td>\n      <td>3313.75</td>\n      <td>108255000.0</td>\n      <td>...</td>\n      <td>3382.005</td>\n      <td>3448.276</td>\n      <td>96640270.4</td>\n      <td>118346918.4</td>\n      <td>144647190.8</td>\n    </tr>\n    <tr>\n      <th>2016-12-20</th>\n      <td>3328.30</td>\n      <td>3329.10</td>\n      <td>3309.06</td>\n      <td>3289.27</td>\n      <td>87569592.0</td>\n      <td>...</td>\n      <td>3395.726</td>\n      <td>3455.085</td>\n      <td>99790819.2</td>\n      <td>118955928.8</td>\n      <td>147353865.6</td>\n    </tr>\n    <tr>\n      <th>2016-12-19</th>\n      <td>3342.34</td>\n      <td>3344.86</td>\n      <td>3328.98</td>\n      <td>3325.00</td>\n      <td>81640680.0</td>\n      <td>...</td>\n      <td>3410.735</td>\n      <td>3463.050</td>\n      <td>106497921.6</td>\n      <td>121751879.2</td>\n      <td>151401558.8</td>\n    </tr>\n  </tbody>\n</table>\n<p>5 rows \u00d7 13 columns</p>\n</div>", 
                        "text/plain": "               open     high    close      low       volume     ...       \\\ndate                                                            ...        \n2016-12-23  3333.40  3334.89  3307.60  3300.88   97444712.0     ...        \n2016-12-22  3335.12  3340.36  3335.67  3322.72   92277248.0     ...        \n2016-12-21  3313.75  3342.48  3338.54  3313.75  108255000.0     ...        \n2016-12-20  3328.30  3329.10  3309.06  3289.27   87569592.0     ...        \n2016-12-19  3342.34  3344.86  3328.98  3325.00   81640680.0     ...        \n\n                ma10      ma20        v_ma5       v_ma10       v_ma20  \ndate                                                                   \n2016-12-23  3349.948  3429.937   93437446.4  110550392.0  139164898.4  \n2016-12-22  3368.558  3440.622   92103587.2  115836250.4  141973738.0  \n2016-12-21  3382.005  3448.276   96640270.4  118346918.4  144647190.8  \n2016-12-20  3395.726  3455.085   99790819.2  118955928.8  147353865.6  \n2016-12-19  3410.735  3463.050  106497921.6  121751879.2  151401558.8  \n\n[5 rows x 13 columns]"
                    }, 
                    "output_type": "execute_result"
                }
            ], 
            "source": "goertek=goertek.set_index('date')\ngoertek.head()"
        }, 
        {
            "execution_count": 10, 
            "cell_type": "code", 
            "metadata": {}, 
            "outputs": [
                {
                    "execution_count": 10, 
                    "metadata": {}, 
                    "data": {
                        "text/plain": "pandas.core.indexes.datetimes.DatetimeIndex"
                    }, 
                    "output_type": "execute_result"
                }
            ], 
            "source": "type(goertek.index)"
        }, 
        {
            "execution_count": 11, 
            "cell_type": "code", 
            "metadata": {}, 
            "outputs": [
                {
                    "execution_count": 11, 
                    "metadata": {}, 
                    "data": {
                        "text/html": "<div>\n<style scoped>\n    .dataframe tbody tr th:only-of-type {\n        vertical-align: middle;\n    }\n\n    .dataframe tbody tr th {\n        vertical-align: top;\n    }\n\n    .dataframe thead th {\n        text-align: right;\n    }\n</style>\n<table border=\"1\" class=\"dataframe\">\n  <thead>\n    <tr style=\"text-align: right;\">\n      <th></th>\n      <th>open</th>\n      <th>high</th>\n      <th>close</th>\n      <th>low</th>\n      <th>volume</th>\n      <th>...</th>\n      <th>ma10</th>\n      <th>ma20</th>\n      <th>v_ma5</th>\n      <th>v_ma10</th>\n      <th>v_ma20</th>\n    </tr>\n    <tr>\n      <th>date</th>\n      <th></th>\n      <th></th>\n      <th></th>\n      <th></th>\n      <th></th>\n      <th></th>\n      <th></th>\n      <th></th>\n      <th></th>\n      <th></th>\n      <th></th>\n    </tr>\n  </thead>\n  <tbody>\n    <tr>\n      <th>2016-12-23</th>\n      <td>3333.40</td>\n      <td>3334.89</td>\n      <td>3307.60</td>\n      <td>3300.88</td>\n      <td>97444712.0</td>\n      <td>...</td>\n      <td>3349.948</td>\n      <td>3429.937</td>\n      <td>93437446.4</td>\n      <td>110550392.0</td>\n      <td>139164898.4</td>\n    </tr>\n    <tr>\n      <th>2016-12-22</th>\n      <td>3335.12</td>\n      <td>3340.36</td>\n      <td>3335.67</td>\n      <td>3322.72</td>\n      <td>92277248.0</td>\n      <td>...</td>\n      <td>3368.558</td>\n      <td>3440.622</td>\n      <td>92103587.2</td>\n      <td>115836250.4</td>\n      <td>141973738.0</td>\n    </tr>\n    <tr>\n      <th>2016-12-21</th>\n      <td>3313.75</td>\n      <td>3342.48</td>\n      <td>3338.54</td>\n      <td>3313.75</td>\n      <td>108255000.0</td>\n      <td>...</td>\n      <td>3382.005</td>\n      <td>3448.276</td>\n      <td>96640270.4</td>\n      <td>118346918.4</td>\n      <td>144647190.8</td>\n    </tr>\n    <tr>\n      <th>2016-12-20</th>\n      <td>3328.30</td>\n      <td>3329.10</td>\n      <td>3309.06</td>\n      <td>3289.27</td>\n      <td>87569592.0</td>\n      <td>...</td>\n      <td>3395.726</td>\n      <td>3455.085</td>\n      <td>99790819.2</td>\n      <td>118955928.8</td>\n      <td>147353865.6</td>\n    </tr>\n    <tr>\n      <th>2016-12-19</th>\n      <td>3342.34</td>\n      <td>3344.86</td>\n      <td>3328.98</td>\n      <td>3325.00</td>\n      <td>81640680.0</td>\n      <td>...</td>\n      <td>3410.735</td>\n      <td>3463.050</td>\n      <td>106497921.6</td>\n      <td>121751879.2</td>\n      <td>151401558.8</td>\n    </tr>\n  </tbody>\n</table>\n<p>5 rows \u00d7 13 columns</p>\n</div>", 
                        "text/plain": "               open     high    close      low       volume     ...       \\\ndate                                                            ...        \n2016-12-23  3333.40  3334.89  3307.60  3300.88   97444712.0     ...        \n2016-12-22  3335.12  3340.36  3335.67  3322.72   92277248.0     ...        \n2016-12-21  3313.75  3342.48  3338.54  3313.75  108255000.0     ...        \n2016-12-20  3328.30  3329.10  3309.06  3289.27   87569592.0     ...        \n2016-12-19  3342.34  3344.86  3328.98  3325.00   81640680.0     ...        \n\n                ma10      ma20        v_ma5       v_ma10       v_ma20  \ndate                                                                   \n2016-12-23  3349.948  3429.937   93437446.4  110550392.0  139164898.4  \n2016-12-22  3368.558  3440.622   92103587.2  115836250.4  141973738.0  \n2016-12-21  3382.005  3448.276   96640270.4  118346918.4  144647190.8  \n2016-12-20  3395.726  3455.085   99790819.2  118955928.8  147353865.6  \n2016-12-19  3410.735  3463.050  106497921.6  121751879.2  151401558.8  \n\n[5 rows x 13 columns]"
                    }, 
                    "output_type": "execute_result"
                }
            ], 
            "source": "goertek=pd.read_csv('gertek_2016_d.csv',index_col='date',parse_dates=True)\ngoertek.head()"
        }, 
        {
            "execution_count": 12, 
            "cell_type": "code", 
            "metadata": {}, 
            "outputs": [
                {
                    "execution_count": 12, 
                    "metadata": {}, 
                    "data": {
                        "text/plain": "pandas.core.indexes.datetimes.DatetimeIndex"
                    }, 
                    "output_type": "execute_result"
                }
            ], 
            "source": "type(goertek.index)"
        }, 
        {
            "source": "### DateOffset and TimeDelta", 
            "cell_type": "markdown", 
            "metadata": {}
        }, 
        {
            "execution_count": 13, 
            "cell_type": "code", 
            "metadata": {}, 
            "outputs": [
                {
                    "execution_count": 13, 
                    "metadata": {}, 
                    "data": {
                        "text/plain": "datetime.datetime(2016, 12, 31, 0, 0)"
                    }, 
                    "output_type": "execute_result"
                }
            ], 
            "source": "lastday=pd.datetime(2016,12,31)\nlastday"
        }, 
        {
            "execution_count": 14, 
            "cell_type": "code", 
            "metadata": {}, 
            "outputs": [
                {
                    "execution_count": 14, 
                    "metadata": {}, 
                    "data": {
                        "text/plain": "Timestamp('2017-01-01 00:00:00')"
                    }, 
                    "output_type": "execute_result"
                }
            ], 
            "source": "newyear=lastday+pd.DateOffset(days=1)\nnewyear"
        }, 
        {
            "execution_count": 15, 
            "cell_type": "code", 
            "metadata": {}, 
            "outputs": [
                {
                    "execution_count": 15, 
                    "metadata": {}, 
                    "data": {
                        "text/plain": "datetime.datetime(2018, 5, 14, 11, 30, 39, 871953)"
                    }, 
                    "output_type": "execute_result"
                }
            ], 
            "source": "today=pd.datetime.now()\ntoday"
        }, 
        {
            "execution_count": 16, 
            "cell_type": "code", 
            "metadata": {}, 
            "outputs": [
                {
                    "execution_count": 16, 
                    "metadata": {}, 
                    "data": {
                        "text/plain": "Timestamp('2018-05-21 11:30:39.871953')"
                    }, 
                    "output_type": "execute_result"
                }
            ], 
            "source": "today+pd.DateOffset(weeks=1)"
        }, 
        {
            "execution_count": 17, 
            "cell_type": "code", 
            "metadata": {}, 
            "outputs": [
                {
                    "execution_count": 17, 
                    "metadata": {}, 
                    "data": {
                        "text/plain": "Timestamp('2023-05-14 11:30:39.871953')"
                    }, 
                    "output_type": "execute_result"
                }
            ], 
            "source": "today+2*pd.DateOffset(years=2, months=6)"
        }, 
        {
            "execution_count": 18, 
            "cell_type": "code", 
            "metadata": {}, 
            "outputs": [], 
            "source": "import datetime"
        }, 
        {
            "execution_count": 19, 
            "cell_type": "code", 
            "metadata": {}, 
            "outputs": [
                {
                    "execution_count": 19, 
                    "metadata": {}, 
                    "data": {
                        "text/plain": "datetime.timedelta(7)"
                    }, 
                    "output_type": "execute_result"
                }
            ], 
            "source": "weekDelta=datetime.timedelta(weeks=1)\nweekDelta"
        }, 
        {
            "execution_count": 20, 
            "cell_type": "code", 
            "metadata": {}, 
            "outputs": [
                {
                    "execution_count": 20, 
                    "metadata": {}, 
                    "data": {
                        "text/plain": "datetime.timedelta(7)"
                    }, 
                    "output_type": "execute_result"
                }
            ], 
            "source": "datetime.timedelta(7)"
        }, 
        {
            "execution_count": 21, 
            "cell_type": "code", 
            "metadata": {}, 
            "outputs": [], 
            "source": "today=pd.datetime.now()"
        }, 
        {
            "execution_count": 22, 
            "cell_type": "code", 
            "metadata": {}, 
            "outputs": [
                {
                    "execution_count": 22, 
                    "metadata": {}, 
                    "data": {
                        "text/plain": "datetime.datetime(2018, 5, 21, 11, 31, 20, 912701)"
                    }, 
                    "output_type": "execute_result"
                }
            ], 
            "source": "today+weekDelta"
        }, 
        {
            "source": "### Time Series Function", 
            "cell_type": "markdown", 
            "metadata": {}
        }, 
        {
            "execution_count": 23, 
            "cell_type": "code", 
            "metadata": {}, 
            "outputs": [
                {
                    "execution_count": 23, 
                    "metadata": {}, 
                    "data": {
                        "text/html": "<div>\n<style scoped>\n    .dataframe tbody tr th:only-of-type {\n        vertical-align: middle;\n    }\n\n    .dataframe tbody tr th {\n        vertical-align: top;\n    }\n\n    .dataframe thead th {\n        text-align: right;\n    }\n</style>\n<table border=\"1\" class=\"dataframe\">\n  <thead>\n    <tr style=\"text-align: right;\">\n      <th></th>\n      <th>open</th>\n      <th>high</th>\n      <th>close</th>\n      <th>low</th>\n      <th>volume</th>\n      <th>...</th>\n      <th>ma10</th>\n      <th>ma20</th>\n      <th>v_ma5</th>\n      <th>v_ma10</th>\n      <th>v_ma20</th>\n    </tr>\n    <tr>\n      <th>date</th>\n      <th></th>\n      <th></th>\n      <th></th>\n      <th></th>\n      <th></th>\n      <th></th>\n      <th></th>\n      <th></th>\n      <th></th>\n      <th></th>\n      <th></th>\n    </tr>\n  </thead>\n  <tbody>\n    <tr>\n      <th>2016-01-04</th>\n      <td>3725.856</td>\n      <td>3726.245</td>\n      <td>3469.066</td>\n      <td>3468.949</td>\n      <td>115370672.0</td>\n      <td>...</td>\n      <td>3773.143</td>\n      <td>3726.205</td>\n      <td>115749635.2</td>\n      <td>145030968.0</td>\n      <td>138741052.8</td>\n    </tr>\n    <tr>\n      <th>2016-01-05</th>\n      <td>3382.177</td>\n      <td>3518.217</td>\n      <td>3478.780</td>\n      <td>3377.280</td>\n      <td>162116992.0</td>\n      <td>...</td>\n      <td>3734.425</td>\n      <td>3715.763</td>\n      <td>117375344.0</td>\n      <td>139499139.2</td>\n      <td>141152744.8</td>\n    </tr>\n    <tr>\n      <th>2016-01-06</th>\n      <td>3482.406</td>\n      <td>3543.739</td>\n      <td>3539.808</td>\n      <td>3468.467</td>\n      <td>145966144.0</td>\n      <td>...</td>\n      <td>3700.733</td>\n      <td>3711.603</td>\n      <td>126191462.4</td>\n      <td>136065387.2</td>\n      <td>142161998.0</td>\n    </tr>\n    <tr>\n      <th>2016-01-07</th>\n      <td>3481.150</td>\n      <td>3481.150</td>\n      <td>3294.384</td>\n      <td>3284.737</td>\n      <td>44102640.0</td>\n      <td>...</td>\n      <td>3643.533</td>\n      <td>3694.525</td>\n      <td>113886000.0</td>\n      <td>119773936.0</td>\n      <td>138700858.8</td>\n    </tr>\n    <tr>\n      <th>2016-01-08</th>\n      <td>3371.871</td>\n      <td>3418.851</td>\n      <td>3361.563</td>\n      <td>3237.931</td>\n      <td>185959456.0</td>\n      <td>...</td>\n      <td>3596.749</td>\n      <td>3681.449</td>\n      <td>130703180.8</td>\n      <td>123651742.4</td>\n      <td>141988050.4</td>\n    </tr>\n  </tbody>\n</table>\n<p>5 rows \u00d7 13 columns</p>\n</div>", 
                        "text/plain": "                open      high     close       low       volume     ...       \\\ndate                                                                ...        \n2016-01-04  3725.856  3726.245  3469.066  3468.949  115370672.0     ...        \n2016-01-05  3382.177  3518.217  3478.780  3377.280  162116992.0     ...        \n2016-01-06  3482.406  3543.739  3539.808  3468.467  145966144.0     ...        \n2016-01-07  3481.150  3481.150  3294.384  3284.737   44102640.0     ...        \n2016-01-08  3371.871  3418.851  3361.563  3237.931  185959456.0     ...        \n\n                ma10      ma20        v_ma5       v_ma10       v_ma20  \ndate                                                                   \n2016-01-04  3773.143  3726.205  115749635.2  145030968.0  138741052.8  \n2016-01-05  3734.425  3715.763  117375344.0  139499139.2  141152744.8  \n2016-01-06  3700.733  3711.603  126191462.4  136065387.2  142161998.0  \n2016-01-07  3643.533  3694.525  113886000.0  119773936.0  138700858.8  \n2016-01-08  3596.749  3681.449  130703180.8  123651742.4  141988050.4  \n\n[5 rows x 13 columns]"
                    }, 
                    "output_type": "execute_result"
                }
            ], 
            "source": "goertek=goertek.sort_index(ascending=True)\ngoertek.head()"
        }, 
        {
            "execution_count": 24, 
            "cell_type": "code", 
            "metadata": {}, 
            "outputs": [
                {
                    "execution_count": 24, 
                    "metadata": {}, 
                    "data": {
                        "text/html": "<div>\n<style scoped>\n    .dataframe tbody tr th:only-of-type {\n        vertical-align: middle;\n    }\n\n    .dataframe tbody tr th {\n        vertical-align: top;\n    }\n\n    .dataframe thead th {\n        text-align: right;\n    }\n</style>\n<table border=\"1\" class=\"dataframe\">\n  <thead>\n    <tr style=\"text-align: right;\">\n      <th></th>\n      <th>open</th>\n      <th>high</th>\n      <th>close</th>\n      <th>low</th>\n      <th>volume</th>\n      <th>...</th>\n      <th>ma10</th>\n      <th>ma20</th>\n      <th>v_ma5</th>\n      <th>v_ma10</th>\n      <th>v_ma20</th>\n    </tr>\n    <tr>\n      <th>date</th>\n      <th></th>\n      <th></th>\n      <th></th>\n      <th></th>\n      <th></th>\n      <th></th>\n      <th></th>\n      <th></th>\n      <th></th>\n      <th></th>\n      <th></th>\n    </tr>\n  </thead>\n  <tbody>\n    <tr>\n      <th>2016-12-19</th>\n      <td>3342.34</td>\n      <td>3344.86</td>\n      <td>3328.98</td>\n      <td>3325.00</td>\n      <td>81640680.0</td>\n      <td>...</td>\n      <td>3410.735</td>\n      <td>3463.050</td>\n      <td>106497921.6</td>\n      <td>121751879.2</td>\n      <td>151401558.8</td>\n    </tr>\n    <tr>\n      <th>2016-12-20</th>\n      <td>3328.30</td>\n      <td>3329.10</td>\n      <td>3309.06</td>\n      <td>3289.27</td>\n      <td>87569592.0</td>\n      <td>...</td>\n      <td>3395.726</td>\n      <td>3455.085</td>\n      <td>99790819.2</td>\n      <td>118955928.8</td>\n      <td>147353865.6</td>\n    </tr>\n    <tr>\n      <th>2016-12-21</th>\n      <td>3313.75</td>\n      <td>3342.48</td>\n      <td>3338.54</td>\n      <td>3313.75</td>\n      <td>108255000.0</td>\n      <td>...</td>\n      <td>3382.005</td>\n      <td>3448.276</td>\n      <td>96640270.4</td>\n      <td>118346918.4</td>\n      <td>144647190.8</td>\n    </tr>\n    <tr>\n      <th>2016-12-22</th>\n      <td>3335.12</td>\n      <td>3340.36</td>\n      <td>3335.67</td>\n      <td>3322.72</td>\n      <td>92277248.0</td>\n      <td>...</td>\n      <td>3368.558</td>\n      <td>3440.622</td>\n      <td>92103587.2</td>\n      <td>115836250.4</td>\n      <td>141973738.0</td>\n    </tr>\n    <tr>\n      <th>2016-12-23</th>\n      <td>3333.40</td>\n      <td>3334.89</td>\n      <td>3307.60</td>\n      <td>3300.88</td>\n      <td>97444712.0</td>\n      <td>...</td>\n      <td>3349.948</td>\n      <td>3429.937</td>\n      <td>93437446.4</td>\n      <td>110550392.0</td>\n      <td>139164898.4</td>\n    </tr>\n  </tbody>\n</table>\n<p>5 rows \u00d7 13 columns</p>\n</div>", 
                        "text/plain": "               open     high    close      low       volume     ...       \\\ndate                                                            ...        \n2016-12-19  3342.34  3344.86  3328.98  3325.00   81640680.0     ...        \n2016-12-20  3328.30  3329.10  3309.06  3289.27   87569592.0     ...        \n2016-12-21  3313.75  3342.48  3338.54  3313.75  108255000.0     ...        \n2016-12-22  3335.12  3340.36  3335.67  3322.72   92277248.0     ...        \n2016-12-23  3333.40  3334.89  3307.60  3300.88   97444712.0     ...        \n\n                ma10      ma20        v_ma5       v_ma10       v_ma20  \ndate                                                                   \n2016-12-19  3410.735  3463.050  106497921.6  121751879.2  151401558.8  \n2016-12-20  3395.726  3455.085   99790819.2  118955928.8  147353865.6  \n2016-12-21  3382.005  3448.276   96640270.4  118346918.4  144647190.8  \n2016-12-22  3368.558  3440.622   92103587.2  115836250.4  141973738.0  \n2016-12-23  3349.948  3429.937   93437446.4  110550392.0  139164898.4  \n\n[5 rows x 13 columns]"
                    }, 
                    "output_type": "execute_result"
                }
            ], 
            "source": "goertek.tail()"
        }, 
        {
            "execution_count": 25, 
            "cell_type": "code", 
            "metadata": {
                "scrolled": true
            }, 
            "outputs": [
                {
                    "execution_count": 25, 
                    "metadata": {}, 
                    "data": {
                        "text/html": "<div>\n<style scoped>\n    .dataframe tbody tr th:only-of-type {\n        vertical-align: middle;\n    }\n\n    .dataframe tbody tr th {\n        vertical-align: top;\n    }\n\n    .dataframe thead th {\n        text-align: right;\n    }\n</style>\n<table border=\"1\" class=\"dataframe\">\n  <thead>\n    <tr style=\"text-align: right;\">\n      <th></th>\n      <th>open</th>\n      <th>high</th>\n      <th>close</th>\n      <th>low</th>\n      <th>volume</th>\n      <th>...</th>\n      <th>ma10</th>\n      <th>ma20</th>\n      <th>v_ma5</th>\n      <th>v_ma10</th>\n      <th>v_ma20</th>\n    </tr>\n    <tr>\n      <th>date</th>\n      <th></th>\n      <th></th>\n      <th></th>\n      <th></th>\n      <th></th>\n      <th></th>\n      <th></th>\n      <th></th>\n      <th></th>\n      <th></th>\n      <th></th>\n    </tr>\n  </thead>\n  <tbody>\n    <tr>\n      <th>2016-01-04</th>\n      <td>NaN</td>\n      <td>NaN</td>\n      <td>NaN</td>\n      <td>NaN</td>\n      <td>NaN</td>\n      <td>...</td>\n      <td>NaN</td>\n      <td>NaN</td>\n      <td>NaN</td>\n      <td>NaN</td>\n      <td>NaN</td>\n    </tr>\n    <tr>\n      <th>2016-01-05</th>\n      <td>3725.856</td>\n      <td>3726.245</td>\n      <td>3469.066</td>\n      <td>3468.949</td>\n      <td>115370672.0</td>\n      <td>...</td>\n      <td>3773.143</td>\n      <td>3726.205</td>\n      <td>115749635.2</td>\n      <td>145030968.0</td>\n      <td>138741052.8</td>\n    </tr>\n    <tr>\n      <th>2016-01-06</th>\n      <td>3382.177</td>\n      <td>3518.217</td>\n      <td>3478.780</td>\n      <td>3377.280</td>\n      <td>162116992.0</td>\n      <td>...</td>\n      <td>3734.425</td>\n      <td>3715.763</td>\n      <td>117375344.0</td>\n      <td>139499139.2</td>\n      <td>141152744.8</td>\n    </tr>\n  </tbody>\n</table>\n<p>3 rows \u00d7 13 columns</p>\n</div>", 
                        "text/plain": "                open      high     close       low       volume     ...       \\\ndate                                                                ...        \n2016-01-04       NaN       NaN       NaN       NaN          NaN     ...        \n2016-01-05  3725.856  3726.245  3469.066  3468.949  115370672.0     ...        \n2016-01-06  3382.177  3518.217  3478.780  3377.280  162116992.0     ...        \n\n                ma10      ma20        v_ma5       v_ma10       v_ma20  \ndate                                                                   \n2016-01-04       NaN       NaN          NaN          NaN          NaN  \n2016-01-05  3773.143  3726.205  115749635.2  145030968.0  138741052.8  \n2016-01-06  3734.425  3715.763  117375344.0  139499139.2  141152744.8  \n\n[3 rows x 13 columns]"
                    }, 
                    "output_type": "execute_result"
                }
            ], 
            "source": "goertek.shift(1).head(3)"
        }, 
        {
            "execution_count": 26, 
            "cell_type": "code", 
            "metadata": {}, 
            "outputs": [
                {
                    "output_type": "stream", 
                    "name": "stderr", 
                    "text": "/opt/conda/envs/DSX-Python35/lib/python3.5/site-packages/ipykernel/__main__.py:1: FutureWarning: pandas.core.datetools.bday is deprecated and will be removed in a future version.\n  if __name__ == '__main__':\n"
                }, 
                {
                    "execution_count": 26, 
                    "metadata": {}, 
                    "data": {
                        "text/html": "<div>\n<style scoped>\n    .dataframe tbody tr th:only-of-type {\n        vertical-align: middle;\n    }\n\n    .dataframe tbody tr th {\n        vertical-align: top;\n    }\n\n    .dataframe thead th {\n        text-align: right;\n    }\n</style>\n<table border=\"1\" class=\"dataframe\">\n  <thead>\n    <tr style=\"text-align: right;\">\n      <th></th>\n      <th>open</th>\n      <th>high</th>\n      <th>close</th>\n      <th>low</th>\n      <th>volume</th>\n      <th>...</th>\n      <th>ma10</th>\n      <th>ma20</th>\n      <th>v_ma5</th>\n      <th>v_ma10</th>\n      <th>v_ma20</th>\n    </tr>\n    <tr>\n      <th>date</th>\n      <th></th>\n      <th></th>\n      <th></th>\n      <th></th>\n      <th></th>\n      <th></th>\n      <th></th>\n      <th></th>\n      <th></th>\n      <th></th>\n      <th></th>\n    </tr>\n  </thead>\n  <tbody>\n    <tr>\n      <th>2016-01-05</th>\n      <td>3725.856</td>\n      <td>3726.245</td>\n      <td>3469.066</td>\n      <td>3468.949</td>\n      <td>115370672.0</td>\n      <td>...</td>\n      <td>3773.143</td>\n      <td>3726.205</td>\n      <td>115749635.2</td>\n      <td>145030968.0</td>\n      <td>138741052.8</td>\n    </tr>\n    <tr>\n      <th>2016-01-06</th>\n      <td>3382.177</td>\n      <td>3518.217</td>\n      <td>3478.780</td>\n      <td>3377.280</td>\n      <td>162116992.0</td>\n      <td>...</td>\n      <td>3734.425</td>\n      <td>3715.763</td>\n      <td>117375344.0</td>\n      <td>139499139.2</td>\n      <td>141152744.8</td>\n    </tr>\n    <tr>\n      <th>2016-01-07</th>\n      <td>3482.406</td>\n      <td>3543.739</td>\n      <td>3539.808</td>\n      <td>3468.467</td>\n      <td>145966144.0</td>\n      <td>...</td>\n      <td>3700.733</td>\n      <td>3711.603</td>\n      <td>126191462.4</td>\n      <td>136065387.2</td>\n      <td>142161998.0</td>\n    </tr>\n  </tbody>\n</table>\n<p>3 rows \u00d7 13 columns</p>\n</div>", 
                        "text/plain": "                open      high     close       low       volume     ...       \\\ndate                                                                ...        \n2016-01-05  3725.856  3726.245  3469.066  3468.949  115370672.0     ...        \n2016-01-06  3382.177  3518.217  3478.780  3377.280  162116992.0     ...        \n2016-01-07  3482.406  3543.739  3539.808  3468.467  145966144.0     ...        \n\n                ma10      ma20        v_ma5       v_ma10       v_ma20  \ndate                                                                   \n2016-01-05  3773.143  3726.205  115749635.2  145030968.0  138741052.8  \n2016-01-06  3734.425  3715.763  117375344.0  139499139.2  141152744.8  \n2016-01-07  3700.733  3711.603  126191462.4  136065387.2  142161998.0  \n\n[3 rows x 13 columns]"
                    }, 
                    "output_type": "execute_result"
                }
            ], 
            "source": "goertek.shift(1,freq=pd.datetools.bday).head(3)"
        }, 
        {
            "execution_count": 27, 
            "cell_type": "code", 
            "metadata": {}, 
            "outputs": [
                {
                    "execution_count": 27, 
                    "metadata": {}, 
                    "data": {
                        "text/html": "<div>\n<style scoped>\n    .dataframe tbody tr th:only-of-type {\n        vertical-align: middle;\n    }\n\n    .dataframe tbody tr th {\n        vertical-align: top;\n    }\n\n    .dataframe thead th {\n        text-align: right;\n    }\n</style>\n<table border=\"1\" class=\"dataframe\">\n  <thead>\n    <tr style=\"text-align: right;\">\n      <th></th>\n      <th>open</th>\n      <th>high</th>\n      <th>close</th>\n      <th>low</th>\n      <th>volume</th>\n      <th>...</th>\n      <th>ma10</th>\n      <th>ma20</th>\n      <th>v_ma5</th>\n      <th>v_ma10</th>\n      <th>v_ma20</th>\n    </tr>\n    <tr>\n      <th>date</th>\n      <th></th>\n      <th></th>\n      <th></th>\n      <th></th>\n      <th></th>\n      <th></th>\n      <th></th>\n      <th></th>\n      <th></th>\n      <th></th>\n      <th></th>\n    </tr>\n  </thead>\n  <tbody>\n    <tr>\n      <th>2016-01-29</th>\n      <td>2855.598</td>\n      <td>2965.309</td>\n      <td>2946.090</td>\n      <td>2854.371</td>\n      <td>113304256.0</td>\n      <td>...</td>\n      <td>3052.263</td>\n      <td>3178.529</td>\n      <td>110646072.0</td>\n      <td>111380396.8</td>\n      <td>122499499.2</td>\n    </tr>\n    <tr>\n      <th>2016-02-29</th>\n      <td>2939.580</td>\n      <td>2939.875</td>\n      <td>2877.467</td>\n      <td>2821.215</td>\n      <td>129341024.0</td>\n      <td>...</td>\n      <td>3026.766</td>\n      <td>2982.232</td>\n      <td>123694110.4</td>\n      <td>121202825.6</td>\n      <td>108902741.2</td>\n    </tr>\n    <tr>\n      <th>2016-03-31</th>\n      <td>3229.200</td>\n      <td>3241.927</td>\n      <td>3218.088</td>\n      <td>3208.665</td>\n      <td>121552072.0</td>\n      <td>...</td>\n      <td>3200.245</td>\n      <td>3138.345</td>\n      <td>107497318.4</td>\n      <td>138788992.8</td>\n      <td>129922554.0</td>\n    </tr>\n    <tr>\n      <th>2016-04-29</th>\n      <td>3153.537</td>\n      <td>3171.289</td>\n      <td>3156.745</td>\n      <td>3149.397</td>\n      <td>58029776.0</td>\n      <td>...</td>\n      <td>3180.772</td>\n      <td>3210.231</td>\n      <td>62888933.6</td>\n      <td>83644518.0</td>\n      <td>103044368.2</td>\n    </tr>\n    <tr>\n      <th>2016-05-31</th>\n      <td>3068.596</td>\n      <td>3170.926</td>\n      <td>3169.559</td>\n      <td>3068.596</td>\n      <td>138863104.0</td>\n      <td>...</td>\n      <td>3078.173</td>\n      <td>3094.970</td>\n      <td>75895244.0</td>\n      <td>69714819.6</td>\n      <td>74371733.0</td>\n    </tr>\n    <tr>\n      <th>...</th>\n      <td>...</td>\n      <td>...</td>\n      <td>...</td>\n      <td>...</td>\n      <td>...</td>\n      <td>...</td>\n      <td>...</td>\n      <td>...</td>\n      <td>...</td>\n      <td>...</td>\n      <td>...</td>\n    </tr>\n    <tr>\n      <th>2016-07-29</th>\n      <td>3217.192</td>\n      <td>3225.418</td>\n      <td>3203.930</td>\n      <td>3198.683</td>\n      <td>88044840.0</td>\n      <td>...</td>\n      <td>3236.933</td>\n      <td>3235.643</td>\n      <td>102453550.4</td>\n      <td>95620234.4</td>\n      <td>112470896.4</td>\n    </tr>\n    <tr>\n      <th>2016-08-31</th>\n      <td>3310.565</td>\n      <td>3333.972</td>\n      <td>3327.793</td>\n      <td>3304.655</td>\n      <td>79570808.0</td>\n      <td>...</td>\n      <td>3330.161</td>\n      <td>3305.741</td>\n      <td>82890593.6</td>\n      <td>95886160.0</td>\n      <td>107540506.4</td>\n    </tr>\n    <tr>\n      <th>2016-09-30</th>\n      <td>3240.177</td>\n      <td>3260.940</td>\n      <td>3253.284</td>\n      <td>3239.036</td>\n      <td>44978024.0</td>\n      <td>...</td>\n      <td>3254.355</td>\n      <td>3279.082</td>\n      <td>54814162.4</td>\n      <td>57857660.8</td>\n      <td>72046803.6</td>\n    </tr>\n    <tr>\n      <th>2016-10-31</th>\n      <td>NaN</td>\n      <td>NaN</td>\n      <td>NaN</td>\n      <td>NaN</td>\n      <td>NaN</td>\n      <td>...</td>\n      <td>NaN</td>\n      <td>NaN</td>\n      <td>NaN</td>\n      <td>NaN</td>\n      <td>NaN</td>\n    </tr>\n    <tr>\n      <th>2016-11-30</th>\n      <td>3557.640</td>\n      <td>3567.070</td>\n      <td>3538.000</td>\n      <td>3527.020</td>\n      <td>178560192.0</td>\n      <td>...</td>\n      <td>3488.535</td>\n      <td>3439.146</td>\n      <td>184444368.0</td>\n      <td>163708126.4</td>\n      <td>151030986.4</td>\n    </tr>\n  </tbody>\n</table>\n<p>11 rows \u00d7 13 columns</p>\n</div>", 
                        "text/plain": "                open      high     close       low       volume     ...       \\\ndate                                                                ...        \n2016-01-29  2855.598  2965.309  2946.090  2854.371  113304256.0     ...        \n2016-02-29  2939.580  2939.875  2877.467  2821.215  129341024.0     ...        \n2016-03-31  3229.200  3241.927  3218.088  3208.665  121552072.0     ...        \n2016-04-29  3153.537  3171.289  3156.745  3149.397   58029776.0     ...        \n2016-05-31  3068.596  3170.926  3169.559  3068.596  138863104.0     ...        \n...              ...       ...       ...       ...          ...     ...        \n2016-07-29  3217.192  3225.418  3203.930  3198.683   88044840.0     ...        \n2016-08-31  3310.565  3333.972  3327.793  3304.655   79570808.0     ...        \n2016-09-30  3240.177  3260.940  3253.284  3239.036   44978024.0     ...        \n2016-10-31       NaN       NaN       NaN       NaN          NaN     ...        \n2016-11-30  3557.640  3567.070  3538.000  3527.020  178560192.0     ...        \n\n                ma10      ma20        v_ma5       v_ma10       v_ma20  \ndate                                                                   \n2016-01-29  3052.263  3178.529  110646072.0  111380396.8  122499499.2  \n2016-02-29  3026.766  2982.232  123694110.4  121202825.6  108902741.2  \n2016-03-31  3200.245  3138.345  107497318.4  138788992.8  129922554.0  \n2016-04-29  3180.772  3210.231   62888933.6   83644518.0  103044368.2  \n2016-05-31  3078.173  3094.970   75895244.0   69714819.6   74371733.0  \n...              ...       ...          ...          ...          ...  \n2016-07-29  3236.933  3235.643  102453550.4   95620234.4  112470896.4  \n2016-08-31  3330.161  3305.741   82890593.6   95886160.0  107540506.4  \n2016-09-30  3254.355  3279.082   54814162.4   57857660.8   72046803.6  \n2016-10-31       NaN       NaN          NaN          NaN          NaN  \n2016-11-30  3488.535  3439.146  184444368.0  163708126.4  151030986.4  \n\n[11 rows x 13 columns]"
                    }, 
                    "output_type": "execute_result"
                }
            ], 
            "source": "goertek.asfreq('BM')"
        }, 
        {
            "execution_count": 28, 
            "cell_type": "code", 
            "metadata": {}, 
            "outputs": [
                {
                    "execution_count": 28, 
                    "metadata": {}, 
                    "data": {
                        "text/html": "<div>\n<style scoped>\n    .dataframe tbody tr th:only-of-type {\n        vertical-align: middle;\n    }\n\n    .dataframe tbody tr th {\n        vertical-align: top;\n    }\n\n    .dataframe thead th {\n        text-align: right;\n    }\n</style>\n<table border=\"1\" class=\"dataframe\">\n  <thead>\n    <tr style=\"text-align: right;\">\n      <th></th>\n      <th>open</th>\n      <th>high</th>\n      <th>close</th>\n      <th>low</th>\n      <th>volume</th>\n      <th>...</th>\n      <th>ma10</th>\n      <th>ma20</th>\n      <th>v_ma5</th>\n      <th>v_ma10</th>\n      <th>v_ma20</th>\n    </tr>\n    <tr>\n      <th>date</th>\n      <th></th>\n      <th></th>\n      <th></th>\n      <th></th>\n      <th></th>\n      <th></th>\n      <th></th>\n      <th></th>\n      <th></th>\n      <th></th>\n      <th></th>\n    </tr>\n  </thead>\n  <tbody>\n    <tr>\n      <th>2016-01-04 00:00:00</th>\n      <td>3725.856</td>\n      <td>3726.245</td>\n      <td>3469.066</td>\n      <td>3468.949</td>\n      <td>115370672.0</td>\n      <td>...</td>\n      <td>3773.143</td>\n      <td>3726.205</td>\n      <td>115749635.2</td>\n      <td>145030968.0</td>\n      <td>138741052.8</td>\n    </tr>\n    <tr>\n      <th>2016-01-04 01:00:00</th>\n      <td>3725.856</td>\n      <td>3726.245</td>\n      <td>3469.066</td>\n      <td>3468.949</td>\n      <td>115370672.0</td>\n      <td>...</td>\n      <td>3773.143</td>\n      <td>3726.205</td>\n      <td>115749635.2</td>\n      <td>145030968.0</td>\n      <td>138741052.8</td>\n    </tr>\n    <tr>\n      <th>2016-01-04 02:00:00</th>\n      <td>3725.856</td>\n      <td>3726.245</td>\n      <td>3469.066</td>\n      <td>3468.949</td>\n      <td>115370672.0</td>\n      <td>...</td>\n      <td>3773.143</td>\n      <td>3726.205</td>\n      <td>115749635.2</td>\n      <td>145030968.0</td>\n      <td>138741052.8</td>\n    </tr>\n    <tr>\n      <th>2016-01-04 03:00:00</th>\n      <td>3725.856</td>\n      <td>3726.245</td>\n      <td>3469.066</td>\n      <td>3468.949</td>\n      <td>115370672.0</td>\n      <td>...</td>\n      <td>3773.143</td>\n      <td>3726.205</td>\n      <td>115749635.2</td>\n      <td>145030968.0</td>\n      <td>138741052.8</td>\n    </tr>\n    <tr>\n      <th>2016-01-04 04:00:00</th>\n      <td>3725.856</td>\n      <td>3726.245</td>\n      <td>3469.066</td>\n      <td>3468.949</td>\n      <td>115370672.0</td>\n      <td>...</td>\n      <td>3773.143</td>\n      <td>3726.205</td>\n      <td>115749635.2</td>\n      <td>145030968.0</td>\n      <td>138741052.8</td>\n    </tr>\n    <tr>\n      <th>...</th>\n      <td>...</td>\n      <td>...</td>\n      <td>...</td>\n      <td>...</td>\n      <td>...</td>\n      <td>...</td>\n      <td>...</td>\n      <td>...</td>\n      <td>...</td>\n      <td>...</td>\n      <td>...</td>\n    </tr>\n    <tr>\n      <th>2016-12-22 20:00:00</th>\n      <td>3335.120</td>\n      <td>3340.360</td>\n      <td>3335.670</td>\n      <td>3322.720</td>\n      <td>92277248.0</td>\n      <td>...</td>\n      <td>3368.558</td>\n      <td>3440.622</td>\n      <td>92103587.2</td>\n      <td>115836250.4</td>\n      <td>141973738.0</td>\n    </tr>\n    <tr>\n      <th>2016-12-22 21:00:00</th>\n      <td>3335.120</td>\n      <td>3340.360</td>\n      <td>3335.670</td>\n      <td>3322.720</td>\n      <td>92277248.0</td>\n      <td>...</td>\n      <td>3368.558</td>\n      <td>3440.622</td>\n      <td>92103587.2</td>\n      <td>115836250.4</td>\n      <td>141973738.0</td>\n    </tr>\n    <tr>\n      <th>2016-12-22 22:00:00</th>\n      <td>3335.120</td>\n      <td>3340.360</td>\n      <td>3335.670</td>\n      <td>3322.720</td>\n      <td>92277248.0</td>\n      <td>...</td>\n      <td>3368.558</td>\n      <td>3440.622</td>\n      <td>92103587.2</td>\n      <td>115836250.4</td>\n      <td>141973738.0</td>\n    </tr>\n    <tr>\n      <th>2016-12-22 23:00:00</th>\n      <td>3335.120</td>\n      <td>3340.360</td>\n      <td>3335.670</td>\n      <td>3322.720</td>\n      <td>92277248.0</td>\n      <td>...</td>\n      <td>3368.558</td>\n      <td>3440.622</td>\n      <td>92103587.2</td>\n      <td>115836250.4</td>\n      <td>141973738.0</td>\n    </tr>\n    <tr>\n      <th>2016-12-23 00:00:00</th>\n      <td>3333.400</td>\n      <td>3334.890</td>\n      <td>3307.600</td>\n      <td>3300.880</td>\n      <td>97444712.0</td>\n      <td>...</td>\n      <td>3349.948</td>\n      <td>3429.937</td>\n      <td>93437446.4</td>\n      <td>110550392.0</td>\n      <td>139164898.4</td>\n    </tr>\n  </tbody>\n</table>\n<p>8497 rows \u00d7 13 columns</p>\n</div>", 
                        "text/plain": "                         open      high     close       low       volume  \\\ndate                                                                       \n2016-01-04 00:00:00  3725.856  3726.245  3469.066  3468.949  115370672.0   \n2016-01-04 01:00:00  3725.856  3726.245  3469.066  3468.949  115370672.0   \n2016-01-04 02:00:00  3725.856  3726.245  3469.066  3468.949  115370672.0   \n2016-01-04 03:00:00  3725.856  3726.245  3469.066  3468.949  115370672.0   \n2016-01-04 04:00:00  3725.856  3726.245  3469.066  3468.949  115370672.0   \n...                       ...       ...       ...       ...          ...   \n2016-12-22 20:00:00  3335.120  3340.360  3335.670  3322.720   92277248.0   \n2016-12-22 21:00:00  3335.120  3340.360  3335.670  3322.720   92277248.0   \n2016-12-22 22:00:00  3335.120  3340.360  3335.670  3322.720   92277248.0   \n2016-12-22 23:00:00  3335.120  3340.360  3335.670  3322.720   92277248.0   \n2016-12-23 00:00:00  3333.400  3334.890  3307.600  3300.880   97444712.0   \n\n                        ...           ma10      ma20        v_ma5  \\\ndate                    ...                                         \n2016-01-04 00:00:00     ...       3773.143  3726.205  115749635.2   \n2016-01-04 01:00:00     ...       3773.143  3726.205  115749635.2   \n2016-01-04 02:00:00     ...       3773.143  3726.205  115749635.2   \n2016-01-04 03:00:00     ...       3773.143  3726.205  115749635.2   \n2016-01-04 04:00:00     ...       3773.143  3726.205  115749635.2   \n...                     ...            ...       ...          ...   \n2016-12-22 20:00:00     ...       3368.558  3440.622   92103587.2   \n2016-12-22 21:00:00     ...       3368.558  3440.622   92103587.2   \n2016-12-22 22:00:00     ...       3368.558  3440.622   92103587.2   \n2016-12-22 23:00:00     ...       3368.558  3440.622   92103587.2   \n2016-12-23 00:00:00     ...       3349.948  3429.937   93437446.4   \n\n                          v_ma10       v_ma20  \ndate                                           \n2016-01-04 00:00:00  145030968.0  138741052.8  \n2016-01-04 01:00:00  145030968.0  138741052.8  \n2016-01-04 02:00:00  145030968.0  138741052.8  \n2016-01-04 03:00:00  145030968.0  138741052.8  \n2016-01-04 04:00:00  145030968.0  138741052.8  \n...                          ...          ...  \n2016-12-22 20:00:00  115836250.4  141973738.0  \n2016-12-22 21:00:00  115836250.4  141973738.0  \n2016-12-22 22:00:00  115836250.4  141973738.0  \n2016-12-22 23:00:00  115836250.4  141973738.0  \n2016-12-23 00:00:00  110550392.0  139164898.4  \n\n[8497 rows x 13 columns]"
                    }, 
                    "output_type": "execute_result"
                }
            ], 
            "source": "goertek.asfreq('H',method='ffill')"
        }, 
        {
            "execution_count": 29, 
            "cell_type": "code", 
            "metadata": {}, 
            "outputs": [], 
            "source": "goertek_m=pd.read_csv('gertek_2016_d.csv',parse_dates=True,index_col='date')"
        }, 
        {
            "execution_count": 30, 
            "cell_type": "code", 
            "metadata": {}, 
            "outputs": [
                {
                    "execution_count": 30, 
                    "metadata": {}, 
                    "data": {
                        "text/html": "<div>\n<style scoped>\n    .dataframe tbody tr th:only-of-type {\n        vertical-align: middle;\n    }\n\n    .dataframe tbody tr th {\n        vertical-align: top;\n    }\n\n    .dataframe thead th {\n        text-align: right;\n    }\n</style>\n<table border=\"1\" class=\"dataframe\">\n  <thead>\n    <tr style=\"text-align: right;\">\n      <th></th>\n      <th>open</th>\n      <th>high</th>\n      <th>close</th>\n      <th>low</th>\n      <th>volume</th>\n      <th>...</th>\n      <th>ma10</th>\n      <th>ma20</th>\n      <th>v_ma5</th>\n      <th>v_ma10</th>\n      <th>v_ma20</th>\n    </tr>\n    <tr>\n      <th>date</th>\n      <th></th>\n      <th></th>\n      <th></th>\n      <th></th>\n      <th></th>\n      <th></th>\n      <th></th>\n      <th></th>\n      <th></th>\n      <th></th>\n      <th></th>\n    </tr>\n  </thead>\n  <tbody>\n    <tr>\n      <th>2016-12-23</th>\n      <td>3333.40</td>\n      <td>3334.89</td>\n      <td>3307.60</td>\n      <td>3300.88</td>\n      <td>97444712.0</td>\n      <td>...</td>\n      <td>3349.948</td>\n      <td>3429.937</td>\n      <td>93437446.4</td>\n      <td>110550392.0</td>\n      <td>139164898.4</td>\n    </tr>\n    <tr>\n      <th>2016-12-22</th>\n      <td>3335.12</td>\n      <td>3340.36</td>\n      <td>3335.67</td>\n      <td>3322.72</td>\n      <td>92277248.0</td>\n      <td>...</td>\n      <td>3368.558</td>\n      <td>3440.622</td>\n      <td>92103587.2</td>\n      <td>115836250.4</td>\n      <td>141973738.0</td>\n    </tr>\n    <tr>\n      <th>2016-12-21</th>\n      <td>3313.75</td>\n      <td>3342.48</td>\n      <td>3338.54</td>\n      <td>3313.75</td>\n      <td>108255000.0</td>\n      <td>...</td>\n      <td>3382.005</td>\n      <td>3448.276</td>\n      <td>96640270.4</td>\n      <td>118346918.4</td>\n      <td>144647190.8</td>\n    </tr>\n    <tr>\n      <th>2016-12-20</th>\n      <td>3328.30</td>\n      <td>3329.10</td>\n      <td>3309.06</td>\n      <td>3289.27</td>\n      <td>87569592.0</td>\n      <td>...</td>\n      <td>3395.726</td>\n      <td>3455.085</td>\n      <td>99790819.2</td>\n      <td>118955928.8</td>\n      <td>147353865.6</td>\n    </tr>\n    <tr>\n      <th>2016-12-19</th>\n      <td>3342.34</td>\n      <td>3344.86</td>\n      <td>3328.98</td>\n      <td>3325.00</td>\n      <td>81640680.0</td>\n      <td>...</td>\n      <td>3410.735</td>\n      <td>3463.050</td>\n      <td>106497921.6</td>\n      <td>121751879.2</td>\n      <td>151401558.8</td>\n    </tr>\n  </tbody>\n</table>\n<p>5 rows \u00d7 13 columns</p>\n</div>", 
                        "text/plain": "               open     high    close      low       volume     ...       \\\ndate                                                            ...        \n2016-12-23  3333.40  3334.89  3307.60  3300.88   97444712.0     ...        \n2016-12-22  3335.12  3340.36  3335.67  3322.72   92277248.0     ...        \n2016-12-21  3313.75  3342.48  3338.54  3313.75  108255000.0     ...        \n2016-12-20  3328.30  3329.10  3309.06  3289.27   87569592.0     ...        \n2016-12-19  3342.34  3344.86  3328.98  3325.00   81640680.0     ...        \n\n                ma10      ma20        v_ma5       v_ma10       v_ma20  \ndate                                                                   \n2016-12-23  3349.948  3429.937   93437446.4  110550392.0  139164898.4  \n2016-12-22  3368.558  3440.622   92103587.2  115836250.4  141973738.0  \n2016-12-21  3382.005  3448.276   96640270.4  118346918.4  144647190.8  \n2016-12-20  3395.726  3455.085   99790819.2  118955928.8  147353865.6  \n2016-12-19  3410.735  3463.050  106497921.6  121751879.2  151401558.8  \n\n[5 rows x 13 columns]"
                    }, 
                    "output_type": "execute_result"
                }
            ], 
            "source": "goertek_m.head()"
        }, 
        {
            "execution_count": 31, 
            "cell_type": "code", 
            "metadata": {}, 
            "outputs": [], 
            "source": "goertek_resample=goertek_m.resample('30Min') #pandas 0.18 http://pandas.pydata.org/pandas-docs/version/0.18.0/whatsnew.html#resample-api"
        }, 
        {
            "execution_count": 32, 
            "cell_type": "code", 
            "metadata": {}, 
            "outputs": [
                {
                    "execution_count": 32, 
                    "metadata": {}, 
                    "data": {
                        "text/plain": "pandas.core.resample.DatetimeIndexResampler"
                    }, 
                    "output_type": "execute_result"
                }
            ], 
            "source": "type(goertek_resample)"
        }, 
        {
            "execution_count": 33, 
            "cell_type": "code", 
            "metadata": {}, 
            "outputs": [
                {
                    "execution_count": 33, 
                    "metadata": {}, 
                    "data": {
                        "text/html": "<div>\n<style scoped>\n    .dataframe tbody tr th:only-of-type {\n        vertical-align: middle;\n    }\n\n    .dataframe tbody tr th {\n        vertical-align: top;\n    }\n\n    .dataframe thead th {\n        text-align: right;\n    }\n</style>\n<table border=\"1\" class=\"dataframe\">\n  <thead>\n    <tr style=\"text-align: right;\">\n      <th></th>\n      <th>open</th>\n      <th>high</th>\n      <th>close</th>\n      <th>low</th>\n      <th>volume</th>\n      <th>...</th>\n      <th>ma10</th>\n      <th>ma20</th>\n      <th>v_ma5</th>\n      <th>v_ma10</th>\n      <th>v_ma20</th>\n    </tr>\n    <tr>\n      <th>date</th>\n      <th></th>\n      <th></th>\n      <th></th>\n      <th></th>\n      <th></th>\n      <th></th>\n      <th></th>\n      <th></th>\n      <th></th>\n      <th></th>\n      <th></th>\n    </tr>\n  </thead>\n  <tbody>\n    <tr>\n      <th>2016-01-04 00:00:00</th>\n      <td>3725.856</td>\n      <td>3726.245</td>\n      <td>3469.066</td>\n      <td>3468.949</td>\n      <td>115370672.0</td>\n      <td>...</td>\n      <td>3773.143</td>\n      <td>3726.205</td>\n      <td>115749635.2</td>\n      <td>145030968.0</td>\n      <td>138741052.8</td>\n    </tr>\n    <tr>\n      <th>2016-01-04 00:30:00</th>\n      <td>NaN</td>\n      <td>NaN</td>\n      <td>NaN</td>\n      <td>NaN</td>\n      <td>NaN</td>\n      <td>...</td>\n      <td>NaN</td>\n      <td>NaN</td>\n      <td>NaN</td>\n      <td>NaN</td>\n      <td>NaN</td>\n    </tr>\n    <tr>\n      <th>2016-01-04 01:00:00</th>\n      <td>NaN</td>\n      <td>NaN</td>\n      <td>NaN</td>\n      <td>NaN</td>\n      <td>NaN</td>\n      <td>...</td>\n      <td>NaN</td>\n      <td>NaN</td>\n      <td>NaN</td>\n      <td>NaN</td>\n      <td>NaN</td>\n    </tr>\n    <tr>\n      <th>2016-01-04 01:30:00</th>\n      <td>NaN</td>\n      <td>NaN</td>\n      <td>NaN</td>\n      <td>NaN</td>\n      <td>NaN</td>\n      <td>...</td>\n      <td>NaN</td>\n      <td>NaN</td>\n      <td>NaN</td>\n      <td>NaN</td>\n      <td>NaN</td>\n    </tr>\n    <tr>\n      <th>2016-01-04 02:00:00</th>\n      <td>NaN</td>\n      <td>NaN</td>\n      <td>NaN</td>\n      <td>NaN</td>\n      <td>NaN</td>\n      <td>...</td>\n      <td>NaN</td>\n      <td>NaN</td>\n      <td>NaN</td>\n      <td>NaN</td>\n      <td>NaN</td>\n    </tr>\n    <tr>\n      <th>...</th>\n      <td>...</td>\n      <td>...</td>\n      <td>...</td>\n      <td>...</td>\n      <td>...</td>\n      <td>...</td>\n      <td>...</td>\n      <td>...</td>\n      <td>...</td>\n      <td>...</td>\n      <td>...</td>\n    </tr>\n    <tr>\n      <th>2016-12-22 22:00:00</th>\n      <td>NaN</td>\n      <td>NaN</td>\n      <td>NaN</td>\n      <td>NaN</td>\n      <td>NaN</td>\n      <td>...</td>\n      <td>NaN</td>\n      <td>NaN</td>\n      <td>NaN</td>\n      <td>NaN</td>\n      <td>NaN</td>\n    </tr>\n    <tr>\n      <th>2016-12-22 22:30:00</th>\n      <td>NaN</td>\n      <td>NaN</td>\n      <td>NaN</td>\n      <td>NaN</td>\n      <td>NaN</td>\n      <td>...</td>\n      <td>NaN</td>\n      <td>NaN</td>\n      <td>NaN</td>\n      <td>NaN</td>\n      <td>NaN</td>\n    </tr>\n    <tr>\n      <th>2016-12-22 23:00:00</th>\n      <td>NaN</td>\n      <td>NaN</td>\n      <td>NaN</td>\n      <td>NaN</td>\n      <td>NaN</td>\n      <td>...</td>\n      <td>NaN</td>\n      <td>NaN</td>\n      <td>NaN</td>\n      <td>NaN</td>\n      <td>NaN</td>\n    </tr>\n    <tr>\n      <th>2016-12-22 23:30:00</th>\n      <td>NaN</td>\n      <td>NaN</td>\n      <td>NaN</td>\n      <td>NaN</td>\n      <td>NaN</td>\n      <td>...</td>\n      <td>NaN</td>\n      <td>NaN</td>\n      <td>NaN</td>\n      <td>NaN</td>\n      <td>NaN</td>\n    </tr>\n    <tr>\n      <th>2016-12-23 00:00:00</th>\n      <td>3333.400</td>\n      <td>3334.890</td>\n      <td>3307.600</td>\n      <td>3300.880</td>\n      <td>97444712.0</td>\n      <td>...</td>\n      <td>3349.948</td>\n      <td>3429.937</td>\n      <td>93437446.4</td>\n      <td>110550392.0</td>\n      <td>139164898.4</td>\n    </tr>\n  </tbody>\n</table>\n<p>16993 rows \u00d7 13 columns</p>\n</div>", 
                        "text/plain": "                         open      high     close       low       volume  \\\ndate                                                                       \n2016-01-04 00:00:00  3725.856  3726.245  3469.066  3468.949  115370672.0   \n2016-01-04 00:30:00       NaN       NaN       NaN       NaN          NaN   \n2016-01-04 01:00:00       NaN       NaN       NaN       NaN          NaN   \n2016-01-04 01:30:00       NaN       NaN       NaN       NaN          NaN   \n2016-01-04 02:00:00       NaN       NaN       NaN       NaN          NaN   \n...                       ...       ...       ...       ...          ...   \n2016-12-22 22:00:00       NaN       NaN       NaN       NaN          NaN   \n2016-12-22 22:30:00       NaN       NaN       NaN       NaN          NaN   \n2016-12-22 23:00:00       NaN       NaN       NaN       NaN          NaN   \n2016-12-22 23:30:00       NaN       NaN       NaN       NaN          NaN   \n2016-12-23 00:00:00  3333.400  3334.890  3307.600  3300.880   97444712.0   \n\n                        ...           ma10      ma20        v_ma5  \\\ndate                    ...                                         \n2016-01-04 00:00:00     ...       3773.143  3726.205  115749635.2   \n2016-01-04 00:30:00     ...            NaN       NaN          NaN   \n2016-01-04 01:00:00     ...            NaN       NaN          NaN   \n2016-01-04 01:30:00     ...            NaN       NaN          NaN   \n2016-01-04 02:00:00     ...            NaN       NaN          NaN   \n...                     ...            ...       ...          ...   \n2016-12-22 22:00:00     ...            NaN       NaN          NaN   \n2016-12-22 22:30:00     ...            NaN       NaN          NaN   \n2016-12-22 23:00:00     ...            NaN       NaN          NaN   \n2016-12-22 23:30:00     ...            NaN       NaN          NaN   \n2016-12-23 00:00:00     ...       3349.948  3429.937   93437446.4   \n\n                          v_ma10       v_ma20  \ndate                                           \n2016-01-04 00:00:00  145030968.0  138741052.8  \n2016-01-04 00:30:00          NaN          NaN  \n2016-01-04 01:00:00          NaN          NaN  \n2016-01-04 01:30:00          NaN          NaN  \n2016-01-04 02:00:00          NaN          NaN  \n...                          ...          ...  \n2016-12-22 22:00:00          NaN          NaN  \n2016-12-22 22:30:00          NaN          NaN  \n2016-12-22 23:00:00          NaN          NaN  \n2016-12-22 23:30:00          NaN          NaN  \n2016-12-23 00:00:00  110550392.0  139164898.4  \n\n[16993 rows x 13 columns]"
                    }, 
                    "output_type": "execute_result"
                }
            ], 
            "source": "goertek_resample.mean()"
        }, 
        {
            "source": "+ B, BM: This stands for business day, business month. These are the working\ndays of the month, that is, any day that is not a holiday or a weekend.\n+  D, W, M, Q, A: It stands for calendar day, week, month, quarter, year-end.\n+  H, T, S, L, U: It stands for hour, minute, second, millisecond, and\nmicrosecond.", 
            "cell_type": "markdown", 
            "metadata": {}
        }, 
        {
            "source": "### Stock datas case", 
            "cell_type": "markdown", 
            "metadata": {}
        }, 
        {
            "execution_count": 34, 
            "cell_type": "code", 
            "metadata": {}, 
            "outputs": [
                {
                    "output_type": "stream", 
                    "name": "stdout", 
                    "text": "Collecting tushare\n  Downloading https://files.pythonhosted.org/packages/c8/4c/5568165a182f81b5e9a6f5638f2fed21c3ae585b0e23b9ac8343586c5d79/tushare-1.1.7.tar.gz (153kB)\n\u001b[K    100% |\u2588\u2588\u2588\u2588\u2588\u2588\u2588\u2588\u2588\u2588\u2588\u2588\u2588\u2588\u2588\u2588\u2588\u2588\u2588\u2588\u2588\u2588\u2588\u2588\u2588\u2588\u2588\u2588\u2588\u2588\u2588\u2588| 163kB 5.3MB/s eta 0:00:011\n\u001b[?25hBuilding wheels for collected packages: tushare\n  Running setup.py bdist_wheel for tushare ... \u001b[?25ldone\n\u001b[?25h  Stored in directory: /home/dsxuser/.cache/pip/wheels/50/e2/e9/337dc45b7ef776f6fa3e5f14dd4d6d2579e2d1247f297381c4\nSuccessfully built tushare\nInstalling collected packages: tushare\nSuccessfully installed tushare-1.1.7\n"
                }
            ], 
            "source": "!pip install tushare\n\n#!pip install --force-reinstall --upgrade tushare"
        }, 
        {
            "execution_count": null, 
            "cell_type": "code", 
            "metadata": {
                "collapsed": true
            }, 
            "outputs": [], 
            "source": "#!ls -l ./"
        }, 
        {
            "execution_count": 35, 
            "cell_type": "code", 
            "metadata": {}, 
            "outputs": [], 
            "source": "import tushare as ts\nfrom datetime import datetime"
        }, 
        {
            "execution_count": 36, 
            "cell_type": "code", 
            "metadata": {}, 
            "outputs": [], 
            "source": "auto_list=['000625','600104','002594','601238']\n#auto_var=['changan','sqjt','byd','gqjt']"
        }, 
        {
            "execution_count": 39, 
            "cell_type": "code", 
            "metadata": {}, 
            "outputs": [
                {
                    "output_type": "stream", 
                    "name": "stdout", 
                    "text": "[Getting data:]timed out\n###"
                }, 
                {
                    "ename": "timeout", 
                    "evalue": "timed out", 
                    "traceback": [
                        "\u001b[0;31m---------------------------------------------------------------------------\u001b[0m", 
                        "\u001b[0;31mtimeout\u001b[0m                                   Traceback (most recent call last)", 
                        "\u001b[0;32m<ipython-input-39-2f86c1b0e894>\u001b[0m in \u001b[0;36m<module>\u001b[0;34m()\u001b[0m\n\u001b[1;32m      1\u001b[0m \u001b[0;31m#for stock,var in zip(auto_list,auto_var):\u001b[0m\u001b[0;34m\u001b[0m\u001b[0;34m\u001b[0m\u001b[0m\n\u001b[1;32m      2\u001b[0m \u001b[0;31m#    globals()[var] = ts.get_h_data(stock,'2016-01-01','2016-12-23')\u001b[0m\u001b[0;34m\u001b[0m\u001b[0;34m\u001b[0m\u001b[0m\n\u001b[0;32m----> 3\u001b[0;31m \u001b[0mchangan\u001b[0m\u001b[0;34m=\u001b[0m\u001b[0mts\u001b[0m\u001b[0;34m.\u001b[0m\u001b[0mget_h_data\u001b[0m\u001b[0;34m(\u001b[0m\u001b[0;34m'000625'\u001b[0m\u001b[0;34m,\u001b[0m\u001b[0;34m'2016-01-01'\u001b[0m\u001b[0;34m,\u001b[0m\u001b[0;34m'2016-12-23'\u001b[0m\u001b[0;34m)\u001b[0m\u001b[0;34m\u001b[0m\u001b[0m\n\u001b[0m", 
                        "\u001b[0;32m/opt/conda/envs/DSX-Python35/lib/python3.5/site-packages/tushare/stock/trading.py\u001b[0m in \u001b[0;36mget_h_data\u001b[0;34m(code, start, end, autype, index, retry_count, pause, drop_factor)\u001b[0m\n\u001b[1;32m    465\u001b[0m             \u001b[0;32mif\u001b[0m \u001b[0mdrop_factor\u001b[0m\u001b[0;34m:\u001b[0m\u001b[0;34m\u001b[0m\u001b[0m\n\u001b[1;32m    466\u001b[0m                 \u001b[0mdata\u001b[0m \u001b[0;34m=\u001b[0m \u001b[0mdata\u001b[0m\u001b[0;34m.\u001b[0m\u001b[0mdrop\u001b[0m\u001b[0;34m(\u001b[0m\u001b[0;34m'factor'\u001b[0m\u001b[0;34m,\u001b[0m \u001b[0maxis\u001b[0m \u001b[0;34m=\u001b[0m \u001b[0;36m1\u001b[0m\u001b[0;34m)\u001b[0m\u001b[0;34m\u001b[0m\u001b[0m\n\u001b[0;32m--> 467\u001b[0;31m             \u001b[0mdf\u001b[0m \u001b[0;34m=\u001b[0m \u001b[0m_parase_fq_factor\u001b[0m\u001b[0;34m(\u001b[0m\u001b[0mcode\u001b[0m\u001b[0;34m,\u001b[0m \u001b[0mstart\u001b[0m\u001b[0;34m,\u001b[0m \u001b[0mend\u001b[0m\u001b[0;34m)\u001b[0m\u001b[0;34m\u001b[0m\u001b[0m\n\u001b[0m\u001b[1;32m    468\u001b[0m             \u001b[0mdf\u001b[0m \u001b[0;34m=\u001b[0m \u001b[0mdf\u001b[0m\u001b[0;34m.\u001b[0m\u001b[0mdrop_duplicates\u001b[0m\u001b[0;34m(\u001b[0m\u001b[0;34m'date'\u001b[0m\u001b[0;34m)\u001b[0m\u001b[0;34m\u001b[0m\u001b[0m\n\u001b[1;32m    469\u001b[0m             \u001b[0mdf\u001b[0m \u001b[0;34m=\u001b[0m \u001b[0mdf\u001b[0m\u001b[0;34m.\u001b[0m\u001b[0msort_values\u001b[0m\u001b[0;34m(\u001b[0m\u001b[0;34m'date'\u001b[0m\u001b[0;34m,\u001b[0m \u001b[0mascending\u001b[0m \u001b[0;34m=\u001b[0m \u001b[0;32mFalse\u001b[0m\u001b[0;34m)\u001b[0m\u001b[0;34m\u001b[0m\u001b[0m\n", 
                        "\u001b[0;32m/opt/conda/envs/DSX-Python35/lib/python3.5/site-packages/tushare/stock/trading.py\u001b[0m in \u001b[0;36m_parase_fq_factor\u001b[0;34m(code, start, end)\u001b[0m\n\u001b[1;32m    511\u001b[0m     request = Request(ct.HIST_FQ_FACTOR_URL%(ct.P_TYPE['http'],\n\u001b[1;32m    512\u001b[0m                                              ct.DOMAINS['vsf'], symbol))\n\u001b[0;32m--> 513\u001b[0;31m     \u001b[0mtext\u001b[0m \u001b[0;34m=\u001b[0m \u001b[0murlopen\u001b[0m\u001b[0;34m(\u001b[0m\u001b[0mrequest\u001b[0m\u001b[0;34m,\u001b[0m \u001b[0mtimeout\u001b[0m\u001b[0;34m=\u001b[0m\u001b[0;36m10\u001b[0m\u001b[0;34m)\u001b[0m\u001b[0;34m.\u001b[0m\u001b[0mread\u001b[0m\u001b[0;34m(\u001b[0m\u001b[0;34m)\u001b[0m\u001b[0;34m\u001b[0m\u001b[0m\n\u001b[0m\u001b[1;32m    514\u001b[0m     \u001b[0mtext\u001b[0m \u001b[0;34m=\u001b[0m \u001b[0mtext\u001b[0m\u001b[0;34m[\u001b[0m\u001b[0;36m1\u001b[0m\u001b[0;34m:\u001b[0m\u001b[0mlen\u001b[0m\u001b[0;34m(\u001b[0m\u001b[0mtext\u001b[0m\u001b[0;34m)\u001b[0m\u001b[0;34m-\u001b[0m\u001b[0;36m1\u001b[0m\u001b[0;34m]\u001b[0m\u001b[0;34m\u001b[0m\u001b[0m\n\u001b[1;32m    515\u001b[0m     \u001b[0mtext\u001b[0m \u001b[0;34m=\u001b[0m \u001b[0mtext\u001b[0m\u001b[0;34m.\u001b[0m\u001b[0mdecode\u001b[0m\u001b[0;34m(\u001b[0m\u001b[0;34m'utf-8'\u001b[0m\u001b[0;34m)\u001b[0m \u001b[0;32mif\u001b[0m \u001b[0mct\u001b[0m\u001b[0;34m.\u001b[0m\u001b[0mPY3\u001b[0m \u001b[0;32melse\u001b[0m \u001b[0mtext\u001b[0m\u001b[0;34m\u001b[0m\u001b[0m\n", 
                        "\u001b[0;32m/opt/conda/envs/DSX-Python35/lib/python3.5/urllib/request.py\u001b[0m in \u001b[0;36murlopen\u001b[0;34m(url, data, timeout, cafile, capath, cadefault, context)\u001b[0m\n\u001b[1;32m    161\u001b[0m     \u001b[0;32melse\u001b[0m\u001b[0;34m:\u001b[0m\u001b[0;34m\u001b[0m\u001b[0m\n\u001b[1;32m    162\u001b[0m         \u001b[0mopener\u001b[0m \u001b[0;34m=\u001b[0m \u001b[0m_opener\u001b[0m\u001b[0;34m\u001b[0m\u001b[0m\n\u001b[0;32m--> 163\u001b[0;31m     \u001b[0;32mreturn\u001b[0m \u001b[0mopener\u001b[0m\u001b[0;34m.\u001b[0m\u001b[0mopen\u001b[0m\u001b[0;34m(\u001b[0m\u001b[0murl\u001b[0m\u001b[0;34m,\u001b[0m \u001b[0mdata\u001b[0m\u001b[0;34m,\u001b[0m \u001b[0mtimeout\u001b[0m\u001b[0;34m)\u001b[0m\u001b[0;34m\u001b[0m\u001b[0m\n\u001b[0m\u001b[1;32m    164\u001b[0m \u001b[0;34m\u001b[0m\u001b[0m\n\u001b[1;32m    165\u001b[0m \u001b[0;32mdef\u001b[0m \u001b[0minstall_opener\u001b[0m\u001b[0;34m(\u001b[0m\u001b[0mopener\u001b[0m\u001b[0;34m)\u001b[0m\u001b[0;34m:\u001b[0m\u001b[0;34m\u001b[0m\u001b[0m\n", 
                        "\u001b[0;32m/opt/conda/envs/DSX-Python35/lib/python3.5/urllib/request.py\u001b[0m in \u001b[0;36mopen\u001b[0;34m(self, fullurl, data, timeout)\u001b[0m\n\u001b[1;32m    464\u001b[0m             \u001b[0mreq\u001b[0m \u001b[0;34m=\u001b[0m \u001b[0mmeth\u001b[0m\u001b[0;34m(\u001b[0m\u001b[0mreq\u001b[0m\u001b[0;34m)\u001b[0m\u001b[0;34m\u001b[0m\u001b[0m\n\u001b[1;32m    465\u001b[0m \u001b[0;34m\u001b[0m\u001b[0m\n\u001b[0;32m--> 466\u001b[0;31m         \u001b[0mresponse\u001b[0m \u001b[0;34m=\u001b[0m \u001b[0mself\u001b[0m\u001b[0;34m.\u001b[0m\u001b[0m_open\u001b[0m\u001b[0;34m(\u001b[0m\u001b[0mreq\u001b[0m\u001b[0;34m,\u001b[0m \u001b[0mdata\u001b[0m\u001b[0;34m)\u001b[0m\u001b[0;34m\u001b[0m\u001b[0m\n\u001b[0m\u001b[1;32m    467\u001b[0m \u001b[0;34m\u001b[0m\u001b[0m\n\u001b[1;32m    468\u001b[0m         \u001b[0;31m# post-process response\u001b[0m\u001b[0;34m\u001b[0m\u001b[0;34m\u001b[0m\u001b[0m\n", 
                        "\u001b[0;32m/opt/conda/envs/DSX-Python35/lib/python3.5/urllib/request.py\u001b[0m in \u001b[0;36m_open\u001b[0;34m(self, req, data)\u001b[0m\n\u001b[1;32m    482\u001b[0m         \u001b[0mprotocol\u001b[0m \u001b[0;34m=\u001b[0m \u001b[0mreq\u001b[0m\u001b[0;34m.\u001b[0m\u001b[0mtype\u001b[0m\u001b[0;34m\u001b[0m\u001b[0m\n\u001b[1;32m    483\u001b[0m         result = self._call_chain(self.handle_open, protocol, protocol +\n\u001b[0;32m--> 484\u001b[0;31m                                   '_open', req)\n\u001b[0m\u001b[1;32m    485\u001b[0m         \u001b[0;32mif\u001b[0m \u001b[0mresult\u001b[0m\u001b[0;34m:\u001b[0m\u001b[0;34m\u001b[0m\u001b[0m\n\u001b[1;32m    486\u001b[0m             \u001b[0;32mreturn\u001b[0m \u001b[0mresult\u001b[0m\u001b[0;34m\u001b[0m\u001b[0m\n", 
                        "\u001b[0;32m/opt/conda/envs/DSX-Python35/lib/python3.5/urllib/request.py\u001b[0m in \u001b[0;36m_call_chain\u001b[0;34m(self, chain, kind, meth_name, *args)\u001b[0m\n\u001b[1;32m    442\u001b[0m         \u001b[0;32mfor\u001b[0m \u001b[0mhandler\u001b[0m \u001b[0;32min\u001b[0m \u001b[0mhandlers\u001b[0m\u001b[0;34m:\u001b[0m\u001b[0;34m\u001b[0m\u001b[0m\n\u001b[1;32m    443\u001b[0m             \u001b[0mfunc\u001b[0m \u001b[0;34m=\u001b[0m \u001b[0mgetattr\u001b[0m\u001b[0;34m(\u001b[0m\u001b[0mhandler\u001b[0m\u001b[0;34m,\u001b[0m \u001b[0mmeth_name\u001b[0m\u001b[0;34m)\u001b[0m\u001b[0;34m\u001b[0m\u001b[0m\n\u001b[0;32m--> 444\u001b[0;31m             \u001b[0mresult\u001b[0m \u001b[0;34m=\u001b[0m \u001b[0mfunc\u001b[0m\u001b[0;34m(\u001b[0m\u001b[0;34m*\u001b[0m\u001b[0margs\u001b[0m\u001b[0;34m)\u001b[0m\u001b[0;34m\u001b[0m\u001b[0m\n\u001b[0m\u001b[1;32m    445\u001b[0m             \u001b[0;32mif\u001b[0m \u001b[0mresult\u001b[0m \u001b[0;32mis\u001b[0m \u001b[0;32mnot\u001b[0m \u001b[0;32mNone\u001b[0m\u001b[0;34m:\u001b[0m\u001b[0;34m\u001b[0m\u001b[0m\n\u001b[1;32m    446\u001b[0m                 \u001b[0;32mreturn\u001b[0m \u001b[0mresult\u001b[0m\u001b[0;34m\u001b[0m\u001b[0m\n", 
                        "\u001b[0;32m/opt/conda/envs/DSX-Python35/lib/python3.5/urllib/request.py\u001b[0m in \u001b[0;36mhttp_open\u001b[0;34m(self, req)\u001b[0m\n\u001b[1;32m   1280\u001b[0m \u001b[0;34m\u001b[0m\u001b[0m\n\u001b[1;32m   1281\u001b[0m     \u001b[0;32mdef\u001b[0m \u001b[0mhttp_open\u001b[0m\u001b[0;34m(\u001b[0m\u001b[0mself\u001b[0m\u001b[0;34m,\u001b[0m \u001b[0mreq\u001b[0m\u001b[0;34m)\u001b[0m\u001b[0;34m:\u001b[0m\u001b[0;34m\u001b[0m\u001b[0m\n\u001b[0;32m-> 1282\u001b[0;31m         \u001b[0;32mreturn\u001b[0m \u001b[0mself\u001b[0m\u001b[0;34m.\u001b[0m\u001b[0mdo_open\u001b[0m\u001b[0;34m(\u001b[0m\u001b[0mhttp\u001b[0m\u001b[0;34m.\u001b[0m\u001b[0mclient\u001b[0m\u001b[0;34m.\u001b[0m\u001b[0mHTTPConnection\u001b[0m\u001b[0;34m,\u001b[0m \u001b[0mreq\u001b[0m\u001b[0;34m)\u001b[0m\u001b[0;34m\u001b[0m\u001b[0m\n\u001b[0m\u001b[1;32m   1283\u001b[0m \u001b[0;34m\u001b[0m\u001b[0m\n\u001b[1;32m   1284\u001b[0m     \u001b[0mhttp_request\u001b[0m \u001b[0;34m=\u001b[0m \u001b[0mAbstractHTTPHandler\u001b[0m\u001b[0;34m.\u001b[0m\u001b[0mdo_request_\u001b[0m\u001b[0;34m\u001b[0m\u001b[0m\n", 
                        "\u001b[0;32m/opt/conda/envs/DSX-Python35/lib/python3.5/urllib/request.py\u001b[0m in \u001b[0;36mdo_open\u001b[0;34m(self, http_class, req, **http_conn_args)\u001b[0m\n\u001b[1;32m   1255\u001b[0m             \u001b[0;32mexcept\u001b[0m \u001b[0mOSError\u001b[0m \u001b[0;32mas\u001b[0m \u001b[0merr\u001b[0m\u001b[0;34m:\u001b[0m \u001b[0;31m# timeout error\u001b[0m\u001b[0;34m\u001b[0m\u001b[0m\n\u001b[1;32m   1256\u001b[0m                 \u001b[0;32mraise\u001b[0m \u001b[0mURLError\u001b[0m\u001b[0;34m(\u001b[0m\u001b[0merr\u001b[0m\u001b[0;34m)\u001b[0m\u001b[0;34m\u001b[0m\u001b[0m\n\u001b[0;32m-> 1257\u001b[0;31m             \u001b[0mr\u001b[0m \u001b[0;34m=\u001b[0m \u001b[0mh\u001b[0m\u001b[0;34m.\u001b[0m\u001b[0mgetresponse\u001b[0m\u001b[0;34m(\u001b[0m\u001b[0;34m)\u001b[0m\u001b[0;34m\u001b[0m\u001b[0m\n\u001b[0m\u001b[1;32m   1258\u001b[0m         \u001b[0;32mexcept\u001b[0m\u001b[0;34m:\u001b[0m\u001b[0;34m\u001b[0m\u001b[0m\n\u001b[1;32m   1259\u001b[0m             \u001b[0mh\u001b[0m\u001b[0;34m.\u001b[0m\u001b[0mclose\u001b[0m\u001b[0;34m(\u001b[0m\u001b[0;34m)\u001b[0m\u001b[0;34m\u001b[0m\u001b[0m\n", 
                        "\u001b[0;32m/opt/conda/envs/DSX-Python35/lib/python3.5/http/client.py\u001b[0m in \u001b[0;36mgetresponse\u001b[0;34m(self)\u001b[0m\n\u001b[1;32m   1196\u001b[0m         \u001b[0;32mtry\u001b[0m\u001b[0;34m:\u001b[0m\u001b[0;34m\u001b[0m\u001b[0m\n\u001b[1;32m   1197\u001b[0m             \u001b[0;32mtry\u001b[0m\u001b[0;34m:\u001b[0m\u001b[0;34m\u001b[0m\u001b[0m\n\u001b[0;32m-> 1198\u001b[0;31m                 \u001b[0mresponse\u001b[0m\u001b[0;34m.\u001b[0m\u001b[0mbegin\u001b[0m\u001b[0;34m(\u001b[0m\u001b[0;34m)\u001b[0m\u001b[0;34m\u001b[0m\u001b[0m\n\u001b[0m\u001b[1;32m   1199\u001b[0m             \u001b[0;32mexcept\u001b[0m \u001b[0mConnectionError\u001b[0m\u001b[0;34m:\u001b[0m\u001b[0;34m\u001b[0m\u001b[0m\n\u001b[1;32m   1200\u001b[0m                 \u001b[0mself\u001b[0m\u001b[0;34m.\u001b[0m\u001b[0mclose\u001b[0m\u001b[0;34m(\u001b[0m\u001b[0;34m)\u001b[0m\u001b[0;34m\u001b[0m\u001b[0m\n", 
                        "\u001b[0;32m/opt/conda/envs/DSX-Python35/lib/python3.5/http/client.py\u001b[0m in \u001b[0;36mbegin\u001b[0;34m(self)\u001b[0m\n\u001b[1;32m    295\u001b[0m         \u001b[0;31m# read until we get a non-100 response\u001b[0m\u001b[0;34m\u001b[0m\u001b[0;34m\u001b[0m\u001b[0m\n\u001b[1;32m    296\u001b[0m         \u001b[0;32mwhile\u001b[0m \u001b[0;32mTrue\u001b[0m\u001b[0;34m:\u001b[0m\u001b[0;34m\u001b[0m\u001b[0m\n\u001b[0;32m--> 297\u001b[0;31m             \u001b[0mversion\u001b[0m\u001b[0;34m,\u001b[0m \u001b[0mstatus\u001b[0m\u001b[0;34m,\u001b[0m \u001b[0mreason\u001b[0m \u001b[0;34m=\u001b[0m \u001b[0mself\u001b[0m\u001b[0;34m.\u001b[0m\u001b[0m_read_status\u001b[0m\u001b[0;34m(\u001b[0m\u001b[0;34m)\u001b[0m\u001b[0;34m\u001b[0m\u001b[0m\n\u001b[0m\u001b[1;32m    298\u001b[0m             \u001b[0;32mif\u001b[0m \u001b[0mstatus\u001b[0m \u001b[0;34m!=\u001b[0m \u001b[0mCONTINUE\u001b[0m\u001b[0;34m:\u001b[0m\u001b[0;34m\u001b[0m\u001b[0m\n\u001b[1;32m    299\u001b[0m                 \u001b[0;32mbreak\u001b[0m\u001b[0;34m\u001b[0m\u001b[0m\n", 
                        "\u001b[0;32m/opt/conda/envs/DSX-Python35/lib/python3.5/http/client.py\u001b[0m in \u001b[0;36m_read_status\u001b[0;34m(self)\u001b[0m\n\u001b[1;32m    256\u001b[0m \u001b[0;34m\u001b[0m\u001b[0m\n\u001b[1;32m    257\u001b[0m     \u001b[0;32mdef\u001b[0m \u001b[0m_read_status\u001b[0m\u001b[0;34m(\u001b[0m\u001b[0mself\u001b[0m\u001b[0;34m)\u001b[0m\u001b[0;34m:\u001b[0m\u001b[0;34m\u001b[0m\u001b[0m\n\u001b[0;32m--> 258\u001b[0;31m         \u001b[0mline\u001b[0m \u001b[0;34m=\u001b[0m \u001b[0mstr\u001b[0m\u001b[0;34m(\u001b[0m\u001b[0mself\u001b[0m\u001b[0;34m.\u001b[0m\u001b[0mfp\u001b[0m\u001b[0;34m.\u001b[0m\u001b[0mreadline\u001b[0m\u001b[0;34m(\u001b[0m\u001b[0m_MAXLINE\u001b[0m \u001b[0;34m+\u001b[0m \u001b[0;36m1\u001b[0m\u001b[0;34m)\u001b[0m\u001b[0;34m,\u001b[0m \u001b[0;34m\"iso-8859-1\"\u001b[0m\u001b[0;34m)\u001b[0m\u001b[0;34m\u001b[0m\u001b[0m\n\u001b[0m\u001b[1;32m    259\u001b[0m         \u001b[0;32mif\u001b[0m \u001b[0mlen\u001b[0m\u001b[0;34m(\u001b[0m\u001b[0mline\u001b[0m\u001b[0;34m)\u001b[0m \u001b[0;34m>\u001b[0m \u001b[0m_MAXLINE\u001b[0m\u001b[0;34m:\u001b[0m\u001b[0;34m\u001b[0m\u001b[0m\n\u001b[1;32m    260\u001b[0m             \u001b[0;32mraise\u001b[0m \u001b[0mLineTooLong\u001b[0m\u001b[0;34m(\u001b[0m\u001b[0;34m\"status line\"\u001b[0m\u001b[0;34m)\u001b[0m\u001b[0;34m\u001b[0m\u001b[0m\n", 
                        "\u001b[0;32m/opt/conda/envs/DSX-Python35/lib/python3.5/socket.py\u001b[0m in \u001b[0;36mreadinto\u001b[0;34m(self, b)\u001b[0m\n\u001b[1;32m    574\u001b[0m         \u001b[0;32mwhile\u001b[0m \u001b[0;32mTrue\u001b[0m\u001b[0;34m:\u001b[0m\u001b[0;34m\u001b[0m\u001b[0m\n\u001b[1;32m    575\u001b[0m             \u001b[0;32mtry\u001b[0m\u001b[0;34m:\u001b[0m\u001b[0;34m\u001b[0m\u001b[0m\n\u001b[0;32m--> 576\u001b[0;31m                 \u001b[0;32mreturn\u001b[0m \u001b[0mself\u001b[0m\u001b[0;34m.\u001b[0m\u001b[0m_sock\u001b[0m\u001b[0;34m.\u001b[0m\u001b[0mrecv_into\u001b[0m\u001b[0;34m(\u001b[0m\u001b[0mb\u001b[0m\u001b[0;34m)\u001b[0m\u001b[0;34m\u001b[0m\u001b[0m\n\u001b[0m\u001b[1;32m    577\u001b[0m             \u001b[0;32mexcept\u001b[0m \u001b[0mtimeout\u001b[0m\u001b[0;34m:\u001b[0m\u001b[0;34m\u001b[0m\u001b[0m\n\u001b[1;32m    578\u001b[0m                 \u001b[0mself\u001b[0m\u001b[0;34m.\u001b[0m\u001b[0m_timeout_occurred\u001b[0m \u001b[0;34m=\u001b[0m \u001b[0;32mTrue\u001b[0m\u001b[0;34m\u001b[0m\u001b[0m\n", 
                        "\u001b[0;31mtimeout\u001b[0m: timed out"
                    ], 
                    "output_type": "error"
                }
            ], 
            "source": "#for stock,var in zip(auto_list,auto_var):\n#    globals()[var] = ts.get_h_data(stock,'2016-01-01','2016-12-23')\nchangan=ts.get_h_data('000625','2016-01-01','2016-12-23')"
        }, 
        {
            "execution_count": 38, 
            "cell_type": "code", 
            "metadata": {}, 
            "outputs": [
                {
                    "output_type": "stream", 
                    "name": "stdout", 
                    "text": "[Getting data:]###"
                }
            ], 
            "source": "sqjt=ts.get_h_data('600104','2016-01-01','2016-12-23')"
        }, 
        {
            "execution_count": null, 
            "cell_type": "code", 
            "metadata": {}, 
            "outputs": [], 
            "source": "byd=ts.get_h_data('002594','2016-01-01','2016-12-23')"
        }, 
        {
            "execution_count": null, 
            "cell_type": "code", 
            "metadata": {}, 
            "outputs": [], 
            "source": "gqjt=ts.get_h_data('601238','2016-01-01','2016-12-23')"
        }, 
        {
            "execution_count": null, 
            "cell_type": "code", 
            "metadata": {}, 
            "outputs": [], 
            "source": "#changan=pd.read_csv('../data/changan.csv',index_col='date',parse_dates=True)\nchangan.head()"
        }, 
        {
            "execution_count": null, 
            "cell_type": "code", 
            "metadata": {
                "scrolled": true
            }, 
            "outputs": [], 
            "source": "changan.describe()"
        }, 
        {
            "execution_count": null, 
            "cell_type": "code", 
            "metadata": {
                "scrolled": true
            }, 
            "outputs": [], 
            "source": "changan.info()"
        }, 
        {
            "execution_count": null, 
            "cell_type": "code", 
            "metadata": {}, 
            "outputs": [], 
            "source": "changan['close'].plot(legend=True,figsize=(10,4))"
        }, 
        {
            "execution_count": null, 
            "cell_type": "code", 
            "metadata": {}, 
            "outputs": [], 
            "source": "changan['volume'].plot(legend=True,figsize=(10,4))"
        }, 
        {
            "execution_count": null, 
            "cell_type": "code", 
            "metadata": {
                "collapsed": true
            }, 
            "outputs": [], 
            "source": "ma_day = [10,20,50]\n\nfor ma in ma_day:\n    column_name = \"MA for %s days\" %(str(ma))\n    changan[column_name] = changan['close'].rolling(window=ma).mean()\n    #changan[column_name] = pd.rolling_mean(changan['close'],ma)"
        }, 
        {
            "execution_count": null, 
            "cell_type": "code", 
            "metadata": {}, 
            "outputs": [], 
            "source": "changan[['close','MA for 10 days','MA for 20 days','MA for 50 days']].plot(subplots=False,figsize=(10,4))"
        }, 
        {
            "execution_count": null, 
            "cell_type": "code", 
            "metadata": {}, 
            "outputs": [], 
            "source": "changan['Daily Return'] = changan['close'].pct_change()\nchangan['Daily Return'].plot(figsize=(10,4),legend=True,linestyle='--',marker='o')\n"
        }, 
        {
            "execution_count": null, 
            "cell_type": "code", 
            "metadata": {}, 
            "outputs": [], 
            "source": "sns.distplot(changan['Daily Return'].dropna(),bins=100, color = 'purple');"
        }, 
        {
            "execution_count": null, 
            "cell_type": "code", 
            "metadata": {}, 
            "outputs": [], 
            "source": "changan['Daily Return'].hist(bins=100)"
        }, 
        {
            "execution_count": null, 
            "cell_type": "code", 
            "metadata": {
                "collapsed": true
            }, 
            "outputs": [], 
            "source": "#gqjt=pd.read_csv('../data/gqjt_2016.csv',index_col='date',parse_dates=True)"
        }, 
        {
            "execution_count": null, 
            "cell_type": "code", 
            "metadata": {
                "collapsed": true
            }, 
            "outputs": [], 
            "source": "closing_df = pd.DataFrame({'changan':changan['close'],'gqjt':gqjt['close'],'byd':byd['close']})"
        }, 
        {
            "execution_count": null, 
            "cell_type": "code", 
            "metadata": {}, 
            "outputs": [], 
            "source": "closing_df.head()"
        }, 
        {
            "execution_count": null, 
            "cell_type": "code", 
            "metadata": {
                "collapsed": true
            }, 
            "outputs": [], 
            "source": "auto_rets = closing_df.pct_change()"
        }, 
        {
            "execution_count": null, 
            "cell_type": "code", 
            "metadata": {}, 
            "outputs": [], 
            "source": "auto_rets.head()"
        }, 
        {
            "execution_count": null, 
            "cell_type": "code", 
            "metadata": {}, 
            "outputs": [], 
            "source": "sns.jointplot('changan','changan',auto_rets,\n              kind='scatter',color = 'seagreen')"
        }, 
        {
            "execution_count": null, 
            "cell_type": "code", 
            "metadata": {}, 
            "outputs": [], 
            "source": "sns.jointplot('changan','byd',auto_rets,kind='scatter')"
        }, 
        {
            "execution_count": null, 
            "cell_type": "code", 
            "metadata": {}, 
            "outputs": [], 
            "source": "sns.pairplot(auto_rets.dropna())"
        }, 
        {
            "execution_count": null, 
            "cell_type": "code", 
            "metadata": {}, 
            "outputs": [], 
            "source": "# sns.corrplot(closing_df,annot=True)\nsns.heatmap(closing_df,annot=True)"
        }, 
        {
            "execution_count": null, 
            "cell_type": "code", 
            "metadata": {}, 
            "outputs": [], 
            "source": "corr=closing_df.corr()\ncorr"
        }, 
        {
            "execution_count": null, 
            "cell_type": "code", 
            "metadata": {}, 
            "outputs": [], 
            "source": "sns.heatmap(corr,annot=True)"
        }, 
        {
            "execution_count": null, 
            "cell_type": "code", 
            "metadata": {
                "collapsed": true
            }, 
            "outputs": [], 
            "source": "sns.heatmap?"
        }
    ], 
    "metadata": {
        "kernelspec": {
            "display_name": "Python 3.5", 
            "name": "python3", 
            "language": "python"
        }, 
        "language_info": {
            "mimetype": "text/x-python", 
            "nbconvert_exporter": "python", 
            "version": "3.5.4", 
            "name": "python", 
            "file_extension": ".py", 
            "pygments_lexer": "ipython3", 
            "codemirror_mode": {
                "version": 3, 
                "name": "ipython"
            }
        }, 
        "anaconda-cloud": {}
    }, 
    "nbformat": 4
}